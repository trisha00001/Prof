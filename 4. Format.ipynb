{
 "cells": [
  {
   "cell_type": "markdown",
   "metadata": {},
   "source": [
    "<a id='p10'></a>\n",
    "# Стиль C"
   ]
  },
  {
   "cell_type": "code",
   "execution_count": 2,
   "metadata": {},
   "outputs": [
    {
     "name": "stdout",
     "output_type": "stream",
     "text": [
      "The value of x is 12.85 . bhhhhhhhjjuj\n",
      "The value of x is 5.00\n"
     ]
    }
   ],
   "source": [
    "x = 12.851789\n",
    "y = 5\n",
    "print('The value of x is %.2f . bhhhhhhhjjuj' %x)\n",
    "print('The value of x is %.2f' %y)\n"
   ]
  },
  {
   "cell_type": "code",
   "execution_count": 2,
   "metadata": {},
   "outputs": [
    {
     "name": "stdout",
     "output_type": "stream",
     "text": [
      "Welcome Python\n"
     ]
    }
   ],
   "source": [
    "str1 = 'Python'\n",
    "print(\"Welcome %s\" % str1)"
   ]
  },
  {
   "cell_type": "code",
   "execution_count": 3,
   "metadata": {},
   "outputs": [
    {
     "name": "stdout",
     "output_type": "stream",
     "text": [
      "Actual Number = 15\n"
     ]
    }
   ],
   "source": [
    "print(\"Actual Number = %d\" %15)"
   ]
  },
  {
   "cell_type": "code",
   "execution_count": 4,
   "metadata": {},
   "outputs": [
    {
     "name": "stdout",
     "output_type": "stream",
     "text": [
      "Exponential equivalent of the number = 1.500000e+01\n"
     ]
    }
   ],
   "source": [
    "print(\"Exponential equivalent of the number = %e\" %15)"
   ]
  },
  {
   "cell_type": "code",
   "execution_count": 5,
   "metadata": {},
   "outputs": [
    {
     "name": "stdout",
     "output_type": "stream",
     "text": [
      "Float of the number = 15.00\n"
     ]
    }
   ],
   "source": [
    "print(\"Float of the number = %.2f\" %15)"
   ]
  },
  {
   "cell_type": "code",
   "execution_count": 6,
   "metadata": {},
   "outputs": [
    {
     "name": "stdout",
     "output_type": "stream",
     "text": [
      "Octal equivalent of the number = 17\n"
     ]
    }
   ],
   "source": [
    "print(\"Octal equivalent of the number = %o\" %15)"
   ]
  },
  {
   "cell_type": "code",
   "execution_count": 4,
   "metadata": {},
   "outputs": [
    {
     "name": "stdout",
     "output_type": "stream",
     "text": [
      "Hexadecimal equivalent of the number = F\n"
     ]
    }
   ],
   "source": [
    "print(\"Hexadecimal equivalent of the number = %X\" %15)"
   ]
  },
  {
   "cell_type": "code",
   "execution_count": 2,
   "metadata": {},
   "outputs": [
    {
     "name": "stdout",
     "output_type": "stream",
     "text": [
      "15.000000\n",
      "16.000000\n"
     ]
    }
   ],
   "source": [
    "print(\"%f\\n%f\" % (15, 16))\n"
   ]
  },
  {
   "cell_type": "code",
   "execution_count": 8,
   "metadata": {},
   "outputs": [
    {
     "name": "stdout",
     "output_type": "stream",
     "text": [
      "Python World :\n"
     ]
    }
   ],
   "source": [
    "str1 = 'World'\n",
    "str2 = ':'\n",
    "print(\"Python %s %s\" %(str1,str2))"
   ]
  },
  {
   "cell_type": "code",
   "execution_count": 9,
   "metadata": {},
   "outputs": [
    {
     "name": "stdout",
     "output_type": "stream",
     "text": [
      "Welcome to %Python language\n"
     ]
    }
   ],
   "source": [
    "print(\"Welcome to %%Python %s\" %'language')"
   ]
  },
  {
   "cell_type": "code",
   "execution_count": 5,
   "metadata": {},
   "outputs": [
    {
     "name": "stdout",
     "output_type": "stream",
     "text": [
      "Sunday\n",
      "Monday\n",
      "Tuesday\n",
      "Wednesday\n",
      "Thursday\n",
      "Friday\n",
      "Saturday\n"
     ]
    }
   ],
   "source": [
    "print(\"Sunday\\nMonday\\nTuesday\\nWednesday\\nThursday\\nFriday\\nSaturday\")\n"
   ]
  },
  {
   "cell_type": "code",
   "execution_count": 6,
   "metadata": {},
   "outputs": [
    {
     "name": "stdout",
     "output_type": "stream",
     "text": [
      "hghyyhhjjh \n",
      " yhhyhyyh\n"
     ]
    }
   ],
   "source": [
    "print(\"hghyyhhjjh \\n yhhyhyyh\")"
   ]
  },
  {
   "cell_type": "code",
   "execution_count": 8,
   "metadata": {},
   "outputs": [
    {
     "name": "stdout",
     "output_type": "stream",
     "text": [
      "hghyyhhjjh \n",
      "yhhyhyyh\n"
     ]
    }
   ],
   "source": [
    "print(\"\"\"hghyyhhjjh \n",
    "yhhyhyyh\"\"\")"
   ]
  },
  {
   "cell_type": "code",
   "execution_count": 7,
   "metadata": {},
   "outputs": [
    {
     "name": "stdout",
     "output_type": "stream",
     "text": [
      "\n",
      "Language:\n",
      "\t1 Python\n",
      "\t2 Java\n",
      "\t3 JavaScript\n",
      "\n"
     ]
    }
   ],
   "source": [
    "print(\"\"\"\n",
    "Language:\n",
    "\\t1 Python\n",
    "\\t2 Java\\n\\t3 JavaScript\n",
    "\"\"\")"
   ]
  },
  {
   "cell_type": "code",
   "execution_count": 9,
   "metadata": {},
   "outputs": [
    {
     "name": "stdout",
     "output_type": "stream",
     "text": [
      "Language:\n",
      "\t1 Python\n",
      "\t2 Java\n",
      "\t3 JavaScript\n",
      "\n"
     ]
    }
   ],
   "source": [
    "print(\"Language:\\n\\t1 Python\\n\\t2 Java\\n\\t3 JavaScript\\n\"\"\")"
   ]
  },
  {
   "cell_type": "code",
   "execution_count": 11,
   "metadata": {},
   "outputs": [
    {
     "name": "stdout",
     "output_type": "stream",
     "text": [
      "fg  I'm  fggggg gghgt\n"
     ]
    }
   ],
   "source": [
    "print(\"fg  I'm  fggggg gghgt\")"
   ]
  },
  {
   "cell_type": "code",
   "execution_count": 12,
   "metadata": {},
   "outputs": [
    {
     "name": "stdout",
     "output_type": "stream",
     "text": [
      "fg  I'm  fggggg gghgt\n"
     ]
    }
   ],
   "source": [
    "print('fg  I\\'m  fggggg gghgt')"
   ]
  },
  {
   "cell_type": "code",
   "execution_count": 18,
   "metadata": {},
   "outputs": [
    {
     "name": "stdout",
     "output_type": "stream",
     "text": [
      "5.123457\n",
      "5.12\n",
      "        5.12346\n"
     ]
    }
   ],
   "source": [
    "print(\"%f\" % 5.1234567890)\n",
    "print(\"%.2f\" % 5.1234567890)\n",
    "print(\"%15.5f\" % 5.1234567890)\n"
   ]
  },
  {
   "cell_type": "code",
   "execution_count": 25,
   "metadata": {},
   "outputs": [
    {
     "name": "stdout",
     "output_type": "stream",
     "text": [
      "000000005.12346\n",
      "    5.123457\n",
      " 5.123457\n",
      "  +5.1235\n"
     ]
    }
   ],
   "source": [
    "print(\"%015.5f\" % 5.1234567890)\n",
    "print(\"% 12f\" % 5.1234567890)\n",
    "print(\"%9f\" % 5.1234567890)\n",
    "print(\"%+9.4f\" % 5.1234567890)"
   ]
  },
  {
   "cell_type": "code",
   "execution_count": 29,
   "metadata": {},
   "outputs": [
    {
     "name": "stdout",
     "output_type": "stream",
     "text": [
      "Привет,  Твой баланс 2.34. Пополните баланс на сумму 5.7. И ррнгпин 10\n"
     ]
    }
   ],
   "source": [
    "print('Привет,  Твой баланс {:.2f}. Пополните баланс на сумму {:.1f}. И ррнгпин {:d}'.format(2.33644, 5.666666999,10))"
   ]
  },
  {
   "cell_type": "markdown",
   "metadata": {},
   "source": [
    "<a id='p9'></a>\n",
    "# format()"
   ]
  },
  {
   "cell_type": "markdown",
   "metadata": {},
   "source": [
    "### Параметры format()\n",
    "Метод format() принимает любое количество параметров. Но они делятся на два вида:\n",
    "\n",
    "- Позиционные аргументы — список параметров, доступ к которым можно получить по индексу параметра в фигурных скобках {индекс}.\n",
    "- Параметры — ключевые слова — список параметров типа ключ=значение, доступ к которым можно получить с помощью ключа параметра в фигурных скобках {ключ}.\n"
   ]
  },
  {
   "cell_type": "markdown",
   "metadata": {},
   "source": [
    "### Для позиционных аргументов"
   ]
  },
  {
   "cell_type": "markdown",
   "metadata": {},
   "source": [
    "![xkcd_python](https://pythonru.com/wp-content/uploads/2020/01/format-dlya-pozicionnyh-argumentov.jpg)"
   ]
  },
  {
   "cell_type": "code",
   "execution_count": 30,
   "metadata": {},
   "outputs": [
    {
     "name": "stdout",
     "output_type": "stream",
     "text": [
      "\n",
      "--- Default Order ---\n",
      "John, Bill and Sean\n"
     ]
    }
   ],
   "source": [
    "# Python string format() method\n",
    "\n",
    "# default(implicit) order\n",
    "default_order = \"{}, {} and {}\".format('John','Bill','Sean')\n",
    "print('\\n--- Default Order ---')\n",
    "print(default_order)\n",
    "\n",
    "\n",
    "\n"
   ]
  },
  {
   "cell_type": "code",
   "execution_count": 9,
   "metadata": {},
   "outputs": [
    {
     "name": "stdout",
     "output_type": "stream",
     "text": [
      "\n",
      "--- Positional Order ---\n",
      " John, Bill and Sean. \n"
     ]
    }
   ],
   "source": [
    "# order using positional argument\n",
    "positional_order = \" {0}, {1} and {2}. \".format('John','Bill','Sean')\n",
    "print('\\n--- Positional Order ---')\n",
    "print(positional_order)"
   ]
  },
  {
   "cell_type": "markdown",
   "metadata": {},
   "source": [
    "### Для аргументов-ключевых слов"
   ]
  },
  {
   "cell_type": "code",
   "execution_count": 34,
   "metadata": {},
   "outputs": [
    {
     "name": "stdout",
     "output_type": "stream",
     "text": [
      "\n",
      "--- Keyword Order ---\n",
      "Имена нашей команд Sean, Bill and John\n"
     ]
    }
   ],
   "source": [
    "# order using keyword argument\n",
    "keyword_order = \"Имена нашей команд {n3}, {n2} and {n1}\".format(n1='John',n2='Bill',n3='Sean')\n",
    "print('\\n--- Keyword Order ---')\n",
    "print(keyword_order)\n"
   ]
  },
  {
   "cell_type": "markdown",
   "metadata": {},
   "source": [
    "![xkcd_python](https://pythonru.com/wp-content/uploads/2020/01/format-dlya-argumentov-klyuchevyh-slov.jpg)"
   ]
  },
  {
   "cell_type": "code",
   "execution_count": 42,
   "metadata": {},
   "outputs": [
    {
     "name": "stdout",
     "output_type": "stream",
     "text": [
      "1, bar and 3.14\n",
      "1, bar, 3.14, and bar\n",
      "3.14, 1, 3.14, and bar\n",
      "X value is: 2. Y value is: 3.\n"
     ]
    }
   ],
   "source": [
    "foo = 1  # Задаем значения переменных\n",
    "bar = 'bar'  # Задаем значения переменных\n",
    "baz = 3.14  # Задаем значения переменных\n",
    "print('{}, {} and {}'.format(foo, bar, baz)) # Пары в скобках заменяются аргументами в порядке их передачи \"1, bar and 3.14\"\n",
    "print('{0}, {1}, {2}, and {1}'.format(foo, bar, baz)) # Номера соответствуют индексам аргументов : \"1, bar, 3.14, and bar\" \n",
    "print('{2}, {0}, {2}, and {1}'.format(foo, bar, baz)) # Номера соответствуют индексам аргументов \n",
    "#print('{0}, {1}, {2}, and {3}'.format(foo, bar, baz))  выдает ошибку так как индекс 3 не существует\n",
    "print(\"X value is: {xx}. Y value is: {yyl}.\".format(xx=2, yyl=3)) # Можно использовать именованные аргументы \n"
   ]
  },
  {
   "cell_type": "code",
   "execution_count": 1,
   "metadata": {},
   "outputs": [
    {
     "name": "stdout",
     "output_type": "stream",
     "text": [
      "$$$$$$$$$$$$$$$$centered$$$$$$$$$$$$$$$$\n",
      "The number is:123\n",
      "The float number is:123.456790\n"
     ]
    }
   ],
   "source": [
    "# аргументы по умолчанию                                                                                                                                                                                 print(\"Hello {}, your balance is {}.\".format(\"Adam\", 230.2346)) \n",
    " # позиционные аргументы                                                                                                                                                                                      print(\"Hello {0}, your balance is {1}.\".format(\"Adam\", 230.2346)) \n",
    " # аргументы ключевые слова                                                                                                                                                                                print(\"Hello {name}, your balance is {blc}.\".format(name=\"Adam\", blc=230.2346)) \n",
    " # смешанные аргументы                                                                                                                                                                                       print(\"Hello {0}, your balance is {blc}.\".format(\"Adam\", blc=230.2346))\n",
    "print('{:$^40}'.format('centered')) #вы можете также включать в спецификацию формата внутри фигурных скобок.                                                                                           #Это выражение , которое следует , и особые правила должны предшествовать двоеточие ( : ).                                                                      # :~^20 ( ^ означает выравнивание по центру, общая ширина 20, подстановка символа ~ )\n",
    "\n",
    "# целочисленные аргументы\n",
    "print(\"The number is:{:d}\".format(123))\n",
    "\n",
    " # аргументы с плавающей точкой\n",
    "print(\"The float number is:{:f}\".format(123.4567898))\n",
    "\n"
   ]
  },
  {
   "cell_type": "code",
   "execution_count": 13,
   "metadata": {},
   "outputs": [
    {
     "name": "stdout",
     "output_type": "stream",
     "text": [
      "bin: 1100, oct: 14, hex: c\n",
      "bin: 1111, oct: 17, hex: F\n",
      "        12\n"
     ]
    }
   ],
   "source": [
    " # восьмеричный, двоичный и шестнадцатеричный формат\n",
    "print(\"bin: {0:b}, oct: {0:o}, hex: {0:x}\".format(12))\n",
    "print(\"bin: {0:b}, oct: {0:o}, hex: {0:X}\".format(15))\n",
    "# целые числа с выравниванием по правому краю\n",
    "print(\"{:10d}\".format(12))\n",
    "\n",
    " "
   ]
  },
  {
   "cell_type": "code",
   "execution_count": 15,
   "metadata": {},
   "outputs": [
    {
     "name": "stdout",
     "output_type": "stream",
     "text": [
      "  12.235  \n",
      "12000\n",
      "-     12.235\n"
     ]
    }
   ],
   "source": [
    "# числа с плавающей точкой с выравниванием по центру\n",
    "print(\"{:^10.3f}\".format(12.2346))\n",
    "\n",
    " # выравнивание целого числа по левому краю заполнено нулями\n",
    "print(\"{:<05d}\".format(12))\n",
    "\n",
    " # числа с плавающей точкой с выравниванием по центру\n",
    "print(\"{:=12.3f}\".format(-12.2346))\n",
    "\n"
   ]
  },
  {
   "cell_type": "code",
   "execution_count": 51,
   "metadata": {},
   "outputs": [
    {
     "name": "stdout",
     "output_type": "stream",
     "text": [
      "+12.230000 -12.230000\n",
      "12.230000 -12.230000\n",
      " 12.230000 -12.230000\n"
     ]
    }
   ],
   "source": [
    "# показать знак +\n",
    "print(\"{:+f} {:+f}\".format(12.23, -12.23))\n",
    "\n",
    " # показать знак -\n",
    "print(\"{:-f} {:-f}\".format(12.23, -12.23))\n",
    " # показать место для знака +\n",
    "print(\"{: f} {: f}\".format(12.23, -12.23))\n"
   ]
  },
  {
   "cell_type": "code",
   "execution_count": 16,
   "metadata": {},
   "outputs": [
    {
     "name": "stdout",
     "output_type": "stream",
     "text": [
      "cat  \n",
      "  cat\n",
      " cat \n",
      "**cat**\n"
     ]
    }
   ],
   "source": [
    "# отступ строки с выравниванием по левому краю\n",
    "print(\"{:5}\".format(\"cat\"))\n",
    " # отступ строки с выравниванием по правому краю\n",
    "print(\"{:>5}\".format(\"cat\"))\n",
    " # заполнение строк с выравниванием по центру\n",
    "print(\"{:^5}\".format(\"cat\"))\n",
    " # заполнение строк с выравниванием по центру # и '*' - символ заполнения\n",
    "print(\"{:*^7}\".format(\"cat\"))"
   ]
  },
  {
   "cell_type": "markdown",
   "metadata": {},
   "source": [
    "<a id='p11'></a>\n",
    "# f - строки"
   ]
  },
  {
   "cell_type": "markdown",
   "metadata": {},
   "source": [
    "Каждая инструкция f-строки состоит из двух частей: символа f (или F) и строки, которую нужно форматировать. Строка должна быть в одинарных, двойных или тройных кавычках."
   ]
  },
  {
   "cell_type": "code",
   "execution_count": 17,
   "metadata": {},
   "outputs": [],
   "source": [
    "type_of_site=\"integer\""
   ]
  },
  {
   "cell_type": "code",
   "execution_count": 20,
   "metadata": {},
   "outputs": [],
   "source": [
    "x=2"
   ]
  },
  {
   "cell_type": "code",
   "execution_count": 23,
   "metadata": {},
   "outputs": [
    {
     "name": "stdout",
     "output_type": "stream",
     "text": [
      "2 это integer.\n"
     ]
    }
   ],
   "source": [
    "print(\"{} это {}.\".format(x, type_of_site))"
   ]
  },
  {
   "cell_type": "code",
   "execution_count": 24,
   "metadata": {},
   "outputs": [
    {
     "name": "stdout",
     "output_type": "stream",
     "text": [
      "2 это integer.\n"
     ]
    }
   ],
   "source": [
    "print(f\"{x} это {type_of_site}.\")"
   ]
  },
  {
   "cell_type": "code",
   "execution_count": 8,
   "metadata": {},
   "outputs": [
    {
     "name": "stdout",
     "output_type": "stream",
     "text": [
      "Ответ для числа а равного 5.79\n"
     ]
    }
   ],
   "source": [
    "a = 5.789992\n",
    "print(f\"Ответ для числа а равного {a:.2f}\")"
   ]
  },
  {
   "cell_type": "code",
   "execution_count": 27,
   "metadata": {},
   "outputs": [
    {
     "name": "stdout",
     "output_type": "stream",
     "text": [
      "Ответ для числа а равного 5.79\n"
     ]
    }
   ],
   "source": [
    "a = 5.789992\n",
    "print(\"Ответ для числа а равного\", round(a,2))"
   ]
  },
  {
   "cell_type": "code",
   "execution_count": 30,
   "metadata": {},
   "outputs": [
    {
     "name": "stdout",
     "output_type": "stream",
     "text": [
      "Ответ для числа а равного 5.79\n"
     ]
    }
   ],
   "source": [
    "a = 5.789992\n",
    "print(\"Ответ для числа а равного \"+ str(round(a,2)))"
   ]
  },
  {
   "cell_type": "code",
   "execution_count": null,
   "metadata": {},
   "outputs": [],
   "source": []
  },
  {
   "cell_type": "code",
   "execution_count": 49,
   "metadata": {},
   "outputs": [
    {
     "name": "stdout",
     "output_type": "stream",
     "text": [
      "1 - ое3\n",
      "2 - ое4\n",
      "3 - ое6\n",
      "3+4+6=13\n",
      "3*4*6=72\n",
      "(3+4+6)/3=4.333\n"
     ]
    }
   ],
   "source": [
    "a = int(input())\n",
    "b = int(input())\n",
    "c = int(input())\n",
    "print(f'{a}+{b}+{c}={a+b+c}')\n",
    "print(f'{a}*{b}*{c}={a*b*c}')\n",
    "print(f'({a}+{b}+{c})/3={(a+b+c)/3:.3f}')"
   ]
  },
  {
   "cell_type": "markdown",
   "metadata": {},
   "source": [
    "Напишите программу, которая возводит введенное число в степень 10.\n",
    "\n",
    "Входные данные\n",
    "\n",
    "Входная строка содержит единственное вещественное число в диапазоне от 0 до 8.\n",
    "\n",
    "Выходные данные\n",
    "\n",
    "Нужно вывести 10-ю степень полученного числа с тремя знаками в дробной части. "
   ]
  },
  {
   "cell_type": "code",
   "execution_count": 50,
   "metadata": {},
   "outputs": [
    {
     "name": "stdout",
     "output_type": "stream",
     "text": [
      "2\n",
      "1024.000\n"
     ]
    }
   ],
   "source": [
    "a = float(input(\"Веедите число\"))\n",
    "t = a**10\n",
    "print(\"%.3f\" %t)"
   ]
  },
  {
   "cell_type": "code",
   "execution_count": 51,
   "metadata": {},
   "outputs": [
    {
     "name": "stdout",
     "output_type": "stream",
     "text": [
      "2\n",
      "1024.000\n"
     ]
    }
   ],
   "source": [
    "a = float(input(\"Веедите число\"))\n",
    "t = a**10\n",
    "print(\"{:.3f}\".format(t))"
   ]
  },
  {
   "cell_type": "code",
   "execution_count": 31,
   "metadata": {},
   "outputs": [
    {
     "name": "stdout",
     "output_type": "stream",
     "text": [
      "Веедите число2\n",
      "1024.000\n"
     ]
    }
   ],
   "source": [
    "a = float(input(\"Веедите число\"))\n",
    "print(f\"{a**10:.3f}\")"
   ]
  },
  {
   "cell_type": "code",
   "execution_count": 33,
   "metadata": {},
   "outputs": [
    {
     "name": "stdout",
     "output_type": "stream",
     "text": [
      "зщг\n",
      "з*щ*г\n"
     ]
    }
   ],
   "source": [
    "a = input()\n",
    "print('*'.join(a))"
   ]
  },
  {
   "cell_type": "code",
   "execution_count": 53,
   "metadata": {},
   "outputs": [
    {
     "name": "stdout",
     "output_type": "stream",
     "text": [
      "1\n",
      "0\n",
      "5\n",
      "0\n",
      "Ваша сдача составляет 4 руб. 0 коп.\n"
     ]
    }
   ],
   "source": [
    "a = int(input())\n",
    "b = int(input())\n",
    "c = int(input())\n",
    "d = int(input())\n",
    "e= c*100+d - a*100-b\n",
    "print(\"Ваша сдача составляет %d руб. %d коп.\"%(e//100,e%100))"
   ]
  },
  {
   "cell_type": "code",
   "execution_count": 54,
   "metadata": {},
   "outputs": [
    {
     "name": "stdout",
     "output_type": "stream",
     "text": [
      "1\n",
      "0\n",
      "5\n",
      "0\n",
      "Ваша сдача составляет 4 руб. 0 коп.\n"
     ]
    }
   ],
   "source": [
    "a = int(input())\n",
    "b = int(input())\n",
    "c = int(input())\n",
    "d = int(input())\n",
    "e= c*100+d - a*100-b\n",
    "print(\"Ваша сдача составляет {:d} руб. {:d} коп.\".format(e//100,e%100))"
   ]
  },
  {
   "cell_type": "code",
   "execution_count": 55,
   "metadata": {},
   "outputs": [
    {
     "name": "stdout",
     "output_type": "stream",
     "text": [
      "1\n",
      "0\n",
      "5\n",
      "0\n",
      "Ваша сдача составляет 4 руб. 0 коп.\n"
     ]
    }
   ],
   "source": [
    "a = int(input())\n",
    "b = int(input())\n",
    "c = int(input())\n",
    "d = int(input())\n",
    "e= c*100+d - a*100-b\n",
    "print(f\"Ваша сдача составляет {e//100:d} руб. {e%100:d} коп.\")"
   ]
  },
  {
   "cell_type": "markdown",
   "metadata": {},
   "source": [
    "Напишите программу, которая вводит трёхзначное число и разбивает его на цифры. Например, при вводе числа 123 программа должна вывести «1 2 3». \n",
    "\n",
    "Входные данные\n",
    "\n",
    "Входная строка содержит одно трёхзначное число.\n",
    "\n",
    "Выходные данные\n",
    "\n",
    "Программа должна вывести три цифры переданного ей числа, начиная с первой, разделённые пробелами."
   ]
  },
  {
   "cell_type": "code",
   "execution_count": 8,
   "metadata": {},
   "outputs": [
    {
     "name": "stdout",
     "output_type": "stream",
     "text": [
      "uyuuu\n",
      "u*y*u*u*u\n"
     ]
    }
   ],
   "source": [
    "a = input()\n",
    "print('*'.join(a))"
   ]
  },
  {
   "cell_type": "markdown",
   "metadata": {},
   "source": [
    "Напишите программу, которая находит сумму, произведение и среднее арифметическое трёх целых чисел, введённых с клавиатуры.\n",
    "\n",
    "Входные данные\n",
    "\n",
    "Три целых числа вводятся c новой строчки.\n",
    "\n",
    "Выходные данные\n",
    "\n",
    "Программа должна вывести сумму, произведение и среднее арифметическое введенных чисел. Среднее арифметическое нужно вывести с точностью 3 знака после десятичной"
   ]
  },
  {
   "cell_type": "markdown",
   "metadata": {},
   "source": [
    "4\n",
    "5\n",
    "7\n",
    "\n",
    "Выходные значения\n",
    "\n",
    "4+5+7=16\n",
    "4*5*7=140\n",
    "(4+5+7)/3=5.333"
   ]
  },
  {
   "cell_type": "code",
   "execution_count": 36,
   "metadata": {},
   "outputs": [
    {
     "name": "stdout",
     "output_type": "stream",
     "text": [
      "4\n",
      "9\n",
      "36\n",
      "4+9+36=49\n",
      "4*9*36=1296\n",
      "(4+9+36)/3=16.333\n"
     ]
    }
   ],
   "source": [
    "x = int(input())\n",
    "y = int(input())\n",
    "z = int(input())\n",
    "print(\"%d+%d+%d=%d\" % (x, y, z, (x+y+z)))\n",
    "print(\"%d*%d*%d=%d\" % (x, y, z, (x*y*z)))\n",
    "print(\"(%d+%d+%d)/3=%.3f\" % (x, y, z, (x+y+z)/3))"
   ]
  },
  {
   "cell_type": "code",
   "execution_count": 38,
   "metadata": {},
   "outputs": [
    {
     "name": "stdout",
     "output_type": "stream",
     "text": [
      "5\n",
      "9\n",
      "7\n",
      "5+9+7=21\n",
      "5*9*7=315\n",
      "(5+9+7)/3=7.000\n"
     ]
    }
   ],
   "source": [
    "a = int(input())\n",
    "b = int(input())\n",
    "c = int(input())\n",
    "print(f\"{a}+{b}+{c}={a+b+c}\")\n",
    "print(f\"{a}*{b}*{c}={a*b*c}\")\n",
    "print(f\"({a}+{b}+{c})/3={(a+b+c)/3:.3f}\")"
   ]
  },
  {
   "cell_type": "code",
   "execution_count": 40,
   "metadata": {},
   "outputs": [
    {
     "name": "stdout",
     "output_type": "stream",
     "text": [
      "5\n",
      "9\n",
      "6\n",
      "4+9+36=49\n",
      "4*9*36=1296\n",
      "(4+9+36)/3=16.333\n"
     ]
    }
   ],
   "source": [
    "a = int(input())\n",
    "b = int(input())\n",
    "c = int(input())\n",
    "print(\"{}+{}+{}={}\".format(x, y, z, (x+y+z)))\n",
    "print(\"{}*{}*{}={}\".format(x, y, z, (x*y*z)))\n",
    "print(\"({}+{}+{})/3={:.3f}\".format(x, y, z, (x+y+z)/3))"
   ]
  },
  {
   "cell_type": "code",
   "execution_count": 13,
   "metadata": {},
   "outputs": [
    {
     "name": "stdout",
     "output_type": "stream",
     "text": [
      "5\n",
      "6\n",
      "5\n",
      "5+6+5=16\n",
      "5*6*5=150\n",
      "(5+6+5)/3=5.333\n"
     ]
    }
   ],
   "source": [
    "x=int(input())\n",
    "y=int(input())\n",
    "z=int(input())\n",
    "print(\"{}+{}+{}={}\".format(x, y, z, (x+y+z)))\n",
    "print(f\"{x}*{y}*{z}={x*y*z}\")\n",
    "print(\"(%d+%d+%d)/3=%.3f\" % (x, y, z, (x+y+z)/3))"
   ]
  },
  {
   "cell_type": "code",
   "execution_count": 11,
   "metadata": {},
   "outputs": [
    {
     "name": "stdout",
     "output_type": "stream",
     "text": [
      "3.141592653589793\n"
     ]
    }
   ],
   "source": [
    "import math\n",
    "print(math.pi)"
   ]
  },
  {
   "cell_type": "markdown",
   "metadata": {},
   "source": []
  },
  {
   "cell_type": "markdown",
   "metadata": {},
   "source": [
    "Напишите программу, которая вводит радиус круга и вычисляет его площадь и длину окружности.\n",
    "\n",
    "Входные данные\n",
    "Входная строка содержит одно число - радиус круга.\n",
    "\n",
    "Выходные данные\n",
    "В первой строке должно быть выведена площадь круга, а во второй строке - длина окружности. Оба значения выводятся с тремя знаками в дробной части."
   ]
  },
  {
   "cell_type": "code",
   "execution_count": 14,
   "metadata": {},
   "outputs": [
    {
     "name": "stdout",
     "output_type": "stream",
     "text": [
      "5\n",
      "Площадь круга 78.540\n",
      "31.416\n"
     ]
    }
   ],
   "source": [
    "from math import pi\n",
    "r = float(input())\n",
    "S = pi*r*r\n",
    "print('Площадь круга %.3f' %S)\n",
    "l=2*pi*r\n",
    "print(f\"{:.3f}\")\n",
    "\n"
   ]
  },
  {
   "cell_type": "code",
   "execution_count": 10,
   "metadata": {},
   "outputs": [
    {
     "name": "stdout",
     "output_type": "stream",
     "text": [
      "3.141592653589793\n"
     ]
    }
   ],
   "source": [
    "import math\n",
    "print(math.pi)"
   ]
  },
  {
   "cell_type": "code",
   "execution_count": 12,
   "metadata": {},
   "outputs": [
    {
     "name": "stdout",
     "output_type": "stream",
     "text": [
      "3.141592653589793\n"
     ]
    }
   ],
   "source": [
    "from math import pi\n",
    "print(pi)"
   ]
  }
 ],
 "metadata": {
  "kernelspec": {
   "display_name": "Python 3",
   "language": "python",
   "name": "python3"
  },
  "language_info": {
   "codemirror_mode": {
    "name": "ipython",
    "version": 3
   },
   "file_extension": ".py",
   "mimetype": "text/x-python",
   "name": "python",
   "nbconvert_exporter": "python",
   "pygments_lexer": "ipython3",
   "version": "3.8.3"
  }
 },
 "nbformat": 4,
 "nbformat_minor": 4
}
