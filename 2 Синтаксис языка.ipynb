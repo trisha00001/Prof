{
 "cells": [
  {
   "cell_type": "markdown",
   "metadata": {
    "id": "0PHG0pl2lzrp"
   },
   "source": [
    "# Синтаксис языка"
   ]
  },
  {
   "cell_type": "markdown",
   "metadata": {},
   "source": [
    "Как и в любом языке в Python есть правила синтаксиса — если выражение составлено не по правилам, код не заработает. "
   ]
  },
  {
   "cell_type": "markdown",
   "metadata": {
    "id": "U8Qpxx-6lzrq"
   },
   "source": [
    "1. Конец строки выражения является окончанием инструкции, никаких знаков на конце не требуется, исключением являются вложенные инструкции.\n",
    "\n",
    "2. Вложенные инструкции объединяются в блоки по величине отступов. Отступ может быть любым, главное, чтобы в пределах одного вложенного блока отступ был одинаков.\n"
   ]
  },
  {
   "cell_type": "markdown",
   "metadata": {},
   "source": [
    "Первая программа. Запустите код в окне редактора или запустите IDLE, создайте новый исходный файл Python, заполните его этим кодом, назовите файл и сохраните его. Теперь запустите его. Если все пойдет хорошо, вы увидите строку окне консоли IDLE."
   ]
  },
  {
   "cell_type": "code",
   "execution_count": 2,
   "metadata": {
    "id": "Tr_f8P8ylzrq",
    "outputId": "b215daa6-f396-4e61-e7fc-47e918b67c6d"
   },
   "outputs": [
    {
     "name": "stdout",
     "output_type": "stream",
     "text": [
      "Hello, world!\n"
     ]
    }
   ],
   "source": [
    "print('Hello, world!')"
   ]
  },
  {
   "cell_type": "code",
   "execution_count": 3,
   "metadata": {},
   "outputs": [
    {
     "ename": "SyntaxError",
     "evalue": "EOL while scanning string literal (<ipython-input-3-4398e4d8fdca>, line 1)",
     "output_type": "error",
     "traceback": [
      "\u001b[1;36m  File \u001b[1;32m\"<ipython-input-3-4398e4d8fdca>\"\u001b[1;36m, line \u001b[1;32m1\u001b[0m\n\u001b[1;33m    print('Hello,/\u001b[0m\n\u001b[1;37m                   ^\u001b[0m\n\u001b[1;31mSyntaxError\u001b[0m\u001b[1;31m:\u001b[0m EOL while scanning string literal\n"
     ]
    }
   ],
   "source": [
    "print('Hello,/ \n",
    "      world!')"
   ]
  },
  {
   "cell_type": "code",
   "execution_count": 4,
   "metadata": {
    "id": "sl2LjWpIlzrq",
    "outputId": "ca745de5-5c1b-4f5a-ebaf-1be9cb3ade37"
   },
   "outputs": [
    {
     "name": "stdout",
     "output_type": "stream",
     "text": [
      "el\n",
      "lo,\n",
      "world!\n"
     ]
    }
   ],
   "source": [
    "print(\"\"\"el\n",
    "lo,\n",
    "world!\"\"\")"
   ]
  },
  {
   "cell_type": "code",
   "execution_count": 5,
   "metadata": {},
   "outputs": [
    {
     "name": "stdout",
     "output_type": "stream",
     "text": [
      "el\n",
      "lo,\n",
      "world!\n"
     ]
    }
   ],
   "source": [
    "print('''el\n",
    "lo,\n",
    "world!''')"
   ]
  },
  {
   "cell_type": "code",
   "execution_count": 6,
   "metadata": {
    "id": "lmhwMJWllzrr",
    "outputId": "57271545-1e3b-4552-f6cb-5e0967eacd22"
   },
   "outputs": [
    {
     "ename": "SyntaxError",
     "evalue": "EOL while scanning string literal (<ipython-input-6-d57695ae41b1>, line 1)",
     "output_type": "error",
     "traceback": [
      "\u001b[1;36m  File \u001b[1;32m\"<ipython-input-6-d57695ae41b1>\"\u001b[1;36m, line \u001b[1;32m1\u001b[0m\n\u001b[1;33m    print(\"Hello,\u001b[0m\n\u001b[1;37m                 ^\u001b[0m\n\u001b[1;31mSyntaxError\u001b[0m\u001b[1;31m:\u001b[0m EOL while scanning string literal\n"
     ]
    }
   ],
   "source": [
    "print(\"Hello,\n",
    "      world!\")"
   ]
  },
  {
   "cell_type": "code",
   "execution_count": 3,
   "metadata": {
    "id": "okBtgAbElzrr",
    "outputId": "9abd0b33-9caf-4e27-b3c9-f9e2a192ddd3"
   },
   "outputs": [
    {
     "name": "stdout",
     "output_type": "stream",
     "text": [
      "3.141592653589793\n",
      "2.0\n"
     ]
    }
   ],
   "source": [
    "import math\n",
    "print(math.pi)\n",
    "print(math.sqrt(4))"
   ]
  },
  {
   "cell_type": "code",
   "execution_count": 6,
   "metadata": {
    "id": "QKz3czfElzrr",
    "outputId": "7f5b1b13-08e8-4751-b0d9-31163ca54206"
   },
   "outputs": [
    {
     "name": "stdout",
     "output_type": "stream",
     "text": [
      "2+2=?\n"
     ]
    }
   ],
   "source": [
    "# вывод на экран \n",
    "print ( \"2+2=?\" )\n"
   ]
  },
  {
   "cell_type": "code",
   "execution_count": 7,
   "metadata": {
    "id": "fTnqZLTnlzrr",
    "outputId": "1ea0206c-1ad4-47f2-d91c-7c39775b703a"
   },
   "outputs": [
    {
     "name": "stdout",
     "output_type": "stream",
     "text": [
      "4\n"
     ]
    }
   ],
   "source": [
    "print(2+2)"
   ]
  },
  {
   "cell_type": "code",
   "execution_count": 7,
   "metadata": {
    "id": "XcdHjDfulzrr",
    "outputId": "a04b564f-b3a1-4433-9047-ff877f5f9381"
   },
   "outputs": [
    {
     "name": "stdout",
     "output_type": "stream",
     "text": [
      "2 + 2 = 4\n"
     ]
    }
   ],
   "source": [
    "print('2 + 2 =',2+2)"
   ]
  },
  {
   "cell_type": "code",
   "execution_count": 1,
   "metadata": {},
   "outputs": [
    {
     "name": "stdout",
     "output_type": "stream",
     "text": [
      "0.625\n"
     ]
    }
   ],
   "source": [
    "# Пример 5/8\n",
    "print(5 / 8)\n",
    "\n",
    "# Распечатайте сумму 7 и 10\n"
   ]
  },
  {
   "cell_type": "markdown",
   "metadata": {},
   "source": [
    " добавить комментарий к print(7 + 10)"
   ]
  },
  {
   "cell_type": "code",
   "execution_count": 3,
   "metadata": {},
   "outputs": [
    {
     "name": "stdout",
     "output_type": "stream",
     "text": [
      "15\n",
      "21 120\n",
      "65536\n",
      "12.333333333333334\n",
      "12\n",
      "1\n",
      "The history saving thread hit an unexpected error (OperationalError('database or disk is full')).History will not be written to the database.\n"
     ]
    }
   ],
   "source": [
    "print(5 + 10)  \n",
    "print(3 * 7, (17 - 2) * 8) \n",
    "print(2 ** 16)  \n",
    "print(37 / 3)    \n",
    "print(37 // 3)\n",
    "print(37 % 3) "
   ]
  },
  {
   "cell_type": "markdown",
   "metadata": {},
   "source": [
    "### Викторина\n",
    "Python является довольно универсальным языком. Для каких целей можно использовать Python?\n",
    "1. Вы хотите сделать несколько быстрых вычислений.\n",
    "2. Для вашего нового бизнеса вы хотите разработать веб-сайт, управляемый базой данных.\n",
    "3. Вас очистить и проанализировать результаты последнего опроса удовлетворенности.\n",
    "4. Все вышеперечисленное."
   ]
  },
  {
   "cell_type": "markdown",
   "metadata": {},
   "source": [
    "## Функция print()"
   ]
  },
  {
   "cell_type": "markdown",
   "metadata": {},
   "source": [
    "Функция — это встроенная в Python или написанная разработчиком подпрограмма для выполнения определённой задачи. \n",
    "\n",
    "С первой функцией вы познакомились в предыдущем уроке. Вы уже умеете создавать переменные и сохранять в них нужные значения. Теперь нужно узнать, как выводить значения на экран.\n",
    "\n",
    "Назначение функции print() — вывод на экран (или «печать на экране»). После названия функции в скобках перечисляются её аргументы — данные, с которыми функция должна что-то сделать. Говорят, что аргументы передаются, а функция их принимает. Когда разработчик пишет имя функции с аргументами, он её вызывает. Само использование функции называется вызовом.\n",
    "\n",
    "Функция print() принимает в качестве аргументов строки, числа и многие другие объекты. Но можно вообще ничего ей не передавать — тогда на экране появится пустая строчка:"
   ]
  },
  {
   "cell_type": "code",
   "execution_count": 8,
   "metadata": {},
   "outputs": [
    {
     "name": "stdout",
     "output_type": "stream",
     "text": [
      "Функция print() применяется для вывода значений на экран\n",
      "Я стану специалистом в сфере IT\n",
      "\n",
      "2023\n"
     ]
    }
   ],
   "source": [
    "print('Функция print() применяется для вывода значений на экран')\n",
    "print(\"Я стану специалистом в сфере IT\")\n",
    "print()\n",
    "print(2023)"
   ]
  },
  {
   "cell_type": "markdown",
   "metadata": {},
   "source": [
    "Чтобы напечатать несколько аргументов на одной строке, передайте их функции print() через запятую. При выводе на экран они будут по умолчанию разделены пробелом:"
   ]
  },
  {
   "cell_type": "code",
   "execution_count": 10,
   "metadata": {},
   "outputs": [],
   "source": [
    "first_movie_title =2\n",
    "first_movie_year = '2023'"
   ]
  },
  {
   "cell_type": "code",
   "execution_count": 11,
   "metadata": {},
   "outputs": [
    {
     "name": "stdout",
     "output_type": "stream",
     "text": [
      "2 : 2023\n"
     ]
    }
   ],
   "source": [
    "print(first_movie_title, ':', first_movie_year) "
   ]
  },
  {
   "cell_type": "code",
   "execution_count": 5,
   "metadata": {},
   "outputs": [
    {
     "name": "stdout",
     "output_type": "stream",
     "text": [
      "23\n"
     ]
    }
   ],
   "source": [
    "print('2'+'3')"
   ]
  },
  {
   "cell_type": "code",
   "execution_count": 12,
   "metadata": {},
   "outputs": [
    {
     "name": "stdout",
     "output_type": "stream",
     "text": [
      "2+2=? 4\n"
     ]
    }
   ],
   "source": [
    "a = 4\n",
    "print ( \"2+2=?\", a )\n"
   ]
  },
  {
   "cell_type": "code",
   "execution_count": 13,
   "metadata": {},
   "outputs": [
    {
     "name": "stdout",
     "output_type": "stream",
     "text": [
      "Результат 6\n"
     ]
    }
   ],
   "source": [
    "a = 4\n",
    "b = 2\n",
    "\n",
    "print ( \"Результат\", a+b )"
   ]
  },
  {
   "cell_type": "code",
   "execution_count": 15,
   "metadata": {},
   "outputs": [
    {
     "name": "stdout",
     "output_type": "stream",
     "text": [
      "Результат4\n"
     ]
    }
   ],
   "source": [
    "a = 4\n",
    "b = 2\n",
    "\n",
    "print ( \"Результат\"+ str(a) )"
   ]
  },
  {
   "cell_type": "markdown",
   "metadata": {
    "id": "GH_5Q_CQlzrs"
   },
   "source": [
    "# Переменные\n",
    "- Переменная - это место в памяти, где храниться значение \n",
    "- Переменные создаются при первом упоминании\n",
    "- Значение, хранящееся в переменной, может быть доступно или обновлено позже\n",
    "- Объявление переменных не требуется\n",
    "- Тип данных переменной определяется автоматически\n",
    "- Интерпретатор выделяет память на основе типа данных переменной\n",
    "\n",
    "Одно из основных различий в python по сравнению с другими языками, с которыми вы, возможно, знакомы, заключается в том, что переменные не объявляются и не типизированы строго."
   ]
  },
  {
   "cell_type": "code",
   "execution_count": null,
   "metadata": {},
   "outputs": [],
   "source": [
    "x = 5"
   ]
  },
  {
   "cell_type": "markdown",
   "metadata": {},
   "source": [
    "В Python переменная позволяет ссылаться на значение с именем. Для создания переменной используйте , как показано в следующем примере: x = 5\n",
    "Теперь можно использовать имя этой переменной,  вместо фактического значения 5"
   ]
  },
  {
   "cell_type": "code",
   "execution_count": 4,
   "metadata": {},
   "outputs": [
    {
     "name": "stdout",
     "output_type": "stream",
     "text": [
      "1\n",
      "4\n",
      "15.0\n"
     ]
    }
   ],
   "source": [
    "number1 = float(input())\n",
    "number2 = float(input())\n",
    "number2 = number2 + number1 \n",
    "print(number2)"
   ]
  },
  {
   "cell_type": "markdown",
   "metadata": {},
   "source": [
    "Переменные в Python позволяют «запомнить» информацию. Например, число или строку.\n",
    "\n",
    "Когда вы первый раз указываете имя переменной, это называется объявить переменную. В Python переменную всегда объявляют, присваивая ей какое-нибудь значение. Достаточно написать имя переменной, поставить = (это оператор присваивания) и по правую сторону от знака равенства ввести значение, которое вы хотите присвоить переменной.\n"
   ]
  },
  {
   "cell_type": "markdown",
   "metadata": {},
   "source": [
    "<img src=\"https://github.com/trisha00001/python/blob/main/img/Image%20(1).png?raw=true\" alt=\"альтернативный текст\">"
   ]
  },
  {
   "cell_type": "markdown",
   "metadata": {},
   "source": [
    "Переменные упрощают работу с данными. Любую строку или число можно сохранить в переменной с понятным именем. \n",
    "\n",
    "Итак, у любой переменной есть:\n",
    "- имя,\n",
    "- значение,\n",
    "- тип.\n",
    "\n",
    "Значением переменной может быть текст, число и даже целая таблица.\n",
    "Создадим, или, как ещё говорят, объявим переменную на языке Python:\n",
    "\n"
   ]
  },
  {
   "cell_type": "code",
   "execution_count": null,
   "metadata": {},
   "outputs": [],
   "source": [
    "robot = 'Cat' \n",
    "\n",
    "floors = 24 # Символ = — оператор присваивания. \n",
    "#Слева от него имя переменной, floors. Справа — значение, 24."
   ]
  },
  {
   "cell_type": "markdown",
   "metadata": {},
   "source": [
    "Можно заменить значение переменной floors, дописав ещё одну строчку:"
   ]
  },
  {
   "cell_type": "code",
   "execution_count": 1,
   "metadata": {},
   "outputs": [],
   "source": [
    "floors = 24\n",
    "floors = 25 "
   ]
  },
  {
   "cell_type": "markdown",
   "metadata": {},
   "source": [
    "Добавим в код функцию print() — она позволит вывести значение переменной на экран. Как вы думаете, что выведет такой код? \n"
   ]
  },
  {
   "cell_type": "code",
   "execution_count": 16,
   "metadata": {},
   "outputs": [
    {
     "ename": "SyntaxError",
     "evalue": "invalid syntax (<ipython-input-16-3c5f3c318787>, line 1)",
     "output_type": "error",
     "traceback": [
      "\u001b[1;36m  File \u001b[1;32m\"<ipython-input-16-3c5f3c318787>\"\u001b[1;36m, line \u001b[1;32m1\u001b[0m\n\u001b[1;33m    1floor = 1\u001b[0m\n\u001b[1;37m     ^\u001b[0m\n\u001b[1;31mSyntaxError\u001b[0m\u001b[1;31m:\u001b[0m invalid syntax\n"
     ]
    }
   ],
   "source": [
    "1floor = 1\n",
    "2floor = 2\n",
    "3floor = 3\n",
    "\n",
    "print (1floor, 2floor, 3floor)"
   ]
  },
  {
   "cell_type": "markdown",
   "metadata": {
    "id": "wcZJ_CLLlzrs"
   },
   "source": [
    "![xkcd_python](https://cf2.ppt-online.org/files2/slide/8/8I2ZPiV3L1pBoHcKWQdAXsCfmvyhYg7t9U6OkM/slide-7.jpg)"
   ]
  },
  {
   "cell_type": "markdown",
   "metadata": {},
   "source": [
    "### Как выбрать имя переменной"
   ]
  },
  {
   "cell_type": "markdown",
   "metadata": {},
   "source": [
    "\n",
    "Следуйте правилам синтаксиса и хорошему стилю. Если нарушить правила, программа не заработает. Если забыть про стиль — разобраться в коде станет сложнее.\n",
    "\n",
    "Правила синтаксиса:\n",
    "- Имя должно быть уникальным.\n",
    "- Имя начинается с буквы или знака подчёркивания.\n",
    "- Имя содержит только латинские буквы, цифры и знак подчёркивания. Добавлять в имя символы вроде ! или разделять слова пробелом нельзя. \n",
    "- Имя не совпадает с зарезервированными именами. Так, нельзя объявить переменную print — это имя зарезервировано для функции print().\n",
    "- Имена переменных — регистрозависимые. Floors, floors и FLOORS — три разные переменные, потому что их имена состоят из символов разного регистра: строчных и прописных.\n",
    "\n",
    "Легко запутаться в переменных, которые отличаются только регистром. Поэтому разработчики предпочитают всегда использовать строчные буквы, нижний регистр. Это — хороший стиль, который упрощает работу с кодом. \n",
    "\n",
    "Имя переменной не должно совпадать с зарезервированными именами:\n",
    "- Названиями операторов — in, as, return, if, del и другими.\n",
    "- Стандартными названиями функций — print(), sum(), eval() и другими.\n",
    "- Стандартными названиями типов данных: list, str, int и другими."
   ]
  },
  {
   "cell_type": "markdown",
   "metadata": {
    "id": "Q8rNK0T1lzrs"
   },
   "source": [
    "![xkcd_python](https://russianblogs.com/images/490/0cb971579765ca44ba9947b03a08063a.png)"
   ]
  },
  {
   "cell_type": "markdown",
   "metadata": {},
   "source": [
    "❗ Называть переменные зарезервированными именами нельзя, потому что это может навредить работе кода в проверочных заданиях. \n",
    "\n",
    "Так, дать переменным имена операторов невозможно — это вызовет ошибку invalid syntax. А если вы объявите переменные с названиями функций и типов данных, то Python переопределит имена объектов, из-за чего пострадает функционал языка. Назвав переменную print, вы закрепите это имя за ней и уже не сможете обратиться к функции print().\n",
    "\n",
    "Со временем зарезервированные имена отложатся у вас в памяти, но пока можете сверяться со списками стандартных для Python <a href=\"https://docs.python.org/3/library/functions.html\">функций</a> и <a href=\"https://docs.python.org/3/library/stdtypes.html\">типов данных</a>."
   ]
  },
  {
   "cell_type": "code",
   "execution_count": 8,
   "metadata": {},
   "outputs": [],
   "source": [
    "a = 2\n",
    "b = 3.2\n",
    "\n",
    "s= 'ghjk'"
   ]
  },
  {
   "cell_type": "markdown",
   "metadata": {},
   "source": [
    "### Хороший стиль:"
   ]
  },
  {
   "cell_type": "markdown",
   "metadata": {},
   "source": [
    "- Имя выражает смысл переменной. Например, для цены товара подойдёт имя price, а для названия — item."
   ]
  },
  {
   "cell_type": "code",
   "execution_count": 2,
   "metadata": {},
   "outputs": [],
   "source": [
    "price = 399\n",
    "item = 'pizza'"
   ]
  },
  {
   "cell_type": "markdown",
   "metadata": {},
   "source": [
    "- Лучше использовать английские слова, а не писать русские латиницей. Если не хватает владения английским — не страшно. Пока вы изучаете Python, ваш английский улучшается сам собой. А когда сомневаетесь в выборе слова, проверьте себя в онлайн-переводчике — мы тоже так делаем.\n",
    "- Когда имя состоит из нескольких слов, их пишут через знак_подчёркивания. Например, имя покупателя — customer_name, доход за предыдущий месяц — previous_month_income. Такую форму записи называют «змеиным регистром» (англ. Snake case) — в противоположность «верблюжьему», который вы тоже видели: floorNumberTwo. Легко запомнить Python — значит, змеиный регистр.\n",
    "- В имени используют только строчные буквы. И вы знаете, почему так."
   ]
  },
  {
   "cell_type": "markdown",
   "metadata": {},
   "source": [
    "Ещё функции print() можно передать имя переменной — тогда на экране появится её значение. В этом случае кавычки ставить не нужно:"
   ]
  },
  {
   "cell_type": "code",
   "execution_count": 17,
   "metadata": {},
   "outputs": [
    {
     "name": "stdout",
     "output_type": "stream",
     "text": [
      "35\n"
     ]
    }
   ],
   "source": [
    "metric = 35\n",
    "print(metric)"
   ]
  },
  {
   "cell_type": "markdown",
   "metadata": {},
   "source": [
    "Чтобы напечатать несколько аргументов на одной строке, передайте их функции print() через запятую. При выводе на экран они будут по умолчанию разделены пробелом:"
   ]
  },
  {
   "cell_type": "code",
   "execution_count": 5,
   "metadata": {},
   "outputs": [],
   "source": [
    "a = 0\n",
    "n = \"L\"\n",
    "y = 2.5"
   ]
  },
  {
   "cell_type": "markdown",
   "metadata": {},
   "source": [
    "## Типы данных"
   ]
  },
  {
   "cell_type": "markdown",
   "metadata": {},
   "source": [
    "Данные, сохранённые в переменных, — это объекты. Всякий объект принадлежит какому-нибудь типу: это может быть целое или дробное число, строка, логическое значение и т. д.\n",
    "\n",
    "Тип данных определяет формат записи объекта и список доступных для него операций — так содержимое перечницы и солонки заранее определено количеством отверстий в крышечке. Например, вы уже знаете, что данные типа «строка» всегда заключают в кавычки: 'Я строка'. Возвести строку в квадрат или разделить на что-нибудь не выйдет, потому что эти операции свойственны числовым типам данных. То есть целым или дробным числам: 5, 1.3. \n",
    "\n",
    "Помимо привычных дробей вида 1.3, существуют числа, которые выглядят как   бесконечная десятичная дробь, например число π. В Python все эти числа относятся к одному типу данных, и их можно обобщить математическим термином — вещественные числа. Чаще мы будем использовать именно этот термин.\n",
    "\n",
    "### Чем отличаются типы данных\n",
    "\n",
    "В Python реализована динамическая типизация. То есть не вы указываете типы данных при создании объектов, а Python определяет их за вас. На практике проще от этого не становится: при написании программ о типах нужно думать постоянно."
   ]
  },
  {
   "cell_type": "markdown",
   "metadata": {},
   "source": [
    " <table border=\"1\">\n",
    "   <caption>Типы данных в Python</caption>\n",
    "   <tr>\n",
    "    <th>Тип данных</th>\n",
    "    <th>Для чего</th>\n",
    "    <th>Примеры объектов</th>\n",
    "    <th>Пример создания</th>\n",
    "   </tr>\n",
    "   <tr>\n",
    "    <td>int</td>\n",
    "    <td>целые числа</td>\n",
    "    <td>10, 777, -10, -1234, 100000</td>\n",
    "    <td>items = 10</td>\n",
    "   </tr>\n",
    "    <tr>\n",
    "    <td>float</td>\n",
    "    <td>вещественные числа</td>\n",
    "    <td>3.14, 12.35, -2.1, 1.0002</td>\n",
    "    <td>pi_number = 3.14</td>\n",
    "   </tr>\n",
    "    <tr>\n",
    "    <td>str</td>\n",
    "    <td>строки</td>\n",
    "    <td>'Coltrane', 'Jazz Artist', 'Jazz is a kind of music in which improvisation is typically an important part.'</td>\n",
    "    <td>artist = 'Coltrane'</td>\n",
    "   </tr>\n",
    "    <tr>\n",
    "    <td>bool</td>\n",
    "    <td>логические значения</td>\n",
    "    <td>True, False</td>\n",
    "    <td>check = True</td>\n",
    "   </tr>\n",
    "   \n",
    "   \n",
    "  </table>"
   ]
  },
  {
   "cell_type": "code",
   "execution_count": 1,
   "metadata": {},
   "outputs": [
    {
     "data": {
      "text/plain": [
       "9223372036854775807"
      ]
     },
     "execution_count": 1,
     "metadata": {},
     "output_type": "execute_result"
    }
   ],
   "source": [
    "import sys\n",
    "sys.maxsize"
   ]
  },
  {
   "cell_type": "code",
   "execution_count": 3,
   "metadata": {},
   "outputs": [
    {
     "data": {
      "text/plain": [
       "9223372036854775807"
      ]
     },
     "execution_count": 3,
     "metadata": {},
     "output_type": "execute_result"
    }
   ],
   "source": [
    "2**63-1"
   ]
  },
  {
   "cell_type": "markdown",
   "metadata": {},
   "source": [
    "Узнаем типы объектов, вызвав функцию type(). Сделаем это внутри скобок функции print(), чтобы сразу увидеть результат на экране:"
   ]
  },
  {
   "cell_type": "code",
   "execution_count": 6,
   "metadata": {},
   "outputs": [
    {
     "name": "stdout",
     "output_type": "stream",
     "text": [
      "<class 'int'>\n",
      "<class 'str'>\n",
      "<class 'float'>\n"
     ]
    }
   ],
   "source": [
    "print(type(a))\n",
    "print(type(n))\n",
    "print(type(y))"
   ]
  },
  {
   "cell_type": "markdown",
   "metadata": {},
   "source": [
    "Чтобы узнать тип значения или переменной, которая ссылается на это значение, можно использовать функцию type(). "
   ]
  },
  {
   "cell_type": "code",
   "execution_count": null,
   "metadata": {
    "id": "yYrzQPrrlzrs",
    "outputId": "b2eec04d-3e84-4502-9926-9521694988bd"
   },
   "outputs": [
    {
     "name": "stdout",
     "output_type": "stream",
     "text": [
      "1\n"
     ]
    }
   ],
   "source": [
    "x = 1\n",
    "print(x)"
   ]
  },
  {
   "cell_type": "code",
   "execution_count": null,
   "metadata": {
    "id": "jy3Wg1Jhlzrs"
   },
   "outputs": [],
   "source": [
    "y = \"test\""
   ]
  },
  {
   "cell_type": "code",
   "execution_count": null,
   "metadata": {
    "id": "Y4gJT2MGlzrs",
    "outputId": "2f02b1c2-3862-4a74-e973-7c0cc24d87cd"
   },
   "outputs": [
    {
     "name": "stdout",
     "output_type": "stream",
     "text": [
      "test\n"
     ]
    }
   ],
   "source": [
    "print(y)"
   ]
  },
  {
   "cell_type": "code",
   "execution_count": null,
   "metadata": {
    "id": "SE8rODfqlzrt",
    "outputId": "89e0ef2a-e31e-45f2-df05-96189901133c"
   },
   "outputs": [
    {
     "name": "stdout",
     "output_type": "stream",
     "text": [
      "string\n"
     ]
    }
   ],
   "source": [
    "x = 1\n",
    "x = \"string\"\n",
    "print(x)"
   ]
  },
  {
   "cell_type": "code",
   "execution_count": 5,
   "metadata": {},
   "outputs": [
    {
     "name": "stdout",
     "output_type": "stream",
     "text": [
      "5\n"
     ]
    }
   ],
   "source": [
    "_x=5\n",
    "print(_x)"
   ]
  },
  {
   "cell_type": "code",
   "execution_count": null,
   "metadata": {
    "id": "7NlmOOsXlzrt",
    "outputId": "f1636930-62d8-4694-eaad-49ea171feef5"
   },
   "outputs": [
    {
     "name": "stdout",
     "output_type": "stream",
     "text": [
      "<class 'int'>\n"
     ]
    }
   ],
   "source": [
    "x = 1\n",
    "print(type(x))"
   ]
  },
  {
   "cell_type": "code",
   "execution_count": null,
   "metadata": {
    "id": "Ty15Z2bklzrt",
    "outputId": "a5dfd533-6da9-4e51-f96c-600fccd31722"
   },
   "outputs": [
    {
     "name": "stdout",
     "output_type": "stream",
     "text": [
      "<class 'str'>\n"
     ]
    }
   ],
   "source": [
    "x = \"string\"\n",
    "print(type(x))"
   ]
  },
  {
   "cell_type": "code",
   "execution_count": null,
   "metadata": {
    "id": "I0NGzGTZlzrt",
    "outputId": "d5375f7c-f696-42ec-b241-24e9ba141f54"
   },
   "outputs": [
    {
     "name": "stdout",
     "output_type": "stream",
     "text": [
      "<class 'float'>\n"
     ]
    }
   ],
   "source": [
    "x = 0.1\n",
    "print(type(x))"
   ]
  },
  {
   "cell_type": "code",
   "execution_count": null,
   "metadata": {
    "id": "e37v97LLlzru",
    "outputId": "d5054b62-5aa8-4601-9784-00f5712b6c75"
   },
   "outputs": [
    {
     "data": {
      "text/plain": [
       "float"
      ]
     },
     "execution_count": 25,
     "metadata": {},
     "output_type": "execute_result"
    }
   ],
   "source": [
    "x = 0.1\n",
    "type(x)"
   ]
  },
  {
   "cell_type": "code",
   "execution_count": null,
   "metadata": {
    "id": "oHFM5o_-lzru"
   },
   "outputs": [],
   "source": [
    "x"
   ]
  },
  {
   "cell_type": "code",
   "execution_count": null,
   "metadata": {
    "id": "1OuB7Qbwlzru",
    "outputId": "66f04a19-87e3-4f11-dbfe-9ca4c1234d77"
   },
   "outputs": [
    {
     "data": {
      "text/plain": [
       "True"
      ]
     },
     "execution_count": 26,
     "metadata": {},
     "output_type": "execute_result"
    }
   ],
   "source": [
    "'a' == \"a\""
   ]
  },
  {
   "cell_type": "markdown",
   "metadata": {},
   "source": [
    "### Преобразование типов"
   ]
  },
  {
   "cell_type": "markdown",
   "metadata": {},
   "source": [
    "Тип данных определяет операции, которые с этими данными можно совершать. \n",
    "\n",
    "Поэтому часто возникает потребность привести один тип к другому, то есть выполнить преобразование типов. Например, число может храниться в виде строки: '24'. Чтобы сложить его с другим числом, сперва нужно преобразовать строку в число — str в int.\n",
    "\n",
    "В прошлом уроке вы посчитали количество сайтов на русском языке, вошедших в 10 миллионов самых популярных, и получили результат типа float:"
   ]
  },
  {
   "cell_type": "code",
   "execution_count": 18,
   "metadata": {},
   "outputs": [
    {
     "name": "stdout",
     "output_type": "stream",
     "text": [
      "610000.0\n",
      "<class 'float'>\n"
     ]
    }
   ],
   "source": [
    "russian_web_part = 0.061\n",
    "web_popular = 10000000\n",
    "\n",
    "russian_web_popular = russian_web_part * web_popular\n",
    "\n",
    "print(russian_web_popular)\n",
    "print(type(russian_web_popular))"
   ]
  },
  {
   "cell_type": "markdown",
   "metadata": {},
   "source": [
    "С точки зрения Python, результат — вещественное число. Но фактически это число целое — ведь у него нет дробной части. В таком случае бывает полезно преобразовать тип данных: перевести значение из вещественного типа в целочисленный, из float в int. Тогда тип данных придёт в соответствие со значением в переменной.\n",
    "\n",
    "Основные функции для преобразования типов в Python:\n",
    "- int() — превращает объект в целое число;\n",
    "- float() — превращает объект в вещественное число;\n",
    "- str() — превращает объект в строку.\n",
    "\n",
    "\n",
    "Применим функцию int(), чтобы привести значение к целочисленному типу:"
   ]
  },
  {
   "cell_type": "code",
   "execution_count": 19,
   "metadata": {},
   "outputs": [
    {
     "name": "stdout",
     "output_type": "stream",
     "text": [
      "610000\n",
      "<class 'int'>\n"
     ]
    }
   ],
   "source": [
    "russian_web_part = 0.061\n",
    "web_popular = 10000000\n",
    "\n",
    "russian_web_popular = russian_web_part * web_popular\n",
    "russian_web_popular = int(russian_web_popular)\n",
    "print(russian_web_popular)\n",
    "print(type(russian_web_popular))"
   ]
  },
  {
   "cell_type": "markdown",
   "metadata": {},
   "source": [
    "Произошла «перезапись» переменной russian_web_popular: старое значение сменилось результатом применения функции int(). Теперь в переменной лежит целое число.\n",
    "\n",
    "### Дробные числа\n",
    "\n",
    "Когда переменная хранит вещественное число с ненулевой дробной частью, функция int() просто отбрасывает дробную часть. Положительные числа округляются вниз, а отрицательные — вверх."
   ]
  },
  {
   "cell_type": "code",
   "execution_count": 20,
   "metadata": {},
   "outputs": [
    {
     "name": "stdout",
     "output_type": "stream",
     "text": [
      "284\n",
      "128\n"
     ]
    }
   ],
   "source": [
    "fra_total_speakers = 284.9\n",
    "jap_total_speakers = 128.3\n",
    "\n",
    "print(int(fra_total_speakers))\n",
    "print(int(jap_total_speakers))"
   ]
  },
  {
   "cell_type": "markdown",
   "metadata": {},
   "source": [
    "Если вы хотите только вывести преобразованное число на экран, применяйте функцию int() прямо в скобках print() по аналогии с type(). Так переменная не будет перезаписана.\n",
    "### Числа и строки\n",
    "С числами вроде всё понятно. А что со строками?\n",
    "Допустим, вы хотите прибавить что-нибудь к числу, записанному в виде строки:"
   ]
  },
  {
   "cell_type": "code",
   "execution_count": 21,
   "metadata": {},
   "outputs": [
    {
     "ename": "TypeError",
     "evalue": "can only concatenate str (not \"int\") to str",
     "output_type": "error",
     "traceback": [
      "\u001b[1;31m---------------------------------------------------------------------------\u001b[0m",
      "\u001b[1;31mTypeError\u001b[0m                                 Traceback (most recent call last)",
      "\u001b[1;32m<ipython-input-21-4cb7598ccffb>\u001b[0m in \u001b[0;36m<module>\u001b[1;34m\u001b[0m\n\u001b[0;32m      2\u001b[0m \u001b[0mchi_native_speakers\u001b[0m \u001b[1;33m=\u001b[0m \u001b[1;34m'908.7'\u001b[0m\u001b[1;33m\u001b[0m\u001b[1;33m\u001b[0m\u001b[0m\n\u001b[0;32m      3\u001b[0m \u001b[1;33m\u001b[0m\u001b[0m\n\u001b[1;32m----> 4\u001b[1;33m \u001b[0mchi_total_speakers\u001b[0m \u001b[1;33m+=\u001b[0m \u001b[1;36m10\u001b[0m\u001b[1;33m\u001b[0m\u001b[1;33m\u001b[0m\u001b[0m\n\u001b[0m\u001b[0;32m      5\u001b[0m \u001b[0mchi_native_speakers\u001b[0m \u001b[1;33m+=\u001b[0m \u001b[1;36m2.5\u001b[0m\u001b[1;33m\u001b[0m\u001b[1;33m\u001b[0m\u001b[0m\n",
      "\u001b[1;31mTypeError\u001b[0m: can only concatenate str (not \"int\") to str"
     ]
    }
   ],
   "source": [
    "chi_total_speakers = '1107'\n",
    "chi_native_speakers = '908.7'\n",
    "\n",
    "chi_total_speakers += 10\n",
    "chi_native_speakers += 2.5"
   ]
  },
  {
   "cell_type": "markdown",
   "metadata": {},
   "source": [
    "Возникает ошибка TypeError: тип данных не соответствует операции. Нельзя прибавить числовые значения к переменным chi_total_speakers и chi_native_speakers, потому что эти переменные хранят объекты типа str.\n",
    "\n",
    "Python воспринимает значения '1107' и '908.7' как последовательность символов, такую же, как в строке 'Hello, world'. Числа там видите только вы. Но выход есть — строку можно преобразовать в число.\n",
    "\n",
    "\n",
    "Проверим, как это работает:"
   ]
  },
  {
   "cell_type": "code",
   "execution_count": 22,
   "metadata": {},
   "outputs": [
    {
     "name": "stdout",
     "output_type": "stream",
     "text": [
      "<class 'int'>\n",
      "<class 'float'>\n",
      "1117\n",
      "911.2\n"
     ]
    }
   ],
   "source": [
    "chi_total_speakers = '1107'\n",
    "chi_native_speakers = '908.7'\n",
    "\n",
    "chi_total_speakers = int(chi_total_speakers)\n",
    "chi_native_speakers = float(chi_native_speakers)\n",
    "\n",
    "print(type(chi_total_speakers))\n",
    "print(type(chi_native_speakers))\n",
    "\n",
    "chi_total_speakers += 10\n",
    "chi_native_speakers += 2.5\n",
    "\n",
    "print(chi_total_speakers)\n",
    "print(chi_native_speakers)"
   ]
  },
  {
   "cell_type": "markdown",
   "metadata": {},
   "source": [
    "Строки превратились в целое и вещественное числа — теперь с ними можно выполнять любые арифметические операции. Магия, не иначе!\n",
    "\n",
    "Но что, если в строке записан текст, а не число? Или несколько чисел, разделённые пробелом? Или число, к которому «прицеплены» ещё какие-нибудь символы. Во всех этих случаях функции int() и float() не сработают:"
   ]
  },
  {
   "cell_type": "code",
   "execution_count": 23,
   "metadata": {},
   "outputs": [
    {
     "ename": "ValueError",
     "evalue": "invalid literal for int() with base 10: '1121abc'",
     "output_type": "error",
     "traceback": [
      "\u001b[1;31m---------------------------------------------------------------------------\u001b[0m",
      "\u001b[1;31mValueError\u001b[0m                                Traceback (most recent call last)",
      "\u001b[1;32m<ipython-input-23-7b1dfd3a76f9>\u001b[0m in \u001b[0;36m<module>\u001b[1;34m\u001b[0m\n\u001b[0;32m      1\u001b[0m \u001b[0meng_total_speakers\u001b[0m \u001b[1;33m=\u001b[0m \u001b[1;34m'1121abc'\u001b[0m\u001b[1;33m\u001b[0m\u001b[1;33m\u001b[0m\u001b[0m\n\u001b[1;32m----> 2\u001b[1;33m \u001b[0mprint\u001b[0m\u001b[1;33m(\u001b[0m\u001b[0mint\u001b[0m\u001b[1;33m(\u001b[0m\u001b[0meng_total_speakers\u001b[0m\u001b[1;33m)\u001b[0m\u001b[1;33m)\u001b[0m\u001b[1;33m\u001b[0m\u001b[1;33m\u001b[0m\u001b[0m\n\u001b[0m",
      "\u001b[1;31mValueError\u001b[0m: invalid literal for int() with base 10: '1121abc'"
     ]
    }
   ],
   "source": [
    "eng_total_speakers = '1121abc'\n",
    "print(int(eng_total_speakers))"
   ]
  },
  {
   "cell_type": "markdown",
   "metadata": {},
   "source": [
    "Ошибка, как и ожидалось: неверное значение для функции int(). Преобразовывать типы нужно очень осторожно, с пониманием особенностей каждого.\n",
    "Задание 1"
   ]
  },
  {
   "cell_type": "markdown",
   "metadata": {
    "id": "5mTR8_BFlzru"
   },
   "source": [
    "# Операторы в Python"
   ]
  },
  {
   "cell_type": "markdown",
   "metadata": {
    "id": "AjrHMYSdlzru"
   },
   "source": [
    "<b>Оператор</b> в Python — это символ, который выполняет операцию над одним или несколькими операндами.<br>\n",
    "<b>Операндом </b>выступает переменная или значение, над которыми проводится операция.\n",
    "\n",
    "- Арифметические операторы\n",
    "- Операторы сравнения\n",
    "- Операторы присваивания\n",
    "- Логические операторы\n",
    "- Операторы принадлежности\n",
    "- Операторы тождественности\n",
    "- Битовые операторы"
   ]
  },
  {
   "cell_type": "markdown",
   "metadata": {},
   "source": [
    "### арифметические операции"
   ]
  },
  {
   "cell_type": "markdown",
   "metadata": {},
   "source": [
    "В математике\tВ Python\n",
    "\n",
    "Сложение\t     +\n",
    "\n",
    "Вычитание\t     -\n",
    "\n",
    "Умножение        *\n",
    "\n",
    "Деление\t         /\n",
    "\n",
    "Степень         **"
   ]
  },
  {
   "cell_type": "code",
   "execution_count": 4,
   "metadata": {},
   "outputs": [
    {
     "name": "stdout",
     "output_type": "stream",
     "text": [
      "2\n"
     ]
    }
   ],
   "source": [
    "print(7//3) # целая часть"
   ]
  },
  {
   "cell_type": "code",
   "execution_count": 5,
   "metadata": {},
   "outputs": [
    {
     "name": "stdout",
     "output_type": "stream",
     "text": [
      "1\n"
     ]
    }
   ],
   "source": [
    "print(7%3) #остаток"
   ]
  },
  {
   "cell_type": "markdown",
   "metadata": {},
   "source": [
    "Предположим, у вас есть 100 долларов, которые вы можете инвестировать с доходностью 10% каждый год. Через год это <i>100 * 1,1=110</i> долларов, а через два года это <i>100 * 1,1 * 1.1=121</i>. Добавьте код, чтобы рассчитать, сколько денег вы получите через 7 лет, и распечатайте результат."
   ]
  },
  {
   "cell_type": "code",
   "execution_count": 13,
   "metadata": {},
   "outputs": [
    {
     "name": "stdout",
     "output_type": "stream",
     "text": [
      "10\n",
      "0\n",
      "15\n",
      "5.0\n",
      "4\n",
      "16\n",
      "194.87171000000012\n"
     ]
    }
   ],
   "source": [
    "# Addition, subtraction\n",
    "print(5 + 5)\n",
    "print(5 - 5)\n",
    "\n",
    "# Multiplication, division, modulo, and exponentiation\n",
    "print(3 * 5)\n",
    "print(10 / 2)\n",
    "print(18 % 7)\n",
    "print(4 ** 2)\n",
    "\n",
    "# How much is your $100 worth after 7 years?\n",
    "print(100 * 1.1 ** 7)"
   ]
  },
  {
   "cell_type": "markdown",
   "metadata": {},
   "source": [
    "## Порядок действий\n",
    "Порядок выполнения арифметических операций в Python соответствует привычному «школьному»:\n",
    "1. Действия в скобках.\n",
    "2. Возведение в степень \n",
    "3. Умножение, деление.\n",
    "4. Сложение, вычитание."
   ]
  },
  {
   "attachments": {
    "image.png": {
     "image/png": "[encoded data removed]"
    }
   },
   "cell_type": "markdown",
   "metadata": {},
   "source": [
    "![image.png](attachment:image.png)"
   ]
  },
  {
   "cell_type": "markdown",
   "metadata": {
    "id": "IsU_1lCXlzru"
   },
   "source": [
    "# Базовые операции\n",
    "\n",
    "Для целого типа integers:\n",
    "`+ - * / // % **`\n",
    "\n",
    "для типа  floats:\n",
    "`+ - * / **`\n",
    "\n",
    "Boolean Логические:\n",
    "* keywords: `True` and `False` (note capitalization)\n",
    "* `==` равенство: `5 == 5` выдает `True`\n",
    "* `!=` не равно: `5 != 5` выдает `False`\n",
    "* `>` greater than: `5 > 4` выдает `True`\n",
    "* `>=`меньше: `5 >= 5` дает `True`\n",
    "* Similarly, we have `<` and `<=`.\n",
    "\n",
    "Logical operators:\n",
    "* `and`, `or`, and `not`\n",
    "* `True and False`\n",
    "* `True or False`\n",
    "* `not True`"
   ]
  },
  {
   "cell_type": "code",
   "execution_count": 4,
   "metadata": {},
   "outputs": [
    {
     "name": "stdout",
     "output_type": "stream",
     "text": [
      "True\n"
     ]
    }
   ],
   "source": [
    "print(2<3)"
   ]
  },
  {
   "cell_type": "code",
   "execution_count": 6,
   "metadata": {},
   "outputs": [
    {
     "name": "stdout",
     "output_type": "stream",
     "text": [
      "False\n"
     ]
    }
   ],
   "source": [
    "print(2>=3)"
   ]
  },
  {
   "cell_type": "code",
   "execution_count": null,
   "metadata": {
    "id": "pBXKKFwFlzru",
    "outputId": "7c53f25b-f30f-46d7-b38d-514c097d82d3"
   },
   "outputs": [
    {
     "data": {
      "text/plain": [
       "False"
      ]
     },
     "execution_count": 34,
     "metadata": {},
     "output_type": "execute_result"
    }
   ],
   "source": [
    "not (5 == 5.0) #equivalent to 5 != 5.0"
   ]
  },
  {
   "cell_type": "code",
   "execution_count": null,
   "metadata": {
    "id": "Fhwbkg3Zlzrv",
    "outputId": "5dd44606-a91a-4ddc-d077-762373cb1078"
   },
   "outputs": [
    {
     "data": {
      "text/plain": [
       "False"
      ]
     },
     "execution_count": 36,
     "metadata": {},
     "output_type": "execute_result"
    }
   ],
   "source": [
    "not (8%2==0)"
   ]
  },
  {
   "cell_type": "code",
   "execution_count": null,
   "metadata": {
    "id": "wMELH3Kylzrv",
    "outputId": "b84191c7-be7f-453c-c4b9-faea251cebd6"
   },
   "outputs": [
    {
     "name": "stdout",
     "output_type": "stream",
     "text": [
      "6\n",
      "yes\n"
     ]
    }
   ],
   "source": [
    "x=int(input())\n",
    "if x>=2 and x<10:\n",
    "    print('yes')\n",
    "else:\n",
    "    print('no')"
   ]
  },
  {
   "cell_type": "code",
   "execution_count": null,
   "metadata": {
    "id": "Vz-2zDJRlzrv"
   },
   "outputs": [],
   "source": [
    "if x%2==0:\n",
    "    x=x*10 # x*=10\n",
    "    print('hkjkk hhjjj')\n",
    "print('end')"
   ]
  },
  {
   "cell_type": "code",
   "execution_count": null,
   "metadata": {
    "id": "eMzsa0RGlzrv"
   },
   "outputs": [],
   "source": [
    "True and True"
   ]
  },
  {
   "cell_type": "code",
   "execution_count": null,
   "metadata": {
    "id": "vsEWsn8Olzrv"
   },
   "outputs": [],
   "source": [
    "type(4/2)"
   ]
  },
  {
   "cell_type": "code",
   "execution_count": null,
   "metadata": {
    "id": "cQWw1UCClzrv"
   },
   "outputs": [],
   "source": [
    "type(4//2)"
   ]
  },
  {
   "cell_type": "code",
   "execution_count": null,
   "metadata": {
    "id": "Tpa3ne8plzrv"
   },
   "outputs": [],
   "source": [
    "4//2"
   ]
  },
  {
   "cell_type": "code",
   "execution_count": null,
   "metadata": {
    "id": "Y_16qJCNlzrw"
   },
   "outputs": [],
   "source": [
    "4.0//2.0"
   ]
  },
  {
   "cell_type": "code",
   "execution_count": null,
   "metadata": {
    "id": "_59gMum1lzrw"
   },
   "outputs": [],
   "source": [
    "5//3 #=1 remainder 2"
   ]
  },
  {
   "cell_type": "code",
   "execution_count": null,
   "metadata": {
    "id": "nockXP0-lzrw"
   },
   "outputs": [],
   "source": [
    "6%3"
   ]
  },
  {
   "cell_type": "code",
   "execution_count": null,
   "metadata": {
    "id": "48yoLO9zlzrw"
   },
   "outputs": [],
   "source": [
    "5%3"
   ]
  },
  {
   "cell_type": "code",
   "execution_count": null,
   "metadata": {
    "id": "c3L0s_tllzrw"
   },
   "outputs": [],
   "source": [
    "4**3"
   ]
  },
  {
   "cell_type": "markdown",
   "metadata": {
    "id": "PXOKnT4qlzrw"
   },
   "source": [
    "### Операторы присваивания\n",
    "<Переменная>= выражение"
   ]
  },
  {
   "cell_type": "code",
   "execution_count": null,
   "metadata": {
    "id": "GqQ5_nY5lzrw"
   },
   "outputs": [],
   "source": [
    "x = 2 + 5"
   ]
  },
  {
   "cell_type": "code",
   "execution_count": 15,
   "metadata": {
    "id": "_3wvNEN8lzrw"
   },
   "outputs": [
    {
     "name": "stdout",
     "output_type": "stream",
     "text": [
      "4\n",
      "4\n"
     ]
    }
   ],
   "source": [
    "# Множественное наследование\n",
    "x = y = 4\n",
    "print(x)\n",
    "print(y)"
   ]
  },
  {
   "cell_type": "code",
   "execution_count": 14,
   "metadata": {
    "id": "0VPmhTwwlzrw",
    "outputId": "fa3518f1-2482-4ed3-d8e5-33cec84e132b"
   },
   "outputs": [
    {
     "name": "stdout",
     "output_type": "stream",
     "text": [
      "2\n",
      "F\n"
     ]
    }
   ],
   "source": [
    "#Изменение значений переменных\n",
    "x = 2\n",
    "print(x)\n",
    "x = 'F'\n",
    "print(x)"
   ]
  },
  {
   "cell_type": "code",
   "execution_count": 24,
   "metadata": {
    "id": "Ya3JO83Tlzrx",
    "outputId": "35740368-cf98-4616-ca0e-acca20bee779"
   },
   "outputs": [
    {
     "name": "stdout",
     "output_type": "stream",
     "text": [
      "x 3\n",
      "y 2\n"
     ]
    }
   ],
   "source": [
    "# Поменять значения переменных\n",
    "x=2\n",
    "y=3\n",
    "x,y = y,x\n",
    "print('x', x)\n",
    "print('y',y)"
   ]
  },
  {
   "cell_type": "code",
   "execution_count": 4,
   "metadata": {},
   "outputs": [
    {
     "data": {
      "text/plain": [
       "True"
      ]
     },
     "execution_count": 4,
     "metadata": {},
     "output_type": "execute_result"
    }
   ],
   "source": [
    "2 == 2.0"
   ]
  },
  {
   "cell_type": "markdown",
   "metadata": {
    "id": "WTZ3bkPmlzrx"
   },
   "source": [
    "# Преобразование типов Python и приведение типов"
   ]
  },
  {
   "cell_type": "markdown",
   "metadata": {
    "id": "OS22R2rglzrx"
   },
   "source": [
    "1. Неявное преобразование типов\n",
    "\n",
    "2. Явное преобразование типов"
   ]
  },
  {
   "cell_type": "markdown",
   "metadata": {
    "id": "QGQqIXM9lzrx"
   },
   "source": [
    "![xkcd_python](https://s0.slide-share.ru/s_slide/9d6c5af8802a11bc13585fc38039007e/f7bb40d3-59f0-4e3e-b551-e4fdaf343a34.jpeg)"
   ]
  },
  {
   "cell_type": "code",
   "execution_count": 26,
   "metadata": {},
   "outputs": [],
   "source": [
    "s = 5\n",
    "r = 4"
   ]
  },
  {
   "cell_type": "code",
   "execution_count": 27,
   "metadata": {},
   "outputs": [
    {
     "name": "stdout",
     "output_type": "stream",
     "text": [
      "5 4\n"
     ]
    }
   ],
   "source": [
    "print(s,r)"
   ]
  },
  {
   "cell_type": "code",
   "execution_count": 28,
   "metadata": {},
   "outputs": [
    {
     "name": "stdout",
     "output_type": "stream",
     "text": [
      "5 4\n"
     ]
    }
   ],
   "source": [
    "print(s,r)"
   ]
  },
  {
   "cell_type": "code",
   "execution_count": 29,
   "metadata": {},
   "outputs": [
    {
     "name": "stdout",
     "output_type": "stream",
     "text": [
      "5+4= 9\n"
     ]
    }
   ],
   "source": [
    "print(str(s)+'+'+str(r)+'=', s+r)"
   ]
  },
  {
   "cell_type": "code",
   "execution_count": 30,
   "metadata": {},
   "outputs": [
    {
     "name": "stdout",
     "output_type": "stream",
     "text": [
      "5+4=9\n"
     ]
    }
   ],
   "source": [
    "print(str(s)+'+'+str(r)+'='+str(s+r))"
   ]
  },
  {
   "cell_type": "code",
   "execution_count": 13,
   "metadata": {},
   "outputs": [
    {
     "name": "stdout",
     "output_type": "stream",
     "text": [
      "I started with  5𝑎𝑛𝑑𝑛𝑜𝑤ℎ𝑎𝑣𝑒 4. Awesome!\n"
     ]
    }
   ],
   "source": [
    "print(\"I started with  \"+str(𝑠)+\"𝑎𝑛𝑑𝑛𝑜𝑤ℎ𝑎𝑣𝑒 \" + str(r) + \". Awesome!\")"
   ]
  }
 ],
 "metadata": {
  "colab": {
   "name": "Первая лекция Python.ipynb",
   "provenance": []
  },
  "kernelspec": {
   "display_name": "Python 3",
   "language": "python",
   "name": "python3"
  },
  "language_info": {
   "codemirror_mode": {
    "name": "ipython",
    "version": 3
   },
   "file_extension": ".py",
   "mimetype": "text/x-python",
   "name": "python",
   "nbconvert_exporter": "python",
   "pygments_lexer": "ipython3",
   "version": "3.8.3"
  }
 },
 "nbformat": 4,
 "nbformat_minor": 1
}
