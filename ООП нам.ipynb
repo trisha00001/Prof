{
 "cells": [
  {
   "cell_type": "markdown",
   "metadata": {
    "id": "uTSbOqV0O9Ia"
   },
   "source": [
    "#Объектно-оринетированое программирование (ООП)\n"
   ]
  },
  {
   "cell_type": "markdown",
   "metadata": {
    "id": "tUvJJEJ-PG5F"
   },
   "source": [
    "Объект-\"Вещь\" с определенными свойствами и поведением \n",
    "\n",
    "Объектно-ориентированный подход можно применять:\n",
    "  1. как к программированию\n",
    "  2. как к анализу\n",
    "  3. дизайну\n",
    "\n",
    "**ООП-способ мышления,а также способ всоприятия окружающего мира с точки зрения теории объектов **\n",
    "\n",
    "\n",
    "**Парадигма программирования на машинном языке:**\n",
    "  1. Программы писались на машинных языках в двоичном представлении.При написании программ на машинных языках часто допускались ошибки.\n",
    "  2. Процедурные языки дают программисту возможность разбить программу обработки информации на нексолько процедур более низкого уровня.Последовательные обращения к этим процедурам управляют выполенением программ.\n",
    "  3. Модульное программирование разбивает программу на ряд составляющих компонентов,или модулей.В отличие от процедурного программирования,которое разделяет данные и процедуры ,модули скрывают всю внутренюю информацию от остальных частей программы.Основываясь на этом,двольно просто объяснить,что такое состояние:Модуль сохраняет инфорацмию.\n",
    "\n",
    "ООП:\n",
    "\n",
    "  1. Состояние объекта-это совокупность значений внтуренныих переменных объекта \n",
    "  2. Внутренняя переменнная-это величина,хранимая внутри объекта \n",
    "\n",
    "\n",
    "* ООП добавляет к модулю:\n",
    "  1. Наследвственность\n",
    "  2. Полиморфизм \n",
    "\n",
    "\n"
   ]
  },
  {
   "cell_type": "code",
   "execution_count": null,
   "metadata": {},
   "outputs": [],
   "source": [
    "def add_to_list_in_dict(data, key, element): \n",
    "    try: \n",
    "        if not key in data.keys(): \n",
    "            data.setdefault(key, []) \n",
    "        data[key] += [element] \n",
    "    except: \n",
    "        pass"
   ]
  },
  {
   "cell_type": "code",
   "execution_count": 1,
   "metadata": {},
   "outputs": [],
   "source": [
    "class dog():\n",
    "    name = 'animal'\n",
    "    def say(self):\n",
    "        print('гав')\n",
    "\n"
   ]
  },
  {
   "cell_type": "code",
   "execution_count": 2,
   "metadata": {},
   "outputs": [
    {
     "name": "stdout",
     "output_type": "stream",
     "text": [
      "animal\n",
      "гав\n"
     ]
    }
   ],
   "source": [
    "a = dog()\n",
    "print(a.name)\n",
    "a.say()"
   ]
  },
  {
   "cell_type": "code",
   "execution_count": 12,
   "metadata": {},
   "outputs": [
    {
     "name": "stdout",
     "output_type": "stream",
     "text": [
      "mamal\n",
      "I'm a mamal\n",
      "I'm a dog\n",
      "mamal\n",
      "I'm a mamal\n",
      "I'm a dog\n"
     ]
    }
   ],
   "source": [
    "class Dog:\n",
    "    # Атрибуты (свойства и методы класса)\n",
    "    attr1 = \"mamal\" #свойства\n",
    "    attr2 = \"dog\" #свойства\n",
    "    # Метод\n",
    "    def fun(self): \n",
    "        print(\"I'm a\", self.attr1)\n",
    "        print(\"I'm a\", self.attr2)\n",
    "        \n",
    "    # Экземпляр класса\n",
    "Rodger = Dog()\n",
    "#Доступ к атрибутам и методам\n",
    "print(Rodger.attr1)\n",
    "Rodger.fun()\n",
    "# Экземпляр класса\n",
    "Jack = Dog()\n",
    "#Доступ к атрибутам и методам\n",
    "print(Jack.attr1)\n",
    "Jack.fun()"
   ]
  },
  {
   "cell_type": "code",
   "execution_count": 2,
   "metadata": {},
   "outputs": [
    {
     "name": "stdout",
     "output_type": "stream",
     "text": [
      "Hello!\n",
      "mamal\n",
      "I'm a mamal\n",
      "I'm a dog\n",
      "I'm a Rodger\n"
     ]
    }
   ],
   "source": [
    "class Dog:\n",
    "    \"\"\"Это класс собака ....\"\"\"\n",
    "    # Атрибуты (свойства и методы класса)\n",
    "    attr1 = \"mamal\" #свойства\n",
    "    attr2 = \"dog\" #свойства\n",
    "    # Метод\n",
    "    def __init__(self,x):\n",
    "        self.kilichka = x\n",
    "        print(\"Hello!\")\n",
    "        \n",
    "    def fun(self): \n",
    "        print(\"I'm a\", self.attr1)\n",
    "        print(\"I'm a\", self.attr2)\n",
    "        print(\"I'm a\", self.kilichka)\n",
    "        \n",
    "    # Экземпляр класса\n",
    "Rodger = Dog('Rodger')\n",
    "#Доступ к атрибутам и методам\n",
    "print(Rodger.attr1)\n",
    "Rodger.fun()\n"
   ]
  },
  {
   "cell_type": "code",
   "execution_count": 3,
   "metadata": {},
   "outputs": [
    {
     "data": {
      "text/plain": [
       "'Это класс собака ....'"
      ]
     },
     "execution_count": 3,
     "metadata": {},
     "output_type": "execute_result"
    }
   ],
   "source": [
    "Dog.__doc__"
   ]
  },
  {
   "cell_type": "code",
   "execution_count": 4,
   "metadata": {},
   "outputs": [
    {
     "data": {
      "text/plain": [
       "mappingproxy({'__module__': '__main__',\n",
       "              '__doc__': 'Это класс собака ....',\n",
       "              'attr1': 'mamal',\n",
       "              'attr2': 'dog',\n",
       "              '__init__': <function __main__.Dog.__init__(self, x)>,\n",
       "              'fun': <function __main__.Dog.fun(self)>,\n",
       "              '__dict__': <attribute '__dict__' of 'Dog' objects>,\n",
       "              '__weakref__': <attribute '__weakref__' of 'Dog' objects>})"
      ]
     },
     "execution_count": 4,
     "metadata": {},
     "output_type": "execute_result"
    }
   ],
   "source": [
    "Dog.__dict__"
   ]
  },
  {
   "cell_type": "code",
   "execution_count": 2,
   "metadata": {
    "colab": {
     "base_uri": "https://localhost:8080/"
    },
    "id": "3F-Y6ugzOuaA",
    "outputId": "513d565b-32d8-4566-87a4-e5812382c26d"
   },
   "outputs": [
    {
     "name": "stdout",
     "output_type": "stream",
     "text": [
      "15\n",
      "22\n"
     ]
    }
   ],
   "source": [
    "class A:\n",
    "    x = 15\n",
    "    def print_x(self):\n",
    "        print(self.x)\n",
    "    def sum(self, a, b):\n",
    "        return self.x+a+b\n",
    "a = A()\n",
    "a.print_x()\n",
    "b = a.sum(5,2)\n",
    "print(b)\n",
    "\n"
   ]
  },
  {
   "cell_type": "code",
   "execution_count": 4,
   "metadata": {},
   "outputs": [
    {
     "name": "stdout",
     "output_type": "stream",
     "text": [
      "hello world!\n"
     ]
    }
   ],
   "source": [
    "class A:\n",
    "    def hello(self):\n",
    "        print('hello world!')\n",
    "\n",
    "a = A()\n",
    "a.hello()\n",
    "#A.hello()"
   ]
  },
  {
   "cell_type": "code",
   "execution_count": 4,
   "metadata": {
    "colab": {
     "base_uri": "https://localhost:8080/"
    },
    "id": "L4aMoiEPXyVD",
    "outputId": "eebf621f-f183-4ac7-f363-5a2154b0cd1a"
   },
   "outputs": [
    {
     "name": "stdout",
     "output_type": "stream",
     "text": [
      "hello world!\n"
     ]
    }
   ],
   "source": [
    "class A:\n",
    "    def hello():\n",
    "        print('hello world!')\n",
    "\n",
    "a = A()\n",
    "#a.hello()\n",
    "A.hello()"
   ]
  },
  {
   "cell_type": "code",
   "execution_count": null,
   "metadata": {
    "colab": {
     "base_uri": "https://localhost:8080/"
    },
    "id": "SJ_Mq75_Xyt4",
    "outputId": "984c7c7e-acae-4656-917b-000187b5bdf2"
   },
   "outputs": [
    {
     "name": "stdout",
     "output_type": "stream",
     "text": [
      "Hello!\n",
      "15\n",
      "Good bye!\n"
     ]
    }
   ],
   "source": [
    "class A:\n",
    "    def __init__(self,x):\n",
    "        self.x = x\n",
    "        print(\"Hello!\")\n",
    "  \n",
    "    def __del__(self):\n",
    "        print(\"Good bye!\")\n",
    "\n",
    "#a = A()\n",
    "a = A(15)\n",
    "print(a.x)\n",
    "del a"
   ]
  },
  {
   "cell_type": "code",
   "execution_count": 6,
   "metadata": {
    "colab": {
     "base_uri": "https://localhost:8080/"
    },
    "id": "7Kobo3tvaIlk",
    "outputId": "ee75ee6e-4e33-4da1-e966-900bad02af7b"
   },
   "outputs": [
    {
     "name": "stdout",
     "output_type": "stream",
     "text": [
      "Hello!\n",
      "Program end\n",
      "Good bye!\n"
     ]
    }
   ],
   "source": [
    "class A:\n",
    "    def __init__(self):\n",
    "        print(\"Hello!\")\n",
    "    def __del__(self):\n",
    "        print(\"Good bye!\")\n",
    "\n",
    "def create_obj():\n",
    "    a = A()\n",
    "    return a\n",
    "\n",
    "if __name__ == \"__main__\":\n",
    "    a = create_obj()\n",
    "    print(\"Program end\")\n",
    "    del a\n",
    "    exit(0)\n",
    "\n"
   ]
  },
  {
   "cell_type": "code",
   "execution_count": 1,
   "metadata": {},
   "outputs": [
    {
     "name": "stdout",
     "output_type": "stream",
     "text": [
      "1 2\n"
     ]
    }
   ],
   "source": [
    "class Point:\n",
    "    def __init__(self, x = 0, y = 0):\n",
    "        self.x = x\n",
    "        self.y = y\n",
    "    def\n",
    "        \n",
    " \n",
    "        \n",
    "        \n",
    "        \n",
    "        \n",
    "pt = Point(1, 2)\n",
    "print(pt.x, pt.y)\n"
   ]
  },
  {
   "cell_type": "code",
   "execution_count": 4,
   "metadata": {},
   "outputs": [
    {
     "name": "stdout",
     "output_type": "stream",
     "text": [
      "1 2\n"
     ]
    }
   ],
   "source": [
    "class Point:\n",
    "    @classmethod\n",
    "    def valid (cls, arg):\n",
    "        return 0 <= arg <= 10\n",
    "    \n",
    "    \n",
    "    def __init__(self, x = 0, y = 0):\n",
    "        if self.valid(x):\n",
    "            self.x = x\n",
    "        if self.valid(y):\n",
    "            self.y = y\n",
    "        \n",
    " \n",
    "        \n",
    "        \n",
    "        \n",
    "        \n",
    "pt = Point(1, 2)\n",
    "print(pt.x, pt.y)\n"
   ]
  },
  {
   "cell_type": "code",
   "execution_count": 6,
   "metadata": {},
   "outputs": [
    {
     "name": "stdout",
     "output_type": "stream",
     "text": [
      "3.141592653589793\n"
     ]
    }
   ],
   "source": [
    "import math \n",
    "class Circle : \n",
    "    def __init__( self , radius ) : \n",
    "        self.radius = radius \n",
    "        self.area = self.S(radius)\n",
    "    @classmethod\n",
    "    def S ( cls, arg ) : \n",
    "        return math. pi * arg **2\n",
    "        \n",
    "        \n",
    "\n",
    "c1 = Circle (1) \n",
    "print(c1.area)"
   ]
  },
  {
   "cell_type": "code",
   "execution_count": 8,
   "metadata": {},
   "outputs": [
    {
     "data": {
      "text/plain": [
       "False"
      ]
     },
     "execution_count": 8,
     "metadata": {},
     "output_type": "execute_result"
    }
   ],
   "source": [
    "class D(): \n",
    "    @staticmethod\n",
    "    def test(x):\n",
    "        return x == 0\n",
    "D.test(1)"
   ]
  },
  {
   "cell_type": "code",
   "execution_count": 9,
   "metadata": {},
   "outputs": [
    {
     "data": {
      "text/plain": [
       "True"
      ]
     },
     "execution_count": 9,
     "metadata": {},
     "output_type": "execute_result"
    }
   ],
   "source": [
    "D.test(0)"
   ]
  },
  {
   "cell_type": "code",
   "execution_count": 10,
   "metadata": {},
   "outputs": [
    {
     "name": "stdout",
     "output_type": "stream",
     "text": [
      "True\n",
      "False\n"
     ]
    }
   ],
   "source": [
    "class St:\n",
    "    @staticmethod\n",
    "    def is_polindrom(st):\n",
    "        return st == st[::-1]\n",
    "\n",
    "    \n",
    "print(St.is_polindrom('kazak'))\n",
    "print(St.is_polindrom('skazal'))"
   ]
  },
  {
   "cell_type": "code",
   "execution_count": 14,
   "metadata": {},
   "outputs": [
    {
     "name": "stdout",
     "output_type": "stream",
     "text": [
      "88\n",
      "7\n",
      "цифры должны быть в промежутке 1..10\n"
     ]
    }
   ],
   "source": [
    "class Point:\n",
    "    @staticmethod\n",
    "    def valid ( arg):\n",
    "        return 0 <= arg <= 10\n",
    "    \n",
    "    \n",
    "    def __init__(self, x = 0, y = 0):\n",
    "        if self.valid(x):\n",
    "            self.x = x\n",
    "        if self.valid(y):\n",
    "            self.y = y\n",
    "        \n",
    "        \n",
    "x = int(input())        \n",
    "y  = int(input())   \n",
    "if Point.valid(x) and Point.valid(y):\n",
    "    pt = Point(x, y)\n",
    "    print(pt.x, pt.y)\n",
    "else:\n",
    "    print('цифры должны быть в промежутке 1..10')\n"
   ]
  },
  {
   "cell_type": "code",
   "execution_count": 12,
   "metadata": {
    "colab": {
     "base_uri": "https://localhost:8080/"
    },
    "id": "3UrBm_y0aIbL",
    "outputId": "09326f41-b5be-47aa-c0e2-1b6b36e2fde1"
   },
   "outputs": [
    {
     "name": "stdout",
     "output_type": "stream",
     "text": [
      "fun end\n",
      "Programm end\n"
     ]
    }
   ],
   "source": [
    "class A:\n",
    "  def __init__(self, bb):\n",
    "    self.b = bb\n",
    "\n",
    "class B:\n",
    "  def __init__(self):\n",
    "    self.a = A(self)\n",
    "  def __del__(self):\n",
    "    print(\"Good bye!\")\n",
    "def fun():\n",
    "  b = B()\n",
    "  print('fun end')\n",
    "  return b\n",
    "fun()\n",
    "print('Programm end')"
   ]
  },
  {
   "cell_type": "code",
   "execution_count": null,
   "metadata": {
    "id": "0cos4qeuaIRK"
   },
   "outputs": [],
   "source": [
    "class Bus:\n",
    "  def __init__(self,passengers=[]):\n",
    "    self.passengers = passengers \n",
    "  def pick(self,name):\n",
    "    self.passengers.append(name)\n",
    "\n",
    "  def drop(self,name):\n",
    "    self.passengers.remove(name)"
   ]
  },
  {
   "cell_type": "code",
   "execution_count": null,
   "metadata": {
    "colab": {
     "base_uri": "https://localhost:8080/"
    },
    "id": "QUOtO2k_aIFr",
    "outputId": "c28664bd-f40f-46c6-9e62-aa9a1189da23"
   },
   "outputs": [
    {
     "name": "stdout",
     "output_type": "stream",
     "text": [
      "['Bill', 'Chralie']\n",
      "['Carrie']\n"
     ]
    },
    {
     "data": {
      "text/plain": [
       "['Bill', 'Chralie']"
      ]
     },
     "execution_count": 3,
     "metadata": {},
     "output_type": "execute_result"
    }
   ],
   "source": [
    "bus1 = Bus(['Alice','Bill'])\n",
    "bus1.passengers \n",
    "bus1.pick('Chralie')\n",
    "bus1.drop(\"Alice\")\n",
    "print(bus1.passengers)\n",
    "\n",
    "bus2 = Bus()\n",
    "bus2.pick('Carrie')\n",
    "print(bus2.passengers)\n",
    "\n",
    "bus3 = Bus()\n",
    "bus3.passengers\n",
    "bus2.passengers is bus3.passengers\n",
    "bus1.passengers"
   ]
  },
  {
   "cell_type": "code",
   "execution_count": null,
   "metadata": {
    "id": "YCbtvz_RaHzF"
   },
   "outputs": [],
   "source": [
    "class Bus:\n",
    "  def __init__(self, passengers=None):\n",
    "    if passengers is None:\n",
    "      self.passengers = []\n",
    "    else:\n",
    "      self.passengers = passengers "
   ]
  },
  {
   "cell_type": "code",
   "execution_count": null,
   "metadata": {
    "colab": {
     "base_uri": "https://localhost:8080/"
    },
    "id": "E3Js6pk-epGK",
    "outputId": "7b2ee242-3c4a-4e27-ae2e-a10f07205ca7"
   },
   "outputs": [
    {
     "name": "stdout",
     "output_type": "stream",
     "text": [
      "10\n",
      "5\n",
      "10\n"
     ]
    }
   ],
   "source": [
    "class A:\n",
    "  x = 10\n",
    "  __x =1 \n",
    "  def __init__(self):\n",
    "    self.y = 5\n",
    "    z = 1\n",
    "\n",
    "a = A()\n",
    "print(a.x)\n",
    "print(a.y)\n",
    "#print(a.z)\n",
    "#print(a.__x)\n",
    "print(A.x)\n",
    "#print(A.y)"
   ]
  },
  {
   "cell_type": "code",
   "execution_count": null,
   "metadata": {
    "colab": {
     "base_uri": "https://localhost:8080/"
    },
    "id": "6He27bROfyFI",
    "outputId": "78b1eb9f-a4f7-4b70-f30b-8266bea9b3cd"
   },
   "outputs": [
    {
     "data": {
      "text/plain": [
       "10"
      ]
     },
     "execution_count": 6,
     "metadata": {},
     "output_type": "execute_result"
    }
   ],
   "source": [
    "class A:\n",
    "  x = 10\n",
    "\n",
    "a = A()\n",
    "b = A()\n",
    "a.x\n",
    "b.x\n",
    "A.x\n",
    "\n",
    "a.x = 4\n",
    "a.x\n",
    "b.x\n",
    "A.x"
   ]
  },
  {
   "cell_type": "code",
   "execution_count": 16,
   "metadata": {},
   "outputs": [
    {
     "name": "stdout",
     "output_type": "stream",
     "text": [
      "Bird is ready\n",
      "Сорока говорит\n"
     ]
    }
   ],
   "source": [
    "class Bird:\n",
    "    def __init__(self):\n",
    "        print(\"Bird is ready\")\n",
    "    def whoisThis(self):\n",
    "        print(\"Bird\")\n",
    "    def swim(self):\n",
    "        print(\"Swim faster\")\n",
    "    def say(self):\n",
    "        pass\n",
    "        \n",
    "class Penguin(Bird):\n",
    "\n",
    "    def whoisThis(self):\n",
    "        print(\"Penguin\")\n",
    "    def run(self):\n",
    "        print(\"Run faster\")\n",
    "    def say(self):\n",
    "        print(\"Пингвин говорит\")\n",
    "\n",
    "class Soroka(Bird):\n",
    "\n",
    "    def say(self):\n",
    "        print(\"Сорока говорит\")\n",
    "\n",
    "peggy = Soroka()\n",
    "peggy.say()\n",
    "\n",
    "\n",
    "      "
   ]
  },
  {
   "cell_type": "code",
   "execution_count": 10,
   "metadata": {
    "id": "wegJSsHcu0pR"
   },
   "outputs": [
    {
     "name": "stdout",
     "output_type": "stream",
     "text": [
      "True\n",
      "True\n",
      "True\n"
     ]
    }
   ],
   "source": [
    "class Geom:\n",
    "    name = 'Geom'\n",
    "    def set_coords(self, x1, y1, x2, y2):\n",
    "        self.x1 = x1\n",
    "        self.y1 = y1\n",
    "        self.x2 = x2\n",
    "        self.y2 = y2\n",
    "    def draw(self):\n",
    "        pass\n",
    " \n",
    "class Line(Geom):\n",
    "    def draw(self):\n",
    "        print(\"Рисование линии\")\n",
    "\n",
    "class Rect(Geom):\n",
    "    def draw(self):\n",
    "        print(\"Рисование прямоугольника\")\n",
    "        \n",
    "l = Line()\n",
    "r = Rect()\n",
    "l.set_coords(1, 1, 2, 2)\n",
    "r.set_coords(1, 1, 2, 2)\n",
    "print(issubclass(Line, Geom))\n",
    "print(isinstance(l, Geom))\n",
    "print(isinstance(l, Line))"
   ]
  },
  {
   "cell_type": "code",
   "execution_count": 11,
   "metadata": {},
   "outputs": [
    {
     "name": "stdout",
     "output_type": "stream",
     "text": [
      "True\n"
     ]
    }
   ],
   "source": [
    "print(isinstance(l, object))"
   ]
  },
  {
   "cell_type": "code",
   "execution_count": 12,
   "metadata": {},
   "outputs": [
    {
     "name": "stdout",
     "output_type": "stream",
     "text": [
      "True\n"
     ]
    }
   ],
   "source": [
    "print(issubclass(list, object))"
   ]
  },
  {
   "cell_type": "code",
   "execution_count": 20,
   "metadata": {},
   "outputs": [
    {
     "name": "stdout",
     "output_type": "stream",
     "text": [
      "инициализатор Geom для <class '__main__.Rect'>\n",
      "инициализатор Rect\n",
      "{'x1': 2, 'y1': 5, 'x2': 6, 'y2': 9}\n"
     ]
    }
   ],
   "source": [
    "class Geom:\n",
    "    name = 'Geom'\n",
    "    def __init__(self, x1, y1, x2, y2):\n",
    "        print(f\"инициализатор Geom для {self.__class__}\")\n",
    "        self.x1 = x1\n",
    "        self.y1 = y1\n",
    "        self.x2 = x2\n",
    "        self.y2 = y2\n",
    "        \n",
    "    def draw(self):\n",
    "        pass\n",
    "\n",
    "class Rect(Geom):\n",
    "    def __init__(self, x1, y1, x2, y2):\n",
    "        super().__init__(x1, y1, x2, y2)\n",
    "        print(\"инициализатор Rect\")\n",
    " \n",
    "    def draw(self):\n",
    "        print(\"Рисование прямоугольника\")\n",
    "    \n",
    "    def get_coords(self):\n",
    "        return (self.__x1, self.__y1, self.__x2, self.__y2)\n",
    "\n",
    "        \n",
    "\n",
    "r = Rect(2, 5, 6, 9)\n",
    "print(r.__dict__)\n"
   ]
  },
  {
   "cell_type": "code",
   "execution_count": 20,
   "metadata": {},
   "outputs": [
    {
     "name": "stdout",
     "output_type": "stream",
     "text": [
      "3.141592653589793\n",
      "3.141592653589793\n"
     ]
    }
   ],
   "source": [
    "import math \n",
    "class Circle : \n",
    "    def __init__( self , radius ) : \n",
    "        self. radius = radius \n",
    "        self. area = math.pi * radius **2 \n",
    "\n",
    "c1 = Circle (1) \n",
    "print (c1.area) \n",
    "\n",
    "\n",
    "c1.radius = 10 \n",
    "print (c1.area ) "
   ]
  },
  {
   "cell_type": "markdown",
   "metadata": {},
   "source": [
    "_attribute (с одним подчеркиванием) – режим доступа protected (служит для обращения внутри класса и во всех его дочерних классах)\n",
    "__attribute (с двумя подчеркиваниями) – режим доступа private (служит для обращения только внутри класса)."
   ]
  },
  {
   "cell_type": "code",
   "execution_count": 27,
   "metadata": {},
   "outputs": [
    {
     "name": "stdout",
     "output_type": "stream",
     "text": [
      "3.141592653589793\n",
      "3.141592653589793\n"
     ]
    }
   ],
   "source": [
    "import math \n",
    "class Circle : \n",
    "    def __init__( self , radius ) : \n",
    "        self._radius = radius \n",
    "        self._area = math.pi * radius **2 \n",
    "\n",
    "c1 = Circle (1) \n",
    "print (c1._area) \n",
    "c1._radius = 10 \n",
    "print (c1._area ) "
   ]
  },
  {
   "cell_type": "code",
   "execution_count": 21,
   "metadata": {},
   "outputs": [
    {
     "ename": "AttributeError",
     "evalue": "'Circle' object has no attribute '__area'",
     "output_type": "error",
     "traceback": [
      "\u001b[1;31m---------------------------------------------------------------------------\u001b[0m",
      "\u001b[1;31mAttributeError\u001b[0m                            Traceback (most recent call last)",
      "\u001b[1;32m<ipython-input-21-af63c2ebb1ce>\u001b[0m in \u001b[0;36m<module>\u001b[1;34m\u001b[0m\n\u001b[0;32m      6\u001b[0m \u001b[1;33m\u001b[0m\u001b[0m\n\u001b[0;32m      7\u001b[0m \u001b[0mc1\u001b[0m \u001b[1;33m=\u001b[0m \u001b[0mCircle\u001b[0m \u001b[1;33m(\u001b[0m\u001b[1;36m1\u001b[0m\u001b[1;33m)\u001b[0m\u001b[1;33m\u001b[0m\u001b[1;33m\u001b[0m\u001b[0m\n\u001b[1;32m----> 8\u001b[1;33m \u001b[0mprint\u001b[0m \u001b[1;33m(\u001b[0m\u001b[0mc1\u001b[0m\u001b[1;33m.\u001b[0m\u001b[0m__area\u001b[0m\u001b[1;33m)\u001b[0m\u001b[1;33m\u001b[0m\u001b[1;33m\u001b[0m\u001b[0m\n\u001b[0m",
      "\u001b[1;31mAttributeError\u001b[0m: 'Circle' object has no attribute '__area'"
     ]
    }
   ],
   "source": [
    "import math \n",
    "class Circle : \n",
    "    def __init__( self , radius ) : \n",
    "        self.__radius = radius \n",
    "        self.__area = math.pi * radius **2 \n",
    "\n",
    "c1 = Circle (1) \n",
    "print (c1.__area) \n"
   ]
  },
  {
   "cell_type": "code",
   "execution_count": 23,
   "metadata": {},
   "outputs": [],
   "source": [
    "c1.__radius = 10 \n"
   ]
  },
  {
   "cell_type": "code",
   "execution_count": 24,
   "metadata": {},
   "outputs": [
    {
     "name": "stdout",
     "output_type": "stream",
     "text": [
      "10\n"
     ]
    }
   ],
   "source": [
    "print (c1.__radius )"
   ]
  },
  {
   "cell_type": "code",
   "execution_count": 25,
   "metadata": {},
   "outputs": [
    {
     "ename": "AttributeError",
     "evalue": "'Circle' object has no attribute '__area'",
     "output_type": "error",
     "traceback": [
      "\u001b[1;31m---------------------------------------------------------------------------\u001b[0m",
      "\u001b[1;31mAttributeError\u001b[0m                            Traceback (most recent call last)",
      "\u001b[1;32m<ipython-input-25-333ce7e37f9f>\u001b[0m in \u001b[0;36m<module>\u001b[1;34m\u001b[0m\n\u001b[1;32m----> 1\u001b[1;33m \u001b[0mprint\u001b[0m \u001b[1;33m(\u001b[0m\u001b[0mc1\u001b[0m\u001b[1;33m.\u001b[0m\u001b[0m__area\u001b[0m \u001b[1;33m)\u001b[0m\u001b[1;33m\u001b[0m\u001b[1;33m\u001b[0m\u001b[0m\n\u001b[0m",
      "\u001b[1;31mAttributeError\u001b[0m: 'Circle' object has no attribute '__area'"
     ]
    }
   ],
   "source": [
    "print (c1.__area )"
   ]
  },
  {
   "cell_type": "code",
   "execution_count": 29,
   "metadata": {},
   "outputs": [
    {
     "ename": "AttributeError",
     "evalue": "'Circle' object has no attribute '__radius'",
     "output_type": "error",
     "traceback": [
      "\u001b[1;31m---------------------------------------------------------------------------\u001b[0m",
      "\u001b[1;31mAttributeError\u001b[0m                            Traceback (most recent call last)",
      "\u001b[1;32m<ipython-input-29-e3a111853b5d>\u001b[0m in \u001b[0;36m<module>\u001b[1;34m\u001b[0m\n\u001b[0;32m      6\u001b[0m \u001b[1;33m\u001b[0m\u001b[0m\n\u001b[0;32m      7\u001b[0m \u001b[0mc1\u001b[0m \u001b[1;33m=\u001b[0m \u001b[0mCircle\u001b[0m \u001b[1;33m(\u001b[0m\u001b[1;36m1\u001b[0m\u001b[1;33m)\u001b[0m\u001b[1;33m\u001b[0m\u001b[1;33m\u001b[0m\u001b[0m\n\u001b[1;32m----> 8\u001b[1;33m \u001b[0mprint\u001b[0m \u001b[1;33m(\u001b[0m\u001b[0mc1\u001b[0m\u001b[1;33m.\u001b[0m\u001b[0m__radius\u001b[0m\u001b[1;33m)\u001b[0m\u001b[1;33m\u001b[0m\u001b[1;33m\u001b[0m\u001b[0m\n\u001b[0m",
      "\u001b[1;31mAttributeError\u001b[0m: 'Circle' object has no attribute '__radius'"
     ]
    }
   ],
   "source": [
    "import math \n",
    "class Circle : \n",
    "    def __init__( self , radius ) : \n",
    "        self.__radius = radius \n",
    "        self.__area = math.pi * radius **2 \n",
    "\n",
    "c1 = Circle (1) \n",
    "print (c1.__radius) \n"
   ]
  },
  {
   "cell_type": "code",
   "execution_count": 26,
   "metadata": {},
   "outputs": [
    {
     "name": "stdout",
     "output_type": "stream",
     "text": [
      "1\n"
     ]
    }
   ],
   "source": [
    "import math \n",
    "class Circle : \n",
    "    def __init__( self , radius ) : \n",
    "        self.__radius = radius \n",
    "        self.__area = math.pi * radius **2 \n",
    "    def get_radius ( self ) : \n",
    "        return self.__radius\n",
    "\n",
    "c1 = Circle (1) \n",
    "print (c1.get_radius()) "
   ]
  },
  {
   "cell_type": "code",
   "execution_count": 27,
   "metadata": {},
   "outputs": [
    {
     "name": "stdout",
     "output_type": "stream",
     "text": [
      "3.141592653589793\n",
      "314.1592653589793\n"
     ]
    }
   ],
   "source": [
    "import math \n",
    "class Circle : \n",
    "    def __init__( self , radius ) : \n",
    "        self.__radius = radius \n",
    "        self.__area = math.pi * radius **2 \n",
    "    def get_area ( self ) : \n",
    "        return self.__area\n",
    "    def get_radius ( self ) : \n",
    "        return self.__radius\n",
    "    def set_radius ( self , radius ) : \n",
    "        self.__radius = radius \n",
    "        self.__area = math. pi * radius **2\n",
    "\n",
    "c1 = Circle (1) \n",
    "print (c1.get_area())\n",
    "c1.set_radius(10)\n",
    "print (c1.get_area())"
   ]
  },
  {
   "cell_type": "code",
   "execution_count": 28,
   "metadata": {},
   "outputs": [
    {
     "name": "stdout",
     "output_type": "stream",
     "text": [
      "900\n",
      "Цена продажи: 900\n",
      "Цена продажи: 1000\n",
      "Цена продажи: 1000\n"
     ]
    }
   ],
   "source": [
    "class Computer:\n",
    "    def __init__(self):\n",
    "        self.maxprice = 900\n",
    "    def sell(self):\n",
    "        print(\"Цена продажи: {}\".format(self.maxprice))\n",
    "    def setMaxPrice(self, price):\n",
    "        self.maxprice = price\n",
    "\n",
    "c = Computer()\n",
    "print(c.maxprice)\n",
    "c.sell()\n",
    "c.maxprice = 1000\n",
    "c.sell()\n",
    "c.setMaxPrice(1000)\n",
    "c.sell()"
   ]
  },
  {
   "cell_type": "markdown",
   "metadata": {},
   "source": []
  },
  {
   "cell_type": "code",
   "execution_count": 32,
   "metadata": {},
   "outputs": [
    {
     "name": "stdout",
     "output_type": "stream",
     "text": [
      "Цена продажи: 900\n",
      "Цена продажи: 900\n",
      "Цена продажи: 1000\n"
     ]
    }
   ],
   "source": [
    "class Computer:\n",
    "    def __init__(self):\n",
    "        self.__maxprice = 900\n",
    "    def sell(self):\n",
    "        print(\"Цена продажи: {}\".format(self.__maxprice))\n",
    "\n",
    "    def setMaxPrice(self, price):\n",
    "        self.__maxprice = price\n",
    "\n",
    "c = Computer()\n",
    "\n",
    "c.sell()\n",
    "c.__maxprice = 1000\n",
    "c.sell()\n",
    "c.setMaxPrice(1000)\n",
    "c.sell()"
   ]
  },
  {
   "cell_type": "code",
   "execution_count": 37,
   "metadata": {},
   "outputs": [
    {
     "name": "stdout",
     "output_type": "stream",
     "text": [
      "1 2\n",
      "200 coord_y\n"
     ]
    }
   ],
   "source": [
    "class Point:\n",
    "    def __init__(self, x=0, y=0):\n",
    "        self.x = x\n",
    "        self.y = y\n",
    "\n",
    "pt = Point(1, 2)\n",
    "print(pt.x, pt.y)\n",
    "pt.x = 200\n",
    "pt.y = \"coord_y\"\n",
    "print(pt.x, pt.y)"
   ]
  },
  {
   "cell_type": "code",
   "execution_count": 18,
   "metadata": {},
   "outputs": [
    {
     "name": "stdout",
     "output_type": "stream",
     "text": [
      "1 2\n",
      "200 coord_y\n"
     ]
    }
   ],
   "source": [
    "class Point:\n",
    "    def __init__(self, x=0, y=0):\n",
    "        self._x = x\n",
    "        self._y = y\n",
    "pt = Point(1, 2)\n",
    "print(pt._x, pt._y)\n",
    "pt.x = 200\n",
    "pt.y = \"coord_y\"\n",
    "print(pt.x, pt.y)"
   ]
  },
  {
   "cell_type": "code",
   "execution_count": 19,
   "metadata": {},
   "outputs": [
    {
     "ename": "AttributeError",
     "evalue": "'Point' object has no attribute '__x'",
     "output_type": "error",
     "traceback": [
      "\u001b[1;31m---------------------------------------------------------------------------\u001b[0m",
      "\u001b[1;31mAttributeError\u001b[0m                            Traceback (most recent call last)",
      "\u001b[1;32m<ipython-input-19-fc384987ed9f>\u001b[0m in \u001b[0;36m<module>\u001b[1;34m\u001b[0m\n\u001b[0;32m      4\u001b[0m         \u001b[0mself\u001b[0m\u001b[1;33m.\u001b[0m\u001b[0m__y\u001b[0m \u001b[1;33m=\u001b[0m \u001b[0my\u001b[0m\u001b[1;33m\u001b[0m\u001b[1;33m\u001b[0m\u001b[0m\n\u001b[0;32m      5\u001b[0m \u001b[0mpt\u001b[0m \u001b[1;33m=\u001b[0m \u001b[0mPoint\u001b[0m\u001b[1;33m(\u001b[0m\u001b[1;36m1\u001b[0m\u001b[1;33m,\u001b[0m \u001b[1;36m2\u001b[0m\u001b[1;33m)\u001b[0m\u001b[1;33m\u001b[0m\u001b[1;33m\u001b[0m\u001b[0m\n\u001b[1;32m----> 6\u001b[1;33m \u001b[0mprint\u001b[0m\u001b[1;33m(\u001b[0m\u001b[0mpt\u001b[0m\u001b[1;33m.\u001b[0m\u001b[0m__x\u001b[0m\u001b[1;33m,\u001b[0m \u001b[0mpt\u001b[0m\u001b[1;33m.\u001b[0m\u001b[0m__y\u001b[0m\u001b[1;33m)\u001b[0m\u001b[1;33m\u001b[0m\u001b[1;33m\u001b[0m\u001b[0m\n\u001b[0m",
      "\u001b[1;31mAttributeError\u001b[0m: 'Point' object has no attribute '__x'"
     ]
    }
   ],
   "source": [
    "class Point:\n",
    "    def __init__(self, x=0, y=0):\n",
    "        self.__x = x\n",
    "        self.__y = y\n",
    "pt = Point(1, 2)\n",
    "print(pt.__x, pt.__y)"
   ]
  },
  {
   "cell_type": "code",
   "execution_count": 48,
   "metadata": {},
   "outputs": [
    {
     "name": "stdout",
     "output_type": "stream",
     "text": [
      "3.141592653589793\n",
      "314.1592653589793\n"
     ]
    }
   ],
   "source": [
    "import math \n",
    "class Circle : \n",
    "    def __init__( self , radius ) : \n",
    "        self.__radius = radius \n",
    "        self.__area = math.pi * radius **2 \n",
    "    def get_area ( self ) : \n",
    "        return self.__area\n",
    "    def get_radius ( self ) : \n",
    "        return self.__radius\n",
    "    def set_radius ( self , radius ) : \n",
    "        self.__radius = radius \n",
    "        self.__area = math. pi * radius **2\n",
    "\n",
    "c1 = Circle (1) \n",
    "print (c1.get_area())\n",
    "c1.set_radius(10)\n",
    "print (c1.get_area())"
   ]
  },
  {
   "cell_type": "code",
   "execution_count": 33,
   "metadata": {},
   "outputs": [
    {
     "name": "stdout",
     "output_type": "stream",
     "text": [
      "3.141592653589793\n",
      "3.141592653589793\n"
     ]
    }
   ],
   "source": [
    "import math \n",
    "class Circle : \n",
    "    def __init__( self , radius ) : \n",
    "        self.__radius = radius \n",
    "        self.__area = math.pi * radius **2 \n",
    "    def get_area ( self ) : \n",
    "        return self.__area\n",
    "    def get_radius ( self ) : \n",
    "        return self.__radius\n",
    "    def set_radius ( self , radius ) : \n",
    "        self.__radius = radius \n",
    "        self.__area = math. pi * radius **2\n",
    "\n",
    "c1 = Circle (1) \n",
    "print (c1.get_area())\n",
    "c.__radius = 5 \n",
    "\n",
    "print (c1.get_area())"
   ]
  },
  {
   "cell_type": "code",
   "execution_count": null,
   "metadata": {},
   "outputs": [],
   "source": [
    "\n",
    "\n",
    "radius = property ( get_radius , set _ radius ) \n",
    "area = property ( get_area ) "
   ]
  },
  {
   "cell_type": "code",
   "execution_count": 46,
   "metadata": {},
   "outputs": [
    {
     "name": "stdout",
     "output_type": "stream",
     "text": [
      "3.141592653589793\n",
      "3.141592653589793\n"
     ]
    }
   ],
   "source": [
    "import math \n",
    "class Circle : \n",
    "    def __init__( self , radius ) : \n",
    "        self.__radius = radius \n",
    "        self.__area = math.pi * radius **2 \n",
    "    def get_area ( self ) : \n",
    "        return self.__area\n",
    "    def get_radius ( self ) : \n",
    "        return self.__radius\n",
    "    def set_radius ( self , radius ) : \n",
    "        self.__radius = radius \n",
    "        self.__area = math. pi * radius **2\n",
    "\n",
    "    radius = property(get_radius , set_radius ) \n",
    "    area = property(get_area ) \n",
    "    \n",
    "    \n",
    "c1 = Circle (1) \n",
    "print (c1.get_area())\n",
    "c.radius = 5 \n",
    "print (c1.get_area())"
   ]
  },
  {
   "cell_type": "code",
   "execution_count": 50,
   "metadata": {},
   "outputs": [
    {
     "name": "stdout",
     "output_type": "stream",
     "text": [
      "37\n",
      "98.60000000000001\n",
      "{'temperature': 37}\n"
     ]
    }
   ],
   "source": [
    "# Basic method of setting and getting attributes in Python\n",
    "class Celsius:\n",
    "    def __init__(self, temperature=0):\n",
    "        self.temperature = temperature\n",
    "\n",
    "    def to_fahrenheit(self):\n",
    "        return (self.temperature * 1.8) + 32\n",
    "\n",
    "\n",
    "# Create a new object\n",
    "human = Celsius()\n",
    "\n",
    "# Set the temperature\n",
    "human.temperature = 37\n",
    "\n",
    "# Get the temperature attribute\n",
    "print(human.temperature)\n",
    "\n",
    "# Get the to_fahrenheit method\n",
    "print(human.to_fahrenheit())\n",
    "print(human.__dict__) "
   ]
  },
  {
   "cell_type": "code",
   "execution_count": 53,
   "metadata": {},
   "outputs": [
    {
     "name": "stdout",
     "output_type": "stream",
     "text": [
      "37\n",
      "98.60000000000001\n"
     ]
    },
    {
     "ename": "ValueError",
     "evalue": "Temperature below -273.15 is not possible.",
     "output_type": "error",
     "traceback": [
      "\u001b[1;31m---------------------------------------------------------------------------\u001b[0m",
      "\u001b[1;31mValueError\u001b[0m                                Traceback (most recent call last)",
      "\u001b[1;32m<ipython-input-53-efb1eae5baea>\u001b[0m in \u001b[0;36m<module>\u001b[1;34m\u001b[0m\n\u001b[0;32m     26\u001b[0m \u001b[1;33m\u001b[0m\u001b[0m\n\u001b[0;32m     27\u001b[0m \u001b[1;31m# new constraint implementation\u001b[0m\u001b[1;33m\u001b[0m\u001b[1;33m\u001b[0m\u001b[1;33m\u001b[0m\u001b[0m\n\u001b[1;32m---> 28\u001b[1;33m \u001b[0mhuman\u001b[0m\u001b[1;33m.\u001b[0m\u001b[0mset_temperature\u001b[0m\u001b[1;33m(\u001b[0m\u001b[1;33m-\u001b[0m\u001b[1;36m300\u001b[0m\u001b[1;33m)\u001b[0m\u001b[1;33m\u001b[0m\u001b[1;33m\u001b[0m\u001b[0m\n\u001b[0m\u001b[0;32m     29\u001b[0m \u001b[1;33m\u001b[0m\u001b[0m\n\u001b[0;32m     30\u001b[0m \u001b[1;31m# Get the to_fahreheit method\u001b[0m\u001b[1;33m\u001b[0m\u001b[1;33m\u001b[0m\u001b[1;33m\u001b[0m\u001b[0m\n",
      "\u001b[1;32m<ipython-input-53-efb1eae5baea>\u001b[0m in \u001b[0;36mset_temperature\u001b[1;34m(self, value)\u001b[0m\n\u001b[0;32m     13\u001b[0m     \u001b[1;32mdef\u001b[0m \u001b[0mset_temperature\u001b[0m\u001b[1;33m(\u001b[0m\u001b[0mself\u001b[0m\u001b[1;33m,\u001b[0m \u001b[0mvalue\u001b[0m\u001b[1;33m)\u001b[0m\u001b[1;33m:\u001b[0m\u001b[1;33m\u001b[0m\u001b[1;33m\u001b[0m\u001b[0m\n\u001b[0;32m     14\u001b[0m         \u001b[1;32mif\u001b[0m \u001b[0mvalue\u001b[0m \u001b[1;33m<\u001b[0m \u001b[1;33m-\u001b[0m\u001b[1;36m273.15\u001b[0m\u001b[1;33m:\u001b[0m\u001b[1;33m\u001b[0m\u001b[1;33m\u001b[0m\u001b[0m\n\u001b[1;32m---> 15\u001b[1;33m             \u001b[1;32mraise\u001b[0m \u001b[0mValueError\u001b[0m\u001b[1;33m(\u001b[0m\u001b[1;34m\"Temperature below -273.15 is not possible.\"\u001b[0m\u001b[1;33m)\u001b[0m\u001b[1;33m\u001b[0m\u001b[1;33m\u001b[0m\u001b[0m\n\u001b[0m\u001b[0;32m     16\u001b[0m         \u001b[0mself\u001b[0m\u001b[1;33m.\u001b[0m\u001b[0m_temperature\u001b[0m \u001b[1;33m=\u001b[0m \u001b[0mvalue\u001b[0m\u001b[1;33m\u001b[0m\u001b[1;33m\u001b[0m\u001b[0m\n\u001b[0;32m     17\u001b[0m \u001b[1;33m\u001b[0m\u001b[0m\n",
      "\u001b[1;31mValueError\u001b[0m: Temperature below -273.15 is not possible."
     ]
    }
   ],
   "source": [
    "class Celsius:\n",
    "    def __init__(self, temperature=0):\n",
    "        self.set_temperature(temperature)\n",
    "\n",
    "    def to_fahrenheit(self):\n",
    "        return (self.get_temperature() * 1.8) + 32\n",
    "\n",
    "    # getter method\n",
    "    def get_temperature(self):\n",
    "        return self._temperature\n",
    "\n",
    "    # setter method\n",
    "    def set_temperature(self, value):\n",
    "        if value < -273.15:\n",
    "            raise ValueError(\"Temperature below -273.15 is not possible.\")\n",
    "        self._temperature = value\n",
    "        \n",
    "# Create a new object, set_temperature() internally called by __init__\n",
    "human = Celsius(37)\n",
    "\n",
    "# Get the temperature attribute via a getter\n",
    "print(human.get_temperature())\n",
    "\n",
    "# Get the to_fahrenheit method, get_temperature() called by the method itself\n",
    "print(human.to_fahrenheit())\n",
    "\n",
    "# new constraint implementation\n",
    "human.set_temperature(-300)\n",
    "\n",
    "# Get the to_fahreheit method\n",
    "print(human.to_fahrenheit())"
   ]
  },
  {
   "cell_type": "code",
   "execution_count": null,
   "metadata": {},
   "outputs": [],
   "source": [
    "class Translator:\n",
    "    def __init__(self):\n",
    "        self.words = {}\n",
    "\n",
    "    def add(self, eng, rus):\n",
    "        if self.words != {}:\n",
    "            if eng not in list(self.words.keys()):\n",
    "                self.words.setdefault(eng, [rus])\n",
    "            else:\n",
    "                if rus not in self.words[eng]:\n",
    "                    self.words.setdefault(eng, self.words[eng].append(rus))\n",
    "        else:\n",
    "            self.words.setdefault(eng, [rus])\n",
    "\n",
    "    def remove(self, eng):\n",
    "        self.words.pop(eng)\n",
    "\n",
    "    def translate(self, eng):\n",
    "        result = self.words[eng]\n",
    "        return result\n",
    "\n",
    "tr = Translator()\n",
    "tr.add(\"tree\", \"дерево\")\n",
    "tr.add(\"car\", \"машина\")\n",
    "tr.add(\"car\", \"автомобиль\")\n",
    "tr.add(\"leaf\", \"лист\")\n",
    "tr.add(\"river\", \"река\")\n",
    "tr.add(\"go\", \"идти\")\n",
    "tr.add(\"go\", \"ехать\")\n",
    "tr.add(\"go\", \"ходить\")\n",
    "tr.add(\"milk\", \"молоко\")\n",
    "tr.remove('car')\n",
    "print(*tr.translate('go'))"
   ]
  },
  {
   "cell_type": "code",
   "execution_count": 37,
   "metadata": {},
   "outputs": [
    {
     "name": "stdout",
     "output_type": "stream",
     "text": [
      "Peter Великий\n",
      "Царь\n",
      "125000\n"
     ]
    }
   ],
   "source": [
    "class Worker:\n",
    "\n",
    "    def __init__(self, name, surname, position, wage, bonus):\n",
    "        self.name = name\n",
    "        self.surname = surname\n",
    "        self.position = position\n",
    "        self._income = {\"wage\": wage, \"bonus\": bonus}\n",
    "\n",
    "\n",
    "class Position(Worker):\n",
    "\n",
    "    def __init__(self, name, surname, position, wage, bonus):\n",
    "        super().__init__(name, surname, position, wage, bonus)\n",
    "\n",
    "    def get_full_name(self):\n",
    "        return self.name + ' ' + self.surname\n",
    "\n",
    "    def get_total_income(self):\n",
    "        return self._income.get('wage') + self._income.get('bonus')\n",
    "        # return f'{sum(self._income.values())}\n",
    "\n",
    "        \n",
    "a = Position('Peter', 'Великий', 'Царь', 100000, 25000)\n",
    "print(a.get_full_name())\n",
    "print(a.position)\n",
    "print(a.get_total_income())"
   ]
  },
  {
   "cell_type": "code",
   "execution_count": 40,
   "metadata": {},
   "outputs": [],
   "source": [
    "class Stationary:\n",
    "    def __init__(self, title):\n",
    "        self.title = title\n",
    "\n",
    "    def draw(self):\n",
    "        return 'Запуск отрисовки {self.title}'\n",
    "\n",
    "\n",
    "class Pen(Stationary):\n",
    "    def __init__(self, title):\n",
    "        super().__init__(title)\n",
    "\n",
    "    def draw(self):\n",
    "        return 'Вы взяли '+ str(self.title)+' Запуск отрисовки ручкой'\n",
    "\n",
    "\n",
    "class Pencil(Stationary):\n",
    "    def __init__(self, title):\n",
    "        super().__init__(title)\n",
    "\n",
    "    def draw(self):\n",
    "        return 'Вы взяли '+ str(self.title)+'. Запуск отрисовки карандашом'\n",
    "\n",
    "class Handle(Stationary):\n",
    "    def __init__(self, title):\n",
    "        super().__init__(title)\n",
    "\n",
    "    def draw(self):\n",
    "        return 'Вы взяли '+ str(self.title)+'. Запуск отрисовки маркером'"
   ]
  },
  {
   "cell_type": "code",
   "execution_count": 41,
   "metadata": {},
   "outputs": [
    {
     "name": "stdout",
     "output_type": "stream",
     "text": [
      "Вы взяли Ручка Запуск отрисовки ручкой\n",
      "Вы взяли Карандаш. Запуск отрисовки карандашом\n",
      "Вы взяли Маркер. Запуск отрисовки маркером\n"
     ]
    }
   ],
   "source": [
    "\n",
    "pen = Pen('Ручка')\n",
    "pencil = Pencil('Карандаш')\n",
    "handle = Handle('Маркер')\n",
    "print(pen.draw())\n",
    "print(pencil.draw())\n",
    "print(handle.draw())"
   ]
  },
  {
   "cell_type": "code",
   "execution_count": null,
   "metadata": {},
   "outputs": [],
   "source": [
    "class Matrix:\n",
    "    def __init__(self, list_1, list_2):\n",
    "        # self.matr = [list_1, list_2]\n",
    "        self.list_1 = list_1\n",
    "        self.list_2 = list_2\n",
    "\n",
    "    def __add__(self):\n",
    "        matr = [[0, 0, 0],\n",
    "                [0, 0, 0],\n",
    "                [0, 0, 0]]\n",
    "\n",
    "        for i in range(len(self.list_1)):\n",
    "\n",
    "            for j in range(len(self.list_2[i])):\n",
    "                matr[i][j] = self.list_1[i][j] + self.list_2[i][j]\n",
    "\n",
    "        return str('\\n'.join(['\\t'.join([str(j) for j in i]) for i in matr]))\n",
    "\n",
    "\n",
    "    def __str__(self):\n",
    "        return str('\\n'.join(['\\t'.join([str(j) for j in i]) for i in matr]))\n",
    "\n",
    "    \n",
    "my_matrix = Matrix([[5, 18, 11],\n",
    "                    [6, 17, 23],\n",
    "                    [41, 50, 9]],\n",
    "                   [[45, 8, 2],\n",
    "                    [6, 7, 93],\n",
    "                    [24, 5, 97]])\n",
    "print(my_matrix.__add__())"
   ]
  },
  {
   "cell_type": "code",
   "execution_count": null,
   "metadata": {},
   "outputs": [],
   "source": [
    "class Data:\n",
    "    def __init__(self, day_month_year):\n",
    "        # self.day = day\n",
    "        # self.month = month\n",
    "        # self.year = year\n",
    "        self.day_month_year = str(day_month_year)\n",
    "\n",
    "    @classmethod\n",
    "    def extract(cls, day_month_year):\n",
    "        my_date = day_month_year.split('-'):\n",
    "\n",
    "\n",
    "        return int(my_date[0]), int(my_date[1]), int(my_date[2])\n",
    "\n",
    "    @staticmethod\n",
    "    def valid(day, month, year):\n",
    "\n",
    "        if 1 <= day <= 31:\n",
    "            if 1 <= month <= 12:\n",
    "                if 2019 >= year >= 0:\n",
    "                    return 'All right'\n",
    "                else:\n",
    "                    return 'Неправильный год'\n",
    "            else:\n",
    "                return 'Неправильный месяц'\n",
    "        else:\n",
    "            return 'Неправильный день'\n",
    "\n",
    "    def __str__(self):\n",
    "        return 'Текущая дата'+ str(Data.extract(self.day_month_year))\n"
   ]
  },
  {
   "cell_type": "code",
   "execution_count": null,
   "metadata": {},
   "outputs": [],
   "source": [
    "today = Data('11 - 1 - 2001')\n",
    "print(today)\n",
    "print(Data.valid(11, 11, 2022))\n",
    "print(today.valid(11, 13, 2011))\n",
    "print(Data.extract('11 - 11 - 2011'))\n",
    "print(today.extract('11 - 11 - 2020'))\n",
    "print(Data.valid(1, 11, 2000))"
   ]
  },
  {
   "cell_type": "code",
   "execution_count": 44,
   "metadata": {},
   "outputs": [],
   "source": [
    "class Data:\n",
    "    def __init__(self, day_month_year):\n",
    "        self.day_month_year = str(day_month_year)\n",
    "\n",
    "    @classmethod\n",
    "    def extract(cls, day_month_year):\n",
    "        my_date = day_month_year.split('-')\n",
    "        return int(my_date[0]), int(my_date[1]), int(my_date[2])\n",
    "    def __str__(self):\n",
    "        return 'Текущая дата'+ str(Data.extract(self.day_month_year))\n",
    "    \n",
    "today = Data('11 - 1 - 2001')"
   ]
  },
  {
   "cell_type": "code",
   "execution_count": 45,
   "metadata": {},
   "outputs": [],
   "source": []
  },
  {
   "cell_type": "code",
   "execution_count": null,
   "metadata": {},
   "outputs": [],
   "source": []
  }
 ],
 "metadata": {
  "colab": {
   "include_colab_link": true,
   "provenance": []
  },
  "kernelspec": {
   "display_name": "Python 3",
   "language": "python",
   "name": "python3"
  },
  "language_info": {
   "codemirror_mode": {
    "name": "ipython",
    "version": 3
   },
   "file_extension": ".py",
   "mimetype": "text/x-python",
   "name": "python",
   "nbconvert_exporter": "python",
   "pygments_lexer": "ipython3",
   "version": "3.8.3"
  }
 },
 "nbformat": 4,
 "nbformat_minor": 1
}
