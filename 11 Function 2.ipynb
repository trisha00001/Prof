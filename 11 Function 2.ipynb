{
 "cells": [
  {
   "cell_type": "markdown",
   "metadata": {},
   "source": [
    "# Преимущества пользовательских функций\n",
    "\n",
    "1. Пользовательские функции помогают разложить большую программу на небольшие сегменты, что делает программу легкой для понимания, обслуживания и отладки.\n",
    "\n",
    "2. Если в программе возникает повторяющийся код. Функция может использоваться для включения этих кодов и выполняться при необходимости путем вызова этой функции.\n",
    "\n",
    "3. Программисты, работающие над большим проектом, могут разделить рабочую нагрузку, выполняя различные функции."
   ]
  },
  {
   "cell_type": "code",
   "execution_count": 8,
   "metadata": {},
   "outputs": [],
   "source": [
    "def e(r):\n",
    "    p = r.split('/')[1]\n",
    "    return p"
   ]
  },
  {
   "cell_type": "code",
   "execution_count": 3,
   "metadata": {},
   "outputs": [
    {
     "data": {
      "text/plain": [
       "'Россия'"
      ]
     },
     "execution_count": 3,
     "metadata": {},
     "output_type": "execute_result"
    }
   ],
   "source": [
    "e('Москва/Россия')"
   ]
  },
  {
   "cell_type": "code",
   "execution_count": 4,
   "metadata": {},
   "outputs": [],
   "source": [
    "assert e('Москва/Россия') == 'Россия'"
   ]
  },
  {
   "cell_type": "code",
   "execution_count": 5,
   "metadata": {},
   "outputs": [],
   "source": [
    "assert e('Париж/Франция') == 'Франция'"
   ]
  },
  {
   "cell_type": "code",
   "execution_count": 9,
   "metadata": {},
   "outputs": [],
   "source": [
    "assert e('Москва/Россия') == 'Россия'"
   ]
  },
  {
   "cell_type": "code",
   "execution_count": 29,
   "metadata": {},
   "outputs": [],
   "source": [
    "def add_numbers(a , b):\n",
    "    sum = a + b\n",
    "    return sum\n",
    "    "
   ]
  },
  {
   "cell_type": "code",
   "execution_count": 11,
   "metadata": {},
   "outputs": [
    {
     "data": {
      "text/plain": [
       "5"
      ]
     },
     "execution_count": 11,
     "metadata": {},
     "output_type": "execute_result"
    }
   ],
   "source": [
    "add_numbers(2, 3)"
   ]
  },
  {
   "cell_type": "code",
   "execution_count": 30,
   "metadata": {},
   "outputs": [],
   "source": [
    "assert add_numbers(2, 3) == 5\n"
   ]
  },
  {
   "cell_type": "code",
   "execution_count": 31,
   "metadata": {},
   "outputs": [
    {
     "ename": "AssertionError",
     "evalue": "",
     "output_type": "error",
     "traceback": [
      "\u001b[1;31m---------------------------------------------------------------------------\u001b[0m",
      "\u001b[1;31mAssertionError\u001b[0m                            Traceback (most recent call last)",
      "\u001b[1;32m<ipython-input-31-faa41607da93>\u001b[0m in \u001b[0;36m<module>\u001b[1;34m\u001b[0m\n\u001b[1;32m----> 1\u001b[1;33m \u001b[1;32massert\u001b[0m \u001b[0madd_numbers\u001b[0m\u001b[1;33m(\u001b[0m\u001b[1;34m'2'\u001b[0m\u001b[1;33m,\u001b[0m \u001b[1;34m'3'\u001b[0m\u001b[1;33m)\u001b[0m \u001b[1;33m==\u001b[0m \u001b[1;36m5\u001b[0m\u001b[1;33m\u001b[0m\u001b[1;33m\u001b[0m\u001b[0m\n\u001b[0m",
      "\u001b[1;31mAssertionError\u001b[0m: "
     ]
    }
   ],
   "source": [
    "assert add_numbers('2', '3') == 5"
   ]
  },
  {
   "cell_type": "code",
   "execution_count": 32,
   "metadata": {},
   "outputs": [
    {
     "ename": "TypeError",
     "evalue": "add_numbers() missing 1 required positional argument: 'b'",
     "output_type": "error",
     "traceback": [
      "\u001b[1;31m---------------------------------------------------------------------------\u001b[0m",
      "\u001b[1;31mTypeError\u001b[0m                                 Traceback (most recent call last)",
      "\u001b[1;32m<ipython-input-32-4d23d048c482>\u001b[0m in \u001b[0;36m<module>\u001b[1;34m\u001b[0m\n\u001b[1;32m----> 1\u001b[1;33m \u001b[1;32massert\u001b[0m \u001b[0madd_numbers\u001b[0m\u001b[1;33m(\u001b[0m\u001b[1;36m2\u001b[0m\u001b[1;33m)\u001b[0m \u001b[1;33m==\u001b[0m \u001b[1;36m2\u001b[0m\u001b[1;33m\u001b[0m\u001b[1;33m\u001b[0m\u001b[0m\n\u001b[0m",
      "\u001b[1;31mTypeError\u001b[0m: add_numbers() missing 1 required positional argument: 'b'"
     ]
    }
   ],
   "source": [
    "assert add_numbers(2) == 2"
   ]
  },
  {
   "cell_type": "code",
   "execution_count": 33,
   "metadata": {},
   "outputs": [
    {
     "ename": "TypeError",
     "evalue": "can only concatenate str (not \"int\") to str",
     "output_type": "error",
     "traceback": [
      "\u001b[1;31m---------------------------------------------------------------------------\u001b[0m",
      "\u001b[1;31mTypeError\u001b[0m                                 Traceback (most recent call last)",
      "\u001b[1;32m<ipython-input-33-359eb4849198>\u001b[0m in \u001b[0;36m<module>\u001b[1;34m\u001b[0m\n\u001b[1;32m----> 1\u001b[1;33m \u001b[1;32massert\u001b[0m \u001b[0madd_numbers\u001b[0m\u001b[1;33m(\u001b[0m\u001b[1;34m'2'\u001b[0m\u001b[1;33m,\u001b[0m \u001b[1;36m3\u001b[0m\u001b[1;33m)\u001b[0m \u001b[1;33m==\u001b[0m \u001b[1;36m5\u001b[0m\u001b[1;33m\u001b[0m\u001b[1;33m\u001b[0m\u001b[0m\n\u001b[0m",
      "\u001b[1;32m<ipython-input-29-66b0b5411bd9>\u001b[0m in \u001b[0;36madd_numbers\u001b[1;34m(a, b)\u001b[0m\n\u001b[0;32m      1\u001b[0m \u001b[1;32mdef\u001b[0m \u001b[0madd_numbers\u001b[0m\u001b[1;33m(\u001b[0m\u001b[0ma\u001b[0m \u001b[1;33m,\u001b[0m \u001b[0mb\u001b[0m\u001b[1;33m)\u001b[0m\u001b[1;33m:\u001b[0m\u001b[1;33m\u001b[0m\u001b[1;33m\u001b[0m\u001b[0m\n\u001b[1;32m----> 2\u001b[1;33m     \u001b[0msum\u001b[0m \u001b[1;33m=\u001b[0m \u001b[0ma\u001b[0m \u001b[1;33m+\u001b[0m \u001b[0mb\u001b[0m\u001b[1;33m\u001b[0m\u001b[1;33m\u001b[0m\u001b[0m\n\u001b[0m\u001b[0;32m      3\u001b[0m     \u001b[1;32mreturn\u001b[0m \u001b[0msum\u001b[0m\u001b[1;33m\u001b[0m\u001b[1;33m\u001b[0m\u001b[0m\n\u001b[0;32m      4\u001b[0m \u001b[1;33m\u001b[0m\u001b[0m\n",
      "\u001b[1;31mTypeError\u001b[0m: can only concatenate str (not \"int\") to str"
     ]
    }
   ],
   "source": [
    "assert add_numbers('2', 3) == 5"
   ]
  },
  {
   "cell_type": "code",
   "execution_count": 34,
   "metadata": {},
   "outputs": [
    {
     "ename": "TypeError",
     "evalue": "unsupported operand type(s) for +: 'int' and 'str'",
     "output_type": "error",
     "traceback": [
      "\u001b[1;31m---------------------------------------------------------------------------\u001b[0m",
      "\u001b[1;31mTypeError\u001b[0m                                 Traceback (most recent call last)",
      "\u001b[1;32m<ipython-input-34-ff2470b7999f>\u001b[0m in \u001b[0;36m<module>\u001b[1;34m\u001b[0m\n\u001b[1;32m----> 1\u001b[1;33m \u001b[1;32massert\u001b[0m \u001b[0madd_numbers\u001b[0m\u001b[1;33m(\u001b[0m\u001b[1;36m2\u001b[0m\u001b[1;33m,\u001b[0m \u001b[1;34m'3'\u001b[0m\u001b[1;33m)\u001b[0m \u001b[1;33m==\u001b[0m \u001b[1;36m5\u001b[0m\u001b[1;33m\u001b[0m\u001b[1;33m\u001b[0m\u001b[0m\n\u001b[0m",
      "\u001b[1;32m<ipython-input-29-66b0b5411bd9>\u001b[0m in \u001b[0;36madd_numbers\u001b[1;34m(a, b)\u001b[0m\n\u001b[0;32m      1\u001b[0m \u001b[1;32mdef\u001b[0m \u001b[0madd_numbers\u001b[0m\u001b[1;33m(\u001b[0m\u001b[0ma\u001b[0m \u001b[1;33m,\u001b[0m \u001b[0mb\u001b[0m\u001b[1;33m)\u001b[0m\u001b[1;33m:\u001b[0m\u001b[1;33m\u001b[0m\u001b[1;33m\u001b[0m\u001b[0m\n\u001b[1;32m----> 2\u001b[1;33m     \u001b[0msum\u001b[0m \u001b[1;33m=\u001b[0m \u001b[0ma\u001b[0m \u001b[1;33m+\u001b[0m \u001b[0mb\u001b[0m\u001b[1;33m\u001b[0m\u001b[1;33m\u001b[0m\u001b[0m\n\u001b[0m\u001b[0;32m      3\u001b[0m     \u001b[1;32mreturn\u001b[0m \u001b[0msum\u001b[0m\u001b[1;33m\u001b[0m\u001b[1;33m\u001b[0m\u001b[0m\n\u001b[0;32m      4\u001b[0m \u001b[1;33m\u001b[0m\u001b[0m\n",
      "\u001b[1;31mTypeError\u001b[0m: unsupported operand type(s) for +: 'int' and 'str'"
     ]
    }
   ],
   "source": [
    "\n",
    "\n",
    "\n",
    "assert add_numbers(2, '3') == 5"
   ]
  },
  {
   "cell_type": "code",
   "execution_count": 35,
   "metadata": {},
   "outputs": [
    {
     "ename": "TypeError",
     "evalue": "add_numbers() missing 2 required positional arguments: 'a' and 'b'",
     "output_type": "error",
     "traceback": [
      "\u001b[1;31m---------------------------------------------------------------------------\u001b[0m",
      "\u001b[1;31mTypeError\u001b[0m                                 Traceback (most recent call last)",
      "\u001b[1;32m<ipython-input-35-4fa83bef7bd8>\u001b[0m in \u001b[0;36m<module>\u001b[1;34m\u001b[0m\n\u001b[1;32m----> 1\u001b[1;33m \u001b[1;32massert\u001b[0m \u001b[0madd_numbers\u001b[0m\u001b[1;33m(\u001b[0m\u001b[1;33m)\u001b[0m \u001b[1;33m==\u001b[0m \u001b[1;32mNone\u001b[0m\u001b[1;33m\u001b[0m\u001b[1;33m\u001b[0m\u001b[0m\n\u001b[0m",
      "\u001b[1;31mTypeError\u001b[0m: add_numbers() missing 2 required positional arguments: 'a' and 'b'"
     ]
    }
   ],
   "source": [
    "\n",
    "assert add_numbers() == None"
   ]
  },
  {
   "cell_type": "code",
   "execution_count": 36,
   "metadata": {},
   "outputs": [
    {
     "ename": "AssertionError",
     "evalue": "",
     "output_type": "error",
     "traceback": [
      "\u001b[1;31m---------------------------------------------------------------------------\u001b[0m",
      "\u001b[1;31mAssertionError\u001b[0m                            Traceback (most recent call last)",
      "\u001b[1;32m<ipython-input-36-330f460bd595>\u001b[0m in \u001b[0;36m<module>\u001b[1;34m\u001b[0m\n\u001b[1;32m----> 1\u001b[1;33m \u001b[1;32massert\u001b[0m \u001b[0madd_numbers\u001b[0m\u001b[1;33m(\u001b[0m\u001b[1;34m'g'\u001b[0m\u001b[1;33m,\u001b[0m \u001b[1;34m'l'\u001b[0m\u001b[1;33m)\u001b[0m \u001b[1;33m==\u001b[0m \u001b[1;34m'введите числа'\u001b[0m\u001b[1;33m\u001b[0m\u001b[1;33m\u001b[0m\u001b[0m\n\u001b[0m",
      "\u001b[1;31mAssertionError\u001b[0m: "
     ]
    }
   ],
   "source": [
    "\n",
    "assert add_numbers('g', 'l') == 'введите числа'"
   ]
  },
  {
   "cell_type": "code",
   "execution_count": 37,
   "metadata": {},
   "outputs": [],
   "source": [
    "def add_numbers(a = 0 , b = 0):\n",
    "    a = int(a) \n",
    "    b = int(b)\n",
    "    sum = a + b\n",
    "    return sum"
   ]
  },
  {
   "cell_type": "code",
   "execution_count": 38,
   "metadata": {},
   "outputs": [],
   "source": [
    "assert add_numbers('2', '3') == 5"
   ]
  },
  {
   "cell_type": "code",
   "execution_count": 4,
   "metadata": {},
   "outputs": [
    {
     "name": "stdout",
     "output_type": "stream",
     "text": [
      "Summa 0\n"
     ]
    }
   ],
   "source": [
    "add_numbers()"
   ]
  },
  {
   "cell_type": "code",
   "execution_count": null,
   "metadata": {},
   "outputs": [],
   "source": [
    "def minimum(a, b ):\n",
    "    if a < b:\n",
    "            return a\n",
    "    else:\n",
    "            return b\n",
    "\n",
    "print(minimum(2, 89))"
   ]
  },
  {
   "cell_type": "code",
   "execution_count": 11,
   "metadata": {},
   "outputs": [
    {
     "name": "stdout",
     "output_type": "stream",
     "text": [
      "<class 'tuple'>\n",
      "0\n"
     ]
    }
   ],
   "source": [
    "def minimum(*numbers):\n",
    "    print(type(numbers))\n",
    "    mi = numbers[0]\n",
    "    for i in numbers:\n",
    "        if i < mi:\n",
    "            mi = i\n",
    "    return mi\n",
    "\n",
    "print(minimum(2, 89, 9, 77,0))"
   ]
  },
  {
   "cell_type": "code",
   "execution_count": 13,
   "metadata": {},
   "outputs": [
    {
     "name": "stdout",
     "output_type": "stream",
     "text": [
      "2\n"
     ]
    }
   ],
   "source": [
    "def minimum(*numbers):\n",
    "    type(numbers)\n",
    "    mi = numbers[0]\n",
    "    for i in numbers:\n",
    "        if i < mi:\n",
    "            mi = i\n",
    "    return mi\n",
    "\n",
    "print(minimum(2, 89))\n",
    "print(minimum(2, 89, 9, 77,0))\n",
    "print(minimum(2, 89, 9, 77,0, 45,89))"
   ]
  },
  {
   "cell_type": "code",
   "execution_count": 2,
   "metadata": {},
   "outputs": [
    {
     "name": "stdout",
     "output_type": "stream",
     "text": [
      "2\n",
      "0\n",
      "0\n"
     ]
    }
   ],
   "source": [
    "def minimum(*numbers):\n",
    "    mi = numbers[0]\n",
    "    for i in numbers:\n",
    "        if i < mi:\n",
    "            mi = i\n",
    "    return mi\n",
    "\n",
    "\n",
    "print(minimum(2, 89))\n",
    "print(minimum(2, 89, 9, 77,0))\n",
    "print(minimum(2, 89, 9, 77,0, 45,89))"
   ]
  },
  {
   "cell_type": "code",
   "execution_count": 21,
   "metadata": {},
   "outputs": [],
   "source": [
    "def minimum(mi = None, *numbers):\n",
    "    for i in numbers:\n",
    "        if i < mi:\n",
    "            mi = i\n",
    "    return mi\n",
    "\n"
   ]
  },
  {
   "cell_type": "code",
   "execution_count": 22,
   "metadata": {},
   "outputs": [],
   "source": [
    "assert minimum() == None\n",
    "assert minimum(12, 89, 9, 77,0)== 0\n",
    "assert minimum(12) == 12\n",
    "assert minimum(-7,0) == -7"
   ]
  },
  {
   "cell_type": "code",
   "execution_count": 24,
   "metadata": {},
   "outputs": [],
   "source": [
    "minimum()"
   ]
  },
  {
   "cell_type": "code",
   "execution_count": 28,
   "metadata": {},
   "outputs": [
    {
     "name": "stdout",
     "output_type": "stream",
     "text": [
      "2\n"
     ]
    }
   ],
   "source": [
    "def minimum(*numbers):\n",
    "    mi = numbers[0]\n",
    "    for i in numbers:\n",
    "        if i < mi:\n",
    "            mi = i\n",
    "    return mi\n",
    "\n",
    "print(minimum(*[2, 89, 9, 77,10]))"
   ]
  },
  {
   "cell_type": "code",
   "execution_count": 5,
   "metadata": {},
   "outputs": [
    {
     "name": "stdout",
     "output_type": "stream",
     "text": [
      "2\n"
     ]
    }
   ],
   "source": [
    "def minimum(*numbers):\n",
    "    mi = numbers[0]\n",
    "    for i in numbers:\n",
    "        if i < mi:\n",
    "            mi = i\n",
    "    return mi\n",
    "\n",
    "print(minimum(*[2, 89, 9, 77,10]))"
   ]
  },
  {
   "cell_type": "code",
   "execution_count": 5,
   "metadata": {},
   "outputs": [
    {
     "name": "stdout",
     "output_type": "stream",
     "text": [
      "Имя Masha\n",
      "Фамилия Cari\n"
     ]
    }
   ],
   "source": [
    "def display_info(first_name, last_name):\n",
    "    \"\"\" dfh\"\"\"\n",
    "    print(\"Имя\", first_name)\n",
    "    print(\"Фамилия\", last_name)\n",
    "    \n",
    "display_info(first_name = \"Masha\", last_name = 'Cari')"
   ]
  },
  {
   "cell_type": "code",
   "execution_count": 6,
   "metadata": {},
   "outputs": [
    {
     "name": "stdout",
     "output_type": "stream",
     "text": [
      "6\n",
      "4 5 3 4 2 3\n",
      "3 2 4 3 5 4\n"
     ]
    }
   ],
   "source": [
    "def rev(array):\n",
    "    return array[::-1]\n",
    "\n",
    "k = int(input())\n",
    "arr = list(map(int, (input()).split()))\n",
    "print(*rev(arr))"
   ]
  },
  {
   "cell_type": "code",
   "execution_count": 6,
   "metadata": {},
   "outputs": [
    {
     "name": "stdout",
     "output_type": "stream",
     "text": [
      "(11, 3)\n"
     ]
    }
   ],
   "source": [
    "def digit(n = 0):\n",
    "    s = 0\n",
    "    k = 0\n",
    "    while  n !=0:\n",
    "        k += 1\n",
    "        s+=n%10\n",
    "        n = n//10\n",
    "    return s, k\n",
    "\n",
    "print(digit(236))"
   ]
  },
  {
   "cell_type": "code",
   "execution_count": 14,
   "metadata": {},
   "outputs": [
    {
     "name": "stdout",
     "output_type": "stream",
     "text": [
      "Sum = 6\n"
     ]
    }
   ],
   "source": [
    "def find_sum(*numbers):\n",
    "    result = 0\n",
    "    for i in numbers:\n",
    "        result +=  i\n",
    "    print('Sum =', result)\n",
    "\n",
    "find_sum(1,2,3)"
   ]
  },
  {
   "cell_type": "code",
   "execution_count": 15,
   "metadata": {},
   "outputs": [
    {
     "name": "stdout",
     "output_type": "stream",
     "text": [
      "Sum = 15\n"
     ]
    }
   ],
   "source": [
    "find_sum(1, 2, 3, 4, 5)"
   ]
  },
  {
   "cell_type": "code",
   "execution_count": 16,
   "metadata": {},
   "outputs": [
    {
     "name": "stdout",
     "output_type": "stream",
     "text": [
      "Sum = 1\n"
     ]
    }
   ],
   "source": [
    "find_sum(1)"
   ]
  },
  {
   "cell_type": "code",
   "execution_count": 39,
   "metadata": {},
   "outputs": [],
   "source": [
    "def my_func(**kwargs):\n",
    "    print(type(kwargs))\n",
    "    print(kwargs)"
   ]
  },
  {
   "cell_type": "code",
   "execution_count": 12,
   "metadata": {},
   "outputs": [
    {
     "name": "stdout",
     "output_type": "stream",
     "text": [
      "<class 'dict'>\n",
      "{}\n",
      "<class 'dict'>\n",
      "{'a': 1, 'b': 2}\n",
      "<class 'dict'>\n",
      "{'name': 'Timur', 'job': 'Teacher'}\n"
     ]
    }
   ],
   "source": [
    "my_func()\n",
    "my_func(a=1, b=2)\n",
    "my_func(name='Timur', job='Teacher')"
   ]
  },
  {
   "cell_type": "code",
   "execution_count": 40,
   "metadata": {},
   "outputs": [
    {
     "name": "stdout",
     "output_type": "stream",
     "text": [
      "<class 'dict'>\n",
      "{'name': 'Timur', 'job': 'Teacher', 'year': 34}\n"
     ]
    }
   ],
   "source": [
    "my_func(name='Timur', job='Teacher', year = 34)"
   ]
  },
  {
   "cell_type": "code",
   "execution_count": 14,
   "metadata": {},
   "outputs": [],
   "source": [
    "def my_func(a, b, *args, name='Gvido', age=17, **kwargs):\n",
    "    print('a и b',a, b)\n",
    "    print('args', args)\n",
    "    print('name age', name, age)\n",
    "    print('kwargs', kwargs)"
   ]
  },
  {
   "cell_type": "code",
   "execution_count": 15,
   "metadata": {},
   "outputs": [
    {
     "name": "stdout",
     "output_type": "stream",
     "text": [
      "a и b 1 2\n",
      "args (3, 4)\n",
      "name age Timur 28\n",
      "kwargs {'job': 'Teacher', 'language': 'Python'}\n"
     ]
    }
   ],
   "source": [
    "my_func(1, 2, 3, 4, name='Timur', age=28, job='Teacher', language='Python')\n"
   ]
  },
  {
   "cell_type": "code",
   "execution_count": 16,
   "metadata": {},
   "outputs": [
    {
     "name": "stdout",
     "output_type": "stream",
     "text": [
      "a и b 1 2\n",
      "args ()\n",
      "name age Timur 28\n",
      "kwargs {'job': 'Teacher', 'language': 'Python'}\n"
     ]
    }
   ],
   "source": [
    "my_func(1, 2, name='Timur', age=28, job='Teacher', language='Python')\n"
   ]
  },
  {
   "cell_type": "code",
   "execution_count": 17,
   "metadata": {},
   "outputs": [
    {
     "name": "stdout",
     "output_type": "stream",
     "text": [
      "a и b 1 2\n",
      "args (3, 4)\n",
      "name age Gvido 17\n",
      "kwargs {'job': 'Teacher', 'language': 'Python'}\n"
     ]
    }
   ],
   "source": [
    "my_func(1, 2, 3, 4, job='Teacher', language='Python')"
   ]
  },
  {
   "cell_type": "code",
   "execution_count": 41,
   "metadata": {},
   "outputs": [],
   "source": [
    "def print_info(name, surname, age, city, *children, **additional_info):\n",
    "    print('Имя:', name)\n",
    "    print('Фамилия:', surname)\n",
    "    print('Возраст:', age)\n",
    "    print('Город проживания:', city)\n",
    "    if len(children) > 0:\n",
    "        print('Дети:', ', '.join(children))\n",
    "    if len(additional_info) > 0:\n",
    "        print(additional_info)"
   ]
  },
  {
   "cell_type": "code",
   "execution_count": null,
   "metadata": {},
   "outputs": [],
   "source": []
  },
  {
   "cell_type": "code",
   "execution_count": 20,
   "metadata": {},
   "outputs": [
    {
     "name": "stdout",
     "output_type": "stream",
     "text": [
      "Имя: Меган\n",
      "Фамилия: Фокс\n",
      "Возраст: 34\n",
      "Город проживания: Ок-Ридж\n",
      "Дети: Бодхи Рансом Грин, Ноа Шэннон Грин, Джорни Ривер Грин\n",
      "{'height': 163, 'job': 'actress'}\n"
     ]
    }
   ],
   "source": [
    "children = ['Бодхи Рансом Грин', 'Ноа Шэннон Грин', 'Джорни Ривер Грин']\n",
    "additional_info = {'height':163, 'job':'actress'}\n",
    "\n",
    "print_info('Меган', 'Фокс', 34, 'Ок-Ридж', *children, **additional_info)"
   ]
  },
  {
   "cell_type": "markdown",
   "metadata": {},
   "source": [
    "Напишите функцию sq_sum(), которая принимает произвольное количество числовых аргументов и возвращает сумму их квадратов."
   ]
  },
  {
   "cell_type": "code",
   "execution_count": 8,
   "metadata": {},
   "outputs": [
    {
     "name": "stdout",
     "output_type": "stream",
     "text": [
      "14\n",
      "158\n"
     ]
    }
   ],
   "source": [
    "def sq_sum(*x):\n",
    "    s=0\n",
    "    for i in x:\n",
    "        s+=i**2\n",
    "    return s\n",
    "\n",
    "print(sq_sum(1,2,3))\n",
    "print(sq_sum(*[12, 1,2,3]))\n",
    "\n"
   ]
  },
  {
   "cell_type": "markdown",
   "metadata": {},
   "source": [
    "Напишите функцию mean(), которая принимает произвольное количество аргументов и возвращает среднее арифметическое переданных"
   ]
  },
  {
   "cell_type": "code",
   "execution_count": 9,
   "metadata": {},
   "outputs": [
    {
     "name": "stdout",
     "output_type": "stream",
     "text": [
      "0\n",
      "2.0\n",
      "4.5\n"
     ]
    }
   ],
   "source": [
    "def mean(*x):\n",
    "    s = 0\n",
    "    k = 0\n",
    "    for i in x:\n",
    "        if type(i) == int or type(i) == float:\n",
    "            s+=i\n",
    "            k+=1\n",
    "    if k!=0:\n",
    "        return (s/k)\n",
    "    else:\n",
    "        return 0\n",
    "\n",
    "print(mean())\n",
    "print(mean(1,2,3))\n",
    "print(mean(*[12, 1, 2, 3]))"
   ]
  },
  {
   "cell_type": "code",
   "execution_count": 13,
   "metadata": {},
   "outputs": [
    {
     "name": "stdout",
     "output_type": "stream",
     "text": [
      "Hello, Monica and Luke and Steve and John!\n"
     ]
    }
   ],
   "source": [
    "def greet(x, *a):\n",
    "    if len (a)!=0:\n",
    "        for i in a:\n",
    "            x+=' and '+i \n",
    "\n",
    "    return 'Hello, ' +x+'!'\n",
    "    \n",
    "\n",
    "print(greet(\"Monica\", \"Luke\", \"Steve\", \"John\"))"
   ]
  },
  {
   "cell_type": "markdown",
   "metadata": {},
   "source": [
    "**Встроенные функции, принимающие функции в качестве аргументов**"
   ]
  },
  {
   "cell_type": "markdown",
   "metadata": {},
   "source": [
    "Встроенные функции:\n",
    "\n",
    "- min(): поиск минимального элемента;\n",
    "- max(): поиск максимального элемента;\n",
    "- sorted(): сортировка данных.\n",
    "\n",
    "Не путайте списочный метод sort() и встроенную функцию sorted(). Они работают одинаково, но списочный метод sort() сортирует список на месте, а функция sorted() возвращает новый, отсортированный список.\n",
    "\n",
    "Продемонстрируем работу функций на примере:"
   ]
  },
  {
   "cell_type": "code",
   "execution_count": 23,
   "metadata": {},
   "outputs": [
    {
     "name": "stdout",
     "output_type": "stream",
     "text": [
      "117\n",
      "-210\n",
      "[-210, -100, -50, -7, 8, 10, 32, 87, 117]\n"
     ]
    }
   ],
   "source": [
    "numbers = [10, -7, 8, -100, -50, 32, 87, 117, -210]\n",
    "\n",
    "print(max(numbers))\n",
    "print(min(numbers))\n",
    "print(sorted(numbers))"
   ]
  },
  {
   "cell_type": "code",
   "execution_count": 2,
   "metadata": {},
   "outputs": [
    {
     "name": "stdout",
     "output_type": "stream",
     "text": [
      "-210\n",
      "-7\n",
      "[-7, 8, 10, 32, -50, 87, -100, 117, -210]\n"
     ]
    }
   ],
   "source": [
    "numbers = [10, -7, 8, -100, -50, 32, 87, 117, -210]\n",
    "\n",
    "print(max(numbers, key=abs))\n",
    "print(min(numbers, key=abs))\n",
    "print(sorted(numbers, key=abs))"
   ]
  },
  {
   "cell_type": "code",
   "execution_count": 2,
   "metadata": {},
   "outputs": [
    {
     "name": "stdout",
     "output_type": "stream",
     "text": [
      "[-210, 117, -100, 87, -50, 32, 10, 8, -7]\n"
     ]
    }
   ],
   "source": [
    "numbers = [10, -7, 8, -100, -50, 32, 87, 117, -210]\n",
    "print(sorted(numbers, reverse=True,key=abs))"
   ]
  },
  {
   "cell_type": "markdown",
   "metadata": {},
   "source": [
    "sorted(iterable, key=None, reverse=False)"
   ]
  },
  {
   "cell_type": "markdown",
   "metadata": {},
   "source": [
    "Но что, если мы хотим написать код для поиска максимального по модулю элемента списка numbers? И вообще, сравнивать элементы не стандартным способом, а более специфическими?\n",
    "\n",
    "На этот случай все выше перечисленные встроенные функции могут принимать необязательный аргумент key – функцию, определяющую условия сравнения элементов. Другими словами, значение key должно быть функцией, принимающей один аргумент и возвращающей на его основе ключ для сравнения.\n",
    "\n",
    "   Функция, определяющая условия сравнения элементов, называется **компаратор** (compare – сравнивать).\n",
    "\n",
    "Встроенные функции min(), max(), sorted() – функции высшего порядка, так как принимают в качестве аргумента функцию сравнения элементов.\n",
    "\n",
    "Продемонстрируем вышесказанное на примере кода:"
   ]
  },
  {
   "cell_type": "code",
   "execution_count": 3,
   "metadata": {},
   "outputs": [
    {
     "name": "stdout",
     "output_type": "stream",
     "text": [
      "(-9, 8, 4)\n",
      "(81, 39)\n"
     ]
    }
   ],
   "source": [
    "def mean(args):\n",
    "    return sum(args)/ len(args)\n",
    "\n",
    "\n",
    "numbers = [(10, 10, 10), (30, 45, 56), (81, 39), (1, 2, 3), (12,), (-2, -4, 100), (1, 2, 99), (89, 9, 34), (10, 20, 30, -2), (50, 40, 50), (34, 78, 65), (-5, 90, -1, -5), (1, 2, 3, 4, 5, 6), (-9, 8, 4), (90, 1, -45, -21)]\n",
    "\n",
    "print (min(numbers, key =  mean))\n",
    "print (max(numbers, key =  mean))"
   ]
  },
  {
   "cell_type": "code",
   "execution_count": 32,
   "metadata": {},
   "outputs": [
    {
     "data": {
      "text/plain": [
       "1.0"
      ]
     },
     "execution_count": 32,
     "metadata": {},
     "output_type": "execute_result"
    }
   ],
   "source": [
    "(-9+8+4)/3"
   ]
  },
  {
   "cell_type": "code",
   "execution_count": 22,
   "metadata": {},
   "outputs": [
    {
     "name": "stdout",
     "output_type": "stream",
     "text": [
      "-210\n",
      "-7\n",
      "[-7, 8, 10, 32, -50, 87, -100, 117, -210]\n"
     ]
    }
   ],
   "source": [
    "numbers = [10, -7, 8, -100, -50, 32, 87, 117, -210]\n",
    "\n",
    "print(max(numbers, key=abs))        #  указываем функцию abs в качестве компаратора\n",
    "print(min(numbers, key=abs))        #  указываем функцию abs в качестве компаратора\n",
    "print(sorted(numbers, key=abs))     #  указываем функцию abs в качестве компаратора"
   ]
  },
  {
   "cell_type": "code",
   "execution_count": null,
   "metadata": {},
   "outputs": [],
   "source": [
    "numbers = [(10, 10, 10), (30, 45, 56), (81, 39), (1, 2, 3), (12,), (-2, -4, 100), (1, 2, 99), (89, 9, 34), (10, 20, 30, -2), (50, 40, 50), (34, 78, 65), (-5, 90, -1, -5), (1, 2, 3, 4, 5, 6), (-9, 8, 4), (90, 1, -45, -21)]\n",
    "print (min(numbers, key = lambda k: sum(k)/len(k)))\n",
    "print (max(numbers, key = lambda k: sum(k)/len(k)))\n",
    "\n"
   ]
  },
  {
   "cell_type": "code",
   "execution_count": 3,
   "metadata": {},
   "outputs": [
    {
     "name": "stdout",
     "output_type": "stream",
     "text": [
      "-5468\n",
      "-7\n",
      "[-7, 8, 10, -50, 32, 87, -100, 117, -210, -5468]\n"
     ]
    }
   ],
   "source": [
    "def a(n):\n",
    "    return len(str(abs(n)))\n",
    "\n",
    "\n",
    "numbers = [10, -5468, -7, 8, -100, -50, 32, 87, 117, -210]\n",
    "\n",
    "print(max(numbers, key = a ))        #  указываем функцию abs в качестве компаратора\n",
    "print(min(numbers, key = a))        #  указываем функцию abs в качестве компаратора\n",
    "print(sorted(numbers, key = a))  \n"
   ]
  },
  {
   "cell_type": "code",
   "execution_count": 35,
   "metadata": {},
   "outputs": [
    {
     "name": "stdout",
     "output_type": "stream",
     "text": [
      "[(2, -4), (1, -1), (2, 3), (1, 5), (10, 9), (-10, 15), (7, 18)]\n"
     ]
    }
   ],
   "source": [
    "def compare_by_second(point):\n",
    "    return point[1]\n",
    "\n",
    "\n",
    "def compare_by_sum(point):\n",
    "    return point[0] + point[1]\n",
    "\n",
    "\n",
    "points = [(1, -1), (2, 3), (-10, 15), (10, 9), (7, 18), (1, 5), (2, -4)]\n",
    "\n",
    "print(sorted(points, key=compare_by_second))   # сортируем по второму значению кортежа\n",
    " "
   ]
  },
  {
   "cell_type": "code",
   "execution_count": 36,
   "metadata": {},
   "outputs": [
    {
     "name": "stdout",
     "output_type": "stream",
     "text": [
      "[(2, -4), (1, -1), (2, 3), (-10, 15), (1, 5), (10, 9), (7, 18)]\n"
     ]
    }
   ],
   "source": [
    "print(sorted(points, key=compare_by_sum))   # сортируем по сумме кортежа"
   ]
  },
  {
   "cell_type": "code",
   "execution_count": 39,
   "metadata": {},
   "outputs": [
    {
     "name": "stdout",
     "output_type": "stream",
     "text": [
      "[(2, -4), (1, -1), (2, 3), (1, 5), (10, 9), (-10, 15), (7, 18)]\n",
      "[(2, -4), (1, -1), (2, 3), (-10, 15), (1, 5), (10, 9), (7, 18)]\n"
     ]
    }
   ],
   "source": [
    "points = [(1, -1), (2, 3), (-10, 15), (10, 9), (7, 18), (1, 5), (2, -4)]\n",
    "\n",
    "print(sorted(points, key = lambda p: p[1]))\n",
    "print(sorted(points, key = lambda p: p[0] + p[1])) "
   ]
  },
  {
   "cell_type": "code",
   "execution_count": null,
   "metadata": {},
   "outputs": [],
   "source": [
    "def compare_by_second(point):\n",
    "    return point[1]"
   ]
  },
  {
   "cell_type": "code",
   "execution_count": 1,
   "metadata": {},
   "outputs": [
    {
     "data": {
      "text/plain": [
       "25"
      ]
     },
     "execution_count": 1,
     "metadata": {},
     "output_type": "execute_result"
    }
   ],
   "source": [
    "def ff(x):\n",
    "    return x**2\n",
    "\n",
    "ff(5)"
   ]
  },
  {
   "cell_type": "code",
   "execution_count": 2,
   "metadata": {},
   "outputs": [
    {
     "data": {
      "text/plain": [
       "25"
      ]
     },
     "execution_count": 2,
     "metadata": {},
     "output_type": "execute_result"
    }
   ],
   "source": [
    "ff = lambda x: x**2\n",
    "ff(5)"
   ]
  },
  {
   "cell_type": "code",
   "execution_count": 3,
   "metadata": {},
   "outputs": [
    {
     "data": {
      "text/plain": [
       "12"
      ]
     },
     "execution_count": 3,
     "metadata": {},
     "output_type": "execute_result"
    }
   ],
   "source": [
    "def ff(x, y):\n",
    "    return x+y\n",
    "\n",
    "ff(5,7)"
   ]
  },
  {
   "cell_type": "code",
   "execution_count": 5,
   "metadata": {},
   "outputs": [
    {
     "data": {
      "text/plain": [
       "12"
      ]
     },
     "execution_count": 5,
     "metadata": {},
     "output_type": "execute_result"
    }
   ],
   "source": [
    "ff = lambda x,y : x+y\n",
    "ff(5,7)"
   ]
  },
  {
   "cell_type": "code",
   "execution_count": null,
   "metadata": {},
   "outputs": [],
   "source": []
  },
  {
   "cell_type": "markdown",
   "metadata": {},
   "source": [
    "Напишите функцию mean(), которая принимает произвольное количество аргументов и возвращает среднее арифметическое переданных в нее числовых (int или float) аргументов.\n",
    "\n",
    "Примечание 1. Обратите внимание, что функция должна принимать не список, а именно произвольное количество аргументов.\n",
    "\n",
    "Примечание 2. Функция должна игнорировать аргументы всех типов, кроме int или float.\n",
    "\n",
    "Примечание 3. Следующий программный код:\n",
    "\n",
    "print(mean())\n",
    "print(mean(7))\n",
    "print(mean(1.5, True, ['stepik'], 'beegeek', 2.5, (1, 2)))\n",
    "print(mean(True, ['stepik'], 'beegeek', (1, 2)))\n",
    "print(mean(-1, 2, 3, 10, ('5')))\n",
    "print(mean(1, 2, 3, 4, 5, 6, 7, 8, 9, 10))"
   ]
  },
  {
   "cell_type": "code",
   "execution_count": 40,
   "metadata": {},
   "outputs": [],
   "source": [
    "def mean(*args):\n",
    "    filtered_args = list(filter(lambda x: type(x) in (int, float), args))\n",
    "    if filtered_args:\n",
    "        return sum(filtered_args) / len(filtered_args)\n",
    "    return 0.0"
   ]
  },
  {
   "cell_type": "code",
   "execution_count": 41,
   "metadata": {},
   "outputs": [
    {
     "name": "stdout",
     "output_type": "stream",
     "text": [
      "2.0\n"
     ]
    }
   ],
   "source": [
    "print(mean(1.5, True, ['stepik'], 'beegeek', 2.5, (1, 2)))"
   ]
  },
  {
   "cell_type": "markdown",
   "metadata": {},
   "source": [
    "**Область видимости переменных**"
   ]
  },
  {
   "cell_type": "markdown",
   "metadata": {},
   "source": [
    "3 вида локальные , не локальные и глобальные"
   ]
  },
  {
   "cell_type": "code",
   "execution_count": 42,
   "metadata": {},
   "outputs": [
    {
     "name": "stdout",
     "output_type": "stream",
     "text": [
      "2\n",
      "3\n"
     ]
    },
    {
     "data": {
      "text/plain": [
       "5"
      ]
     },
     "execution_count": 42,
     "metadata": {},
     "output_type": "execute_result"
    }
   ],
   "source": [
    "def ff(x, y):\n",
    "    return x+y\n",
    "\n",
    "\n",
    "x = int(input())\n",
    "y = int(input())\n",
    "ff(x,y)"
   ]
  },
  {
   "cell_type": "code",
   "execution_count": 45,
   "metadata": {},
   "outputs": [
    {
     "name": "stdout",
     "output_type": "stream",
     "text": [
      "5\n",
      "3\n",
      "a =  5  b = 3 = 8\n",
      "6\n",
      "10\n",
      "a =  6  b = 10 = 16\n"
     ]
    }
   ],
   "source": [
    "\n",
    "def ff(x, y):\n",
    "# локадьная x y\n",
    "    return x+y\n",
    "\n",
    "\n",
    "# Глобальные a, b, n , m \n",
    "a = int(input())\n",
    "b = int(input())\n",
    "print('a = ', a,' b =' , b, 'S =', ff(a, b))\n",
    "m = int(input())\n",
    "n = int(input())\n",
    "print('a = ',m,' b =' , n, 'S= ', ff(m, n))"
   ]
  },
  {
   "cell_type": "code",
   "execution_count": 47,
   "metadata": {},
   "outputs": [
    {
     "name": "stdout",
     "output_type": "stream",
     "text": [
      "Local Hello\n"
     ]
    },
    {
     "ename": "NameError",
     "evalue": "name 'message' is not defined",
     "output_type": "error",
     "traceback": [
      "\u001b[1;31m---------------------------------------------------------------------------\u001b[0m",
      "\u001b[1;31mNameError\u001b[0m                                 Traceback (most recent call last)",
      "\u001b[1;32m<ipython-input-47-7fa83f94b266>\u001b[0m in \u001b[0;36m<module>\u001b[1;34m\u001b[0m\n\u001b[0;32m      9\u001b[0m \u001b[1;31m# try to access message variable\u001b[0m\u001b[1;33m\u001b[0m\u001b[1;33m\u001b[0m\u001b[1;33m\u001b[0m\u001b[0m\n\u001b[0;32m     10\u001b[0m \u001b[1;31m# outside greet() function\u001b[0m\u001b[1;33m\u001b[0m\u001b[1;33m\u001b[0m\u001b[1;33m\u001b[0m\u001b[0m\n\u001b[1;32m---> 11\u001b[1;33m \u001b[0mprint\u001b[0m\u001b[1;33m(\u001b[0m\u001b[0mmessage\u001b[0m\u001b[1;33m)\u001b[0m\u001b[1;33m\u001b[0m\u001b[1;33m\u001b[0m\u001b[0m\n\u001b[0m",
      "\u001b[1;31mNameError\u001b[0m: name 'message' is not defined"
     ]
    }
   ],
   "source": [
    "def greet():\n",
    "\n",
    "    # local variable\n",
    "    message = 'Hello'\n",
    "    \n",
    "    print('Local', message)\n",
    "\n",
    "greet()\n",
    "# try to access message variable \n",
    "# outside greet() function\n",
    "print(message)\n"
   ]
  },
  {
   "cell_type": "code",
   "execution_count": 48,
   "metadata": {},
   "outputs": [
    {
     "name": "stdout",
     "output_type": "stream",
     "text": [
      "Local Hello\n",
      "Global Hello\n"
     ]
    }
   ],
   "source": [
    "# declare global variable\n",
    "message = 'Hello'\n",
    "\n",
    "def greet():\n",
    "    # declare local variable\n",
    "    print('Local', message)\n",
    "\n",
    "greet()\n",
    "print('Global', message)"
   ]
  },
  {
   "cell_type": "code",
   "execution_count": 49,
   "metadata": {},
   "outputs": [
    {
     "name": "stdout",
     "output_type": "stream",
     "text": [
      "Local Hi\n",
      "Global Hello\n"
     ]
    }
   ],
   "source": [
    "# declare global variable\n",
    "message = 'Hello'\n",
    "\n",
    "def greet():\n",
    "    message = 'Hi'\n",
    "    # declare local variable\n",
    "    print('Local', message)\n",
    "\n",
    "greet()\n",
    "print('Global', message)"
   ]
  },
  {
   "cell_type": "code",
   "execution_count": 51,
   "metadata": {},
   "outputs": [
    {
     "name": "stdout",
     "output_type": "stream",
     "text": [
      "Global Hello\n",
      "Local Hi\n",
      "Global Hello\n"
     ]
    }
   ],
   "source": [
    "# declare global variable\n",
    "message = 'Hello'\n",
    "print('Global', message)\n",
    "\n",
    "def greet():\n",
    "    message = 'Hi'\n",
    "    # declare local variable\n",
    "    print('Local', message)\n",
    "\n",
    "greet()\n",
    "print('Global', message)"
   ]
  },
  {
   "cell_type": "code",
   "execution_count": 52,
   "metadata": {
    "scrolled": true
   },
   "outputs": [
    {
     "name": "stdout",
     "output_type": "stream",
     "text": [
      "Global Hello\n",
      "Local Hi\n",
      "Global Hi\n"
     ]
    }
   ],
   "source": [
    "# declare global variable\n",
    "message = 'Hello'\n",
    "print('Global', message)\n",
    "\n",
    "def greet():\n",
    "    global message \n",
    "    message = 'Hi'\n",
    "    # declare local variable\n",
    "    print('Local', message)\n",
    "\n",
    "greet()\n",
    "print('Global', message)"
   ]
  },
  {
   "cell_type": "code",
   "execution_count": 53,
   "metadata": {},
   "outputs": [
    {
     "name": "stdout",
     "output_type": "stream",
     "text": [
      "Before calling inner_function():  20\n",
      "After calling inner_function():  20\n",
      "Outside both function:  25\n"
     ]
    }
   ],
   "source": [
    "def outer_function():\n",
    "    num = 20\n",
    "\n",
    "    def inner_function():\n",
    "        global num\n",
    "        num = 25\n",
    "    \n",
    "    print(\"Before calling inner_function(): \", num)\n",
    "    inner_function()\n",
    "    print(\"After calling inner_function(): \", num)\n",
    "\n",
    "outer_function()\n",
    "print(\"Outside both function: \", num)"
   ]
  },
  {
   "cell_type": "code",
   "execution_count": 55,
   "metadata": {},
   "outputs": [
    {
     "ename": "SyntaxError",
     "evalue": "name 'message' is used prior to nonlocal declaration (<ipython-input-55-71d232930375>, line 10)",
     "output_type": "error",
     "traceback": [
      "\u001b[1;36m  File \u001b[1;32m\"<ipython-input-55-71d232930375>\"\u001b[1;36m, line \u001b[1;32m10\u001b[0m\n\u001b[1;33m    nonlocal message\u001b[0m\n\u001b[1;37m    ^\u001b[0m\n\u001b[1;31mSyntaxError\u001b[0m\u001b[1;31m:\u001b[0m name 'message' is used prior to nonlocal declaration\n"
     ]
    }
   ],
   "source": [
    "# outside function \n",
    "def outer():\n",
    "    message = 'local'\n",
    "\n",
    "    # nested function  \n",
    "    def inner():\n",
    "        print(\"outer:\", message)\n",
    "\n",
    "        # declare nonlocal variable\n",
    "        nonlocal message\n",
    "\n",
    "        message = 'nonlocal'\n",
    "        print(\"inner:\", message)\n",
    "\n",
    "    inner()\n",
    "    print(\"outer:\", message)\n",
    "\n",
    "outer()"
   ]
  },
  {
   "cell_type": "code",
   "execution_count": null,
   "metadata": {},
   "outputs": [],
   "source": [
    "def non_negative_even(lst):\n",
    "    counter = 0\n",
    "    for i in lst:\n",
    "        if i % 2 == 0 and i>0:\n",
    "            print('No')\n",
    "            break\n",
    "    else:\n",
    "        print('No')\n"
   ]
  },
  {
   "cell_type": "code",
   "execution_count": 6,
   "metadata": {},
   "outputs": [],
   "source": [
    "def count_args(*a):\n",
    "    return len(a)"
   ]
  },
  {
   "cell_type": "code",
   "execution_count": 7,
   "metadata": {},
   "outputs": [
    {
     "name": "stdout",
     "output_type": "stream",
     "text": [
      "0\n",
      "1\n",
      "2\n",
      "5\n"
     ]
    }
   ],
   "source": [
    "print(count_args())\n",
    "print(count_args(10))\n",
    "print(count_args('a', 'b'))\n",
    "print(count_args([], (''), 'a', 12, False))"
   ]
  },
  {
   "cell_type": "code",
   "execution_count": null,
   "metadata": {},
   "outputs": [],
   "source": [
    "def sq_sum(*numlist):\n",
    "    res=[i*i for i in numlist]\n",
    "    return sum(res)"
   ]
  },
  {
   "cell_type": "code",
   "execution_count": null,
   "metadata": {},
   "outputs": [],
   "source": [
    "def mean(*x):\n",
    "    s = 0\n",
    "    k = 0\n",
    "    for i in x:\n",
    "        if type(i) == int or type(i) == float:\n",
    "            s+=i\n",
    "            k+=1\n",
    "    if k!=0:\n",
    "        return (s/k)\n",
    "    else:\n",
    "        return 0"
   ]
  },
  {
   "cell_type": "code",
   "execution_count": null,
   "metadata": {},
   "outputs": [],
   "source": [
    "def mean(*args):\n",
    "    filtered_args = list(filter(lambda x: type(x) in (int, float), args))\n",
    "    if filtered_args:\n",
    "        return sum(filtered_args) / len(filtered_args)\n",
    "    return 0.0"
   ]
  }
 ],
 "metadata": {
  "kernelspec": {
   "display_name": "Python 3",
   "language": "python",
   "name": "python3"
  },
  "language_info": {
   "codemirror_mode": {
    "name": "ipython",
    "version": 3
   },
   "file_extension": ".py",
   "mimetype": "text/x-python",
   "name": "python",
   "nbconvert_exporter": "python",
   "pygments_lexer": "ipython3",
   "version": "3.8.3"
  }
 },
 "nbformat": 4,
 "nbformat_minor": 4
}
