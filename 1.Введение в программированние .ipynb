{
 "cells": [
  {
   "cell_type": "markdown",
   "metadata": {
    "id": "dXyH7EV9lzrW"
   },
   "source": [
    "**Курс \"Программирование на языке Python\"** - курс призван показать, что такое язык Python и для чего он используется."
   ]
  },
  {
   "cell_type": "markdown",
   "metadata": {},
   "source": [
    "<a id='t1'></a>\n",
    "# Модуль 1. Синтаксис языка программирования Python"
   ]
  },
  {
   "cell_type": "markdown",
   "metadata": {},
   "source": [
    "- [1.Введение в Python и компьютерное программирование](#t1)\n",
    "    - [Основные понятия языков программирования](#p0)\n",
    "    - [Почему  Python?!](#p1)\n",
    "    - [Рейтинг популярности языков программирования  индекс TIOBE ](#p2)\n",
    "    - [История возникновения языка программирования Python](#p3)\n",
    "    - [Характеристики языка программирования Python](#p4)\n",
    "    - [Читаемость кода программ написанных на Python](#p5)\n",
    "    - [Особенности языка программирования Python](#p6)\n",
    "    - [Компиляция против интерпретации](#p7)\n",
    "    - [Причины использования Python](#p8)\n",
    "    - [Реализации Python](#p9)\n",
    "    - [Среда исполнения Python](#p10)\n",
    "    - [Область применения](#p11)\n",
    "    - [Функциональные возможности](#p16)\n"
   ]
  },
  {
   "cell_type": "markdown",
   "metadata": {},
   "source": [
    "<a id='t1'></a>\n",
    "# Тема 1.  Введение в Python и компьютерное программирование"
   ]
  },
  {
   "cell_type": "markdown",
   "metadata": {},
   "source": [
    "В этой теме вы узнаете о:\n",
    "\n",
    "- основы компьютерного программирования, то есть того, как работает компьютер, как выполняется программа, как определяется и строится язык программирования;\n",
    "- в чем разница между компиляцией и интерпретацией;\n",
    "- что такое Python, как он позиционируется среди других языков программирования и что отличает разные версии Python."
   ]
  },
  {
   "cell_type": "markdown",
   "metadata": {},
   "source": [
    "<a id='p0'></a>\n",
    "## Основные понятия языков программирования"
   ]
  },
  {
   "cell_type": "markdown",
   "metadata": {},
   "source": [
    "**Программирование** – это процесс создания компьютерных программ <br>\n",
    "**Компьютерная программа** – последовательность инструкций<br>\n",
    "**Инструкция** – документ, содержащий правила, указания или руководства,\n",
    "устанавливающие порядок и способ выполнения чего-либо <br>\n",
    "**Язы́к программи́рования** — формальный язык, предназначенный для\n",
    "записи компьютерных программ"
   ]
  },
  {
   "cell_type": "markdown",
   "metadata": {},
   "source": [
    "![xkcd_python](data:image/png;base64,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)"
   ]
  },
  {
   "cell_type": "markdown",
   "metadata": {},
   "source": [
    "### Машинный код"
   ]
  },
  {
   "cell_type": "markdown",
   "metadata": {},
   "source": [
    "Программа «Hello, world!» для процессора архитектуры x86 : BB 11 01 B9 0D 00 B4 0E 8A 07 43 CD 10 E2 F9 CD 20 48 65 6C 6C 6F 2C 20 57 6F 72 6C 64 21\n"
   ]
  },
  {
   "cell_type": "markdown",
   "metadata": {},
   "source": [
    "![xkcd_python](http://3.bp.blogspot.com/-xorZ-4AI2ZA/VQhrIQSUJ7I/AAAAAAAAAXA/gDv_tCnev7Q/s1600/languages.png)"
   ]
  },
  {
   "cell_type": "markdown",
   "metadata": {},
   "source": [
    "Для выполнения на компьютере исходного кода программы, написанной на высокоуровневом языке, необходимо преобразовать его в машинный код."
   ]
  },
  {
   "cell_type": "markdown",
   "metadata": {},
   "source": [
    "Есть два разных способа преобразования программы с языка программирования высокого уровня в машинный язык:"
   ]
  },
  {
   "cell_type": "markdown",
   "metadata": {},
   "source": [
    "**КОМПИЛЯЦИЯ** - исходная программа транслируется один раз (однако это действие необходимо повторять каждый раз, когда вы изменяете исходный код) путем получения файла (например, файла .exe, если код предназначен для запуска под MS Windows), содержащего компьютер. код; теперь вы можете распространять файл по всему миру; программа, выполняющая этот перевод, называется компилятором или транслятором;"
   ]
  },
  {
   "cell_type": "markdown",
   "metadata": {},
   "source": [
    "![xkcd_python](https://github.com/trisha00001/-facultypython/blob/main/p1.png?raw=true)"
   ]
  },
  {
   "cell_type": "markdown",
   "metadata": {},
   "source": [
    "*Компилятор* транслирует высокоуровневый язык в машинный. Компилятор сначала сканирует всю программу, а потом транслирует ее в машинный код, который будет выполнен компьютерным процессором, после чего будут выполнены соответствующие задачи."
   ]
  },
  {
   "cell_type": "markdown",
   "metadata": {},
   "source": [
    "![xkcd_python](https://248006.selcdn.ru/main/upload/setka_images/92fe3d49a2663d3451f40e3cb3eb41df23307629.png)"
   ]
  },
  {
   "cell_type": "markdown",
   "metadata": {},
   "source": [
    "Быстро работает, но не является кроссплатформенным"
   ]
  },
  {
   "cell_type": "markdown",
   "metadata": {},
   "source": [
    "Компилируемые языки программирования: Алгол; Delphi"
   ]
  },
  {
   "cell_type": "markdown",
   "metadata": {},
   "source": [
    "**ИНТЕРПРЕТАЦИЯ** - вы (или любой пользователь кода) можете переводить исходную программу каждый раз, когда она должна быть запущена; программа, выполняющая такое преобразование, называется интерпретатором, поскольку она интерпретирует код каждый раз, когда он предназначен для выполнения; это также означает, что вы не можете просто распространять исходный код как есть, потому что конечному пользователю также нужен интерпретатор для его выполнения."
   ]
  },
  {
   "cell_type": "markdown",
   "metadata": {},
   "source": [
    "![xkcd_python](https://github.com/trisha00001/-facultypython/blob/main/%D0%B72.png?raw=true)"
   ]
  },
  {
   "cell_type": "markdown",
   "metadata": {},
   "source": [
    "*Интерпретатор* - также конвертируют в машинный код, но до этого он конвертирует этот код в промежуточный язык. Каждая часть кода интерпретируется и выполняется отдельно и последовательно."
   ]
  },
  {
   "cell_type": "markdown",
   "metadata": {},
   "source": [
    "![xkcd_python](http://devnuances.com/wp-content/uploads/2013/11/Protsess-interpretatsii.png)"
   ]
  },
  {
   "cell_type": "markdown",
   "metadata": {},
   "source": [
    "Работают медленнее, но являются кроссплатформенной"
   ]
  },
  {
   "cell_type": "markdown",
   "metadata": {},
   "source": [
    "Интерпретируемые языки программирования: JavaScript; PHP"
   ]
  },
  {
   "cell_type": "markdown",
   "metadata": {},
   "source": [
    "![xkcd_python](https://github.com/trisha00001/-facultypython/blob/main/3.png?raw=true)"
   ]
  },
  {
   "cell_type": "markdown",
   "metadata": {},
   "source": [
    "У обоих подходов свои преимущества и свои недостатки."
   ]
  },
  {
   "cell_type": "markdown",
   "metadata": {},
   "source": [
    "<table style=\"table-layout:fixed; width:100%; min-width:700px;\">\n",
    "  <colgroup>\n",
    "    <col style=\"width:115px;\">\n",
    "    <col style=\"width:33%\">\n",
    "    <col style=\"width:33%\">\n",
    "    <col style=\"width:33%\">\n",
    "  </colgroup>\n",
    "<tbody>\n",
    "<tr>\n",
    "<td align=\"center\"><b><font style=\"vertical-align: inherit;\"><font style=\"vertical-align: inherit;\"></font></font></b></td>\n",
    "<td align=\"center\"><font style=\"vertical-align: inherit;\"><font style=\"vertical-align: inherit;\">КОМПИЛЯЦИЯ</font></font></td>\n",
    "<td align=\"center\"><font style=\"vertical-align: inherit;\"><font style=\"vertical-align: inherit;\">ИНТЕРПРЕТАЦИЯ</font></font></td>\n",
    "\n",
    "</tr>\n",
    "\n",
    "\n",
    "\n",
    "\n",
    "<tr>\n",
    "<td align=\"center\"><b><font style=\"vertical-align: inherit;\"><font style=\"vertical-align: inherit;\">Плюсы</font></font></b></td>\n",
    "<td align=\"left\"> • выполнение переведенного кода обычно происходит быстрее;<br> \n",
    "   • компилятор должен быть только у пользователя - конечный пользователь может использовать код без него ( exe);<br> \n",
    "    • переведенный код хранится с использованием машинного языка - так как его очень сложно понять, ваши собственные изобретения и уловки программирования, вероятно, останутся вашим секретом.</td>\n",
    "<td >  • вы можете запускать код сразу после его завершения - дополнительных этапов перевода нет;<br>\n",
    " • код хранится на языке программирования, а не на машинном - это означает, что его можно запускать на компьютерах, использующих разные машинные языки; вы не компилируете свой код отдельно для каждой платформы.</td>\n",
    "\n",
    "</tr>\n",
    "\n",
    "\n",
    "<tr>\n",
    "<td align=\"center\"><b><font style=\"vertical-align: inherit;\"><font style=\"vertical-align: inherit;\">Минусы</font></font></b></td>\n",
    "<td ><font style=\"vertical-align: inherit;\">• сама компиляция может занять очень много времени - возможно, вы не сможете запустить свой код сразу после внесения каких-либо поправок;<br>\n",
    "• \n",
    "у вас должно быть столько же компиляторов, сколько аппаратных платформ, на которых вы хотите, чтобы ваш код запускался</td>\n",
    "<td ><font align=\"left\">• \n",
    "не ожидайте, что интерпретация приведет к увеличению скорости вашего кода - ваш код будет делить мощность компьютера с интерпретатором,  поэтому он не может быть действительно быстрым;\n",
    "<br>\n",
    "• и у вас, и у конечного пользователя должен быть интерпретатор для запуска вашего кода.</td>\n",
    "\n",
    "</tr>\n",
    "\n",
    "</tbody>\n",
    "</table>"
   ]
  },
  {
   "cell_type": "markdown",
   "metadata": {},
   "source": [
    "- Интерпретатор берет одну инструкцию, транслирует и выполняет ее, а затем берет следующую инструкцию. Компилятор же транслирует всю программу сразу, а потом выполняет ее.\n",
    "- Компилятор генерирует отчет об ошибках после трансляции всего, в то время как интерпретатор прекратит трансляцию после первой найденной ошибки.\n",
    "- Компилятор по сравнению с интерпретатором требует больше времени для анализа и обработки языка высокого уровня.\n",
    "- Помимо времени на обработку и анализ, общее время выполнения кода компилятора быстрее в сравнении с интерпретатором."
   ]
  },
  {
   "cell_type": "markdown",
   "metadata": {
    "id": "eWlrabHclzra"
   },
   "source": [
    "<a id='p1'></a>\n",
    "## Почему  Python?!"
   ]
  },
  {
   "cell_type": "markdown",
   "metadata": {
    "id": "b8UK5MPWlzra"
   },
   "source": [
    "#### 1. Легок в изучении \n",
    "#### 2. Python динамично развивающийся язык\n",
    "#### 3. Cтандартная библиотека, которая позволяет выполнить широкий спектр задач без установки дополнительного ПО\n",
    "#### 4. Существуют библиотеки сторонних производителей, которые являются более мощными аналогами некоторых функцийстандартной библиотеки (например NumPy - библиотека для решения вычислительных задач)"
   ]
  },
  {
   "cell_type": "markdown",
   "metadata": {},
   "source": [
    "![xkcd_python](data:image/jpeg;base64,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)"
   ]
  },
  {
   "cell_type": "markdown",
   "metadata": {},
   "source": [
    "- Легко читаемый код\n",
    "- Ускоренный цикл разработки (проподает стадия кампиляции)\n",
    "- Переносимы язык (запуск под разными платформами)\n",
    "- Множество пакетов (библиотеки)\n",
    "- Поддерживает все стили программирования"
   ]
  },
  {
   "cell_type": "markdown",
   "metadata": {
    "id": "RYYAHuvjlzrb"
   },
   "source": [
    "<a id='p2'></a>\n",
    "##  Рейтинг популярности языков программирования  индекс TIOBE "
   ]
  },
  {
   "cell_type": "markdown",
   "metadata": {
    "id": "5GymVS1xlzrb"
   },
   "source": [
    "Впервые за более чем 20 лет у рейтинга языков программирования TIOBE появился новый лидер — Python. Давняя гегемония Java и C закончилась. Python, который начинался как простой язык сценариев и альтернатива Perl, достиг своей вершины. Простота обучения, огромное количество библиотек и широкое использование во всех областях сделали его самым популярным языком программирования на сегодняшний день."
   ]
  },
  {
   "cell_type": "markdown",
   "metadata": {
    "id": "bO5ZWzZflzrc"
   },
   "source": [
    "![xkcd_python](https://i1.wp.com/apptractor.ru/wp-content/uploads/2021/10/image2-1.png?resize=768%2C364&ssl=1)\n"
   ]
  },
  {
   "cell_type": "markdown",
   "metadata": {
    "id": "Z81ddMjRlzrh"
   },
   "source": [
    "<a id='p3'></a>\n",
    "# История возникновения языка программирования Python"
   ]
  },
  {
   "cell_type": "markdown",
   "metadata": {
    "id": "nHTIaRUylzri"
   },
   "source": [
    "Python (Питон или Пайтон)- это мощный объектно-ориентированный язык \n",
    "программирования высокого уровня с открытым исходным кодом."
   ]
  },
  {
   "cell_type": "markdown",
   "metadata": {
    "id": "soWo3fYklzri"
   },
   "source": [
    "<img src=\"https://codeandhack.com/wp-content/uploads/2020/11/Python-Creator-Guido-Van-Rossum.jpg\">"
   ]
  },
  {
   "cell_type": "markdown",
   "metadata": {
    "id": "sOgSRhX-lzri"
   },
   "source": [
    "Разработан нидерландским программистом \n",
    "Гвидо ван Россумом (Guido van Rossum).\n",
    "Начало разработки конец 80-х годов, назван в честь \n",
    "шоу Монти Пайтона.В феврале 1991 года исходный текст опубликован \n",
    "в группе новостей alt.sources. В 1994 году, благодаря росту числа пользователей, \n",
    "была создана группа comp.lang.python\n",
    "<br>\n",
    "Релизы:<br>\n",
    "   <center> 1994 v. 1.0 – 2000 v. 1.6 <br>\n",
    "    2000 v. 2.0 – 2010 v. 2.7<br>\n",
    "    2008 v. 3.0 – 2021 v. 3.9<br>\n",
    "    </center>"
   ]
  },
  {
   "cell_type": "markdown",
   "metadata": {},
   "source": [
    "Python 2 - это более старая версия исходного Python. С тех пор его разработка намеренно приостановлена, хотя это не означает, что для него нет обновлений. Напротив, обновления выпускаются регулярно, но они не предназначены для значительного изменения языка. Они скорее исправляют недавно обнаруженные ошибки и дыры в безопасности. Путь разработки Python 2 уже зашел в тупик, но сам Python 2 все еще жив."
   ]
  },
  {
   "cell_type": "markdown",
   "metadata": {},
   "source": [
    "<img src=\"https://github.com/trisha00001/python/blob/main/img/2agzfyqp1t6iqjrdihfv.png?raw=true\" width=\"289\" height=\"300\" >"
   ]
  },
  {
   "cell_type": "markdown",
   "metadata": {},
   "source": [
    "Появившись сравнительно поздно, Python создавался под влиянием множества языков\n",
    "программирования. Так, например, влияние оказали такие языки, как:\n",
    "- ABC: отступы для группировки операторов, высокоуровневые структуры данных;\n",
    "- Modula-3: пакеты, модули;\n",
    "- С, C++: некоторые синтаксические конструкции;\n",
    "- Smalltalk: ООП;\n",
    "- Java: модули logging, unittest, threading (часть возможностей оригинального модуля не реализована), xml.sax стандартной библиотеки, совместное использование finally и except при обработке исключений, использование @ для декораторов;\n",
    "- Lisp: отдельные черты функционального программирования (lambda, map, reduce, filter и другие);\n",
    "- Fortran: срезы массивов, комплексная арифметика;\n",
    "- Miranda: списочные выражения;\n",
    "- Icon: генераторы."
   ]
  },
  {
   "cell_type": "markdown",
   "metadata": {},
   "source": [
    " Большая часть других возможностей Python (например, байт-компиляция исходного кода) также была реализована ранее в других языках"
   ]
  },
  {
   "cell_type": "markdown",
   "metadata": {},
   "source": [
    "![xkcd_python](https://sdvv.ru/upload/iblock/71f/71f2b66bfb48acf8ae241677c8c05adc.jpg)"
   ]
  },
  {
   "cell_type": "markdown",
   "metadata": {
    "id": "wkZvGqp0lzri"
   },
   "source": [
    "<a id='p4'></a>\n",
    "# Характеристики языка программирования Python"
   ]
  },
  {
   "cell_type": "markdown",
   "metadata": {
    "id": "8ljRfKa8lzri"
   },
   "source": [
    "- Низкий порог вхождения, уже после одного дня изучения можно начать писать простые программы;\n",
    "- Минималистичный язык, с небольшим количеством конструкций;\n",
    "- Краткий код;\n",
    "- Поддерживается импорт Си-библиотек;\n",
    "- Существует большое количество реализаций: CPython (основная реализация); Jython (реализация для JVM); IronPython (CLR); PyPy;\n",
    "- Поддержка математических вычислений (библиотеки NumPy, SciPy);\n",
    "- Используется для обработки естественных языков (NLTK);\n",
    "- Большое количество развитых web-фреймворков (Django, TurboGear, CherryPy, Flask)."
   ]
  },
  {
   "cell_type": "markdown",
   "metadata": {
    "id": "upfHGn7ylzri"
   },
   "source": [
    "<a id='p5'></a>\n",
    "# Читаемость кода программ                                                написанных на Python"
   ]
  },
  {
   "cell_type": "markdown",
   "metadata": {
    "id": "B5mUBJ69lzrj"
   },
   "source": [
    "### Программа Python:"
   ]
  },
  {
   "cell_type": "code",
   "execution_count": 2,
   "metadata": {
    "id": "33JxDApUlzrj"
   },
   "outputs": [
    {
     "name": "stdout",
     "output_type": "stream",
     "text": [
      "Hello World\n"
     ]
    }
   ],
   "source": [
    "print ( \"Hello World\")"
   ]
  },
  {
   "cell_type": "markdown",
   "metadata": {
    "id": "giNmMskulzrk"
   },
   "source": [
    "### Программа на Java:"
   ]
  },
  {
   "cell_type": "code",
   "execution_count": null,
   "metadata": {
    "id": "nh5pExfblzrk"
   },
   "outputs": [],
   "source": [
    "public class Hello\n",
    " {\n",
    "   public static void main(String argv[])\n",
    "      {\n",
    "        System.out.println(“Hello, World!”);\n",
    "      }\n",
    " }"
   ]
  },
  {
   "cell_type": "markdown",
   "metadata": {
    "id": "J7abi4cWlzrk"
   },
   "source": [
    "### Программа C ++:"
   ]
  },
  {
   "cell_type": "code",
   "execution_count": null,
   "metadata": {
    "id": "FYNuetTFlzrk"
   },
   "outputs": [],
   "source": [
    "#include <iostream>\n",
    "int main() \n",
    "  {\n",
    "    std::cout << \"Hello World\" << std::endl;\n",
    "    return 0;\n",
    "  }"
   ]
  },
  {
   "cell_type": "code",
   "execution_count": 1,
   "metadata": {},
   "outputs": [
    {
     "name": "stdout",
     "output_type": "stream",
     "text": [
      "5\n"
     ]
    }
   ],
   "source": [
    "print(2+3)"
   ]
  },
  {
   "cell_type": "code",
   "execution_count": null,
   "metadata": {},
   "outputs": [],
   "source": [
    "a = 5"
   ]
  },
  {
   "cell_type": "markdown",
   "metadata": {
    "id": "almmGikwlzrk"
   },
   "source": [
    "<a id='p6'></a>\n",
    "# Особенности языка программирования Python"
   ]
  },
  {
   "cell_type": "markdown",
   "metadata": {
    "id": "TY5JPA63lzrk"
   },
   "source": [
    "- Открытый исходный код\n",
    "- Сверхвысокоуровневый язык программирования - принцип «что нужно сделать»\n",
    "- Кроссплатформенный язык\n",
    "- Интерпретируемый\n",
    "- Поддерживает различные парадигмы программирования: модульное программирование, объектно-ориентированное программирование, функциональное программирование\n",
    "- Расширяемый и встраиваемый\n",
    "- Библиотеки:  базы данных, веб-службы, сети, числовые пакеты, графические пользовательские интерфейсы, трехмерная графика и другие.  https://pypi.python.org/pypi\n",
    "- Поддержка онлайн-сообщества Python\n",
    "- Оформлении программ  PEP 8 - Python Enhanced Proposal.  (предложения по развитию Python)  https://pep8.ru/doc/pep8/"
   ]
  },
  {
   "cell_type": "markdown",
   "metadata": {
    "id": "_t4pKwIjlzrl"
   },
   "source": [
    "К <b>недостаткам</b> языка программирования Python \n",
    "является его скорость. Если рассматривать только \n",
    "скорость выполнения кода, то становится ясно, что\n",
    "Python уступает другим языкам \n",
    "программирования, таким как C. Действительно, \n",
    "динамическая типизация, интерпретируемость и \n",
    "другие особенности, облегчающие работу \n",
    "программиста, приводят к ухудшению \n",
    "производительности.<br>\n",
    "<b>Отрицательной </b>стороной является высокий \n",
    "уровень зависимости от системных библиотек. В \n",
    "результате затрудняется перенос на другие \n",
    "системы."
   ]
  },
  {
   "cell_type": "markdown",
   "metadata": {
    "id": "EXw1vojflzrl"
   },
   "source": [
    "- Python уступает другим языкам программирования в скорости\n",
    "- в некоторых случаях он может быть устойчивым к некоторым более простым методам тестирования - это может означать, что отладка кода Python может быть более сложной, чем с другими языками\n",
    "- Зависим от системных библиотек\n",
    "- Невозможность модификации встроенных классов"
   ]
  },
  {
   "cell_type": "markdown",
   "metadata": {},
   "source": [
    "Если вы хотите реализовать чрезвычайно эффективный драйвер или графический движок, вы не будете использовать Python. Приложения для мобильных устройств: хотя эта территория все еще ждет своего покорения Python, скорее всего, когда-нибудь это произойдет."
   ]
  },
  {
   "cell_type": "markdown",
   "metadata": {
    "id": "s7avCzqhlzrl"
   },
   "source": [
    "Python - интерпретируемый язык программирования. Он не конвертирует свой код в машинный, который понимает железо (в отличие от С и С++). Вместо этого, Python-интерпретатор переводит код программы в байт-код, который запускается на виртуальной машине Python (PVM). "
   ]
  },
  {
   "cell_type": "markdown",
   "metadata": {
    "id": "YEU7kSP3lzrl"
   },
   "source": [
    "![xkcd_python](https://pythonchik.ru/pic/lb1/intext_630d6d5f-9f11-467b-afbb-73fc6c7f01df_original.svg)"
   ]
  },
  {
   "cell_type": "markdown",
   "metadata": {
    "id": "u10nCtgplzrl"
   },
   "source": [
    "Байт код - система из компилятора и интерпретатора. Компилятор переводит исходный код программы в промежуточное представление (байт-код), а интерпретатор (виртуальная машина) выполняет этот байт-код."
   ]
  },
  {
   "cell_type": "markdown",
   "metadata": {
    "id": "e4OsfLjQlzrl"
   },
   "source": [
    "Этап #1. Инициализация\n",
    "После запуска вашей программы, Python-интерпретатор читает код, проверяет форматирование и синтаксис. При обнаружении ошибки он незамедлительно останавливается и показывает сообщение об ошибке. \n",
    "\n",
    "Помимо этого, происходит ряд подготовительных процессов:\n",
    "\n",
    "- анализ аргументов командной строки;\n",
    "- установка флагов программы;\n",
    "- чтение переменных среды и т.д.\n"
   ]
  },
  {
   "cell_type": "markdown",
   "metadata": {
    "id": "pYsHh5iYlzrl"
   },
   "source": [
    "Этап #2. Компиляция\n",
    "Интерпретатор транслирует (переводит) исходные инструкции вашей программы в байт-код (низкоуровневое, платформонезависимое представление исходного текста). Такая трансляция необходима в первую очередь для повышения скорости — байт-код выполняется в разы быстрее, чем исходные инструкции."
   ]
  },
  {
   "cell_type": "markdown",
   "metadata": {
    "id": "oKe6iqBVlzrm"
   },
   "source": [
    "![xkcd_python](https://pythonchik.ru/pic/lb1/intext_77d40039-3934-4cbd-a2b8-8ceb818ef641_original.svg)"
   ]
  },
  {
   "cell_type": "markdown",
   "metadata": {
    "id": "VDY43G-Klzrm"
   },
   "source": [
    "Этап #3. Выполнения\n",
    "Как только байт-код скомпилирован, он отправляется на виртуальную машину Python (PVM). Здесь выполняется байт-код на PVM. Если во время этого выполнения возникает ошибка, то выполнение останавливается с сообщением об ошибке.\n",
    "\n",
    "PVM является частью Python-интерпретатора. По сути это просто большой цикл, который выполняет перебор инструкций в байт-коде и выполняет соответствующие им операции."
   ]
  },
  {
   "cell_type": "markdown",
   "metadata": {
    "id": "UgrJKIxglzrm"
   },
   "source": [
    "<a id='p8'></a>\n",
    "# Причины использования Python"
   ]
  },
  {
   "cell_type": "markdown",
   "metadata": {
    "id": "0CoQK6zmlzrm"
   },
   "source": [
    "- Качество программного обеспечения: поддерживает самые современные механизмы многократного использования программного кода\n",
    "- Высокая скорость разработки: объем программного кода на языке Python обычно составляет треть или даже пятую часть эквивалентного программного кода на языке C++ или Java.\n",
    "- Переносимость программ: большая часть программ на языке Python выполняется без изменений на всех основных платформах\n",
    "- Поддержка библиотек\n",
    "- Интеграция компонентов: взаимодействовать с другими частями приложения благодаря различным механизмам интеграции"
   ]
  },
  {
   "cell_type": "markdown",
   "metadata": {},
   "source": [
    "<a id='p9'></a>\n",
    "## Реализации Python"
   ]
  },
  {
   "cell_type": "markdown",
   "metadata": {},
   "source": [
    "![xkcd_python](data:image/png;base64,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)"
   ]
  },
  {
   "cell_type": "markdown",
   "metadata": {},
   "source": [
    "Python Software Foundation — Python Software Foundation (PSF) — некоммерческая организация, занимающаяся языком программирования Python.  Целью которого является разработка, улучшение, расширение и популяризация Python и его среды. Президентом PSF является сам Гвидо фон Россум."
   ]
  },
  {
   "cell_type": "markdown",
   "metadata": {},
   "source": [
    "![xkcd_python](data:image/jpeg;base64,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)"
   ]
  },
  {
   "cell_type": "markdown",
   "metadata": {},
   "source": [
    "CPython -  это стандартная реализация Python, написанная на языке C. Это реализация, которую вы загружаете с python.org. Это интерпретатор Python по умолчанию.\n",
    " \n",
    "Он получает исходную программу и переводит ее в байт-код, который затем выполняется виртуальной машиной CPython.\n",
    "\n",
    "CPython реализуется в C. Это просто деталь реализации. CPython компилирует ваш код python в байт-код (прозрачно) и интерпретирует этот байт-код в цикле оценки.\n",
    "\n",
    "CPython также первым внедряет новые функции; Разработка Python-language использует CPython в качестве базы, другие реализации следуют."
   ]
  },
  {
   "cell_type": "markdown",
   "metadata": {},
   "source": [
    "![xkcd_python](https://csharpcorner-mindcrackerinc.netdna-ssl.com/article/why-learn-python-an-introduction-to-python/Images/cpython1.png)"
   ]
  },
  {
   "cell_type": "markdown",
   "metadata": {},
   "source": [
    "#### Разница между CPython и Python"
   ]
  },
  {
   "cell_type": "markdown",
   "metadata": {},
   "source": [
    "Итак, теперь вы точно поймете разницу между CPython и Python.\n",
    " \n",
    "CPython — это реализация Python, которую вы загружаете с python.org. Python — это язык программирования, где они выполняются CPython."
   ]
  },
  {
   "cell_type": "markdown",
   "metadata": {},
   "source": [
    "\n",
    "<b>CPython</b> является стандартной реализацией, но существуют и другие реализации, созданные для специфических целей и задач."
   ]
  },
  {
   "cell_type": "markdown",
   "metadata": {},
   "source": [
    "![xkcd_python](https://www.jython.org/assets/jython.png)"
   ]
  },
  {
   "cell_type": "markdown",
   "metadata": {},
   "source": [
    "Jython — это Java-реализация Python, в которой код Python компилируется в байт-код Java. Байт-код Java выполняется виртуальной машиной Java (JVM).\n",
    " \n",
    "Jython медленный по сравнению с CPython."
   ]
  },
  {
   "cell_type": "markdown",
   "metadata": {},
   "source": [
    "Основная цель данный реализации — тесная интеграция с языком Java. Работает следующим образом:\n",
    "\n",
    "Java-классы выполняют компиляцию программного кода на языке Python в байт-код Java.\n",
    "Полученный байт-код запускается на виртуальной машине Java (JVM).\n",
    "Jython позволить Python-программам управлять Java-приложениями. Во время выполнения такая программа ведет себя точно так же, как настоящая программа на языке Java."
   ]
  },
  {
   "cell_type": "markdown",
   "metadata": {},
   "source": [
    "![xkcd_python](https://files.gitter.im/IronLanguages/ironpython/VmlK/thumb/ironpython_positiv.jpg)"
   ]
  },
  {
   "cell_type": "markdown",
   "metadata": {},
   "source": [
    "<b>IronPython</b>\n",
    "Предназначена для обеспечения интеграции Python-программ с C# приложениями на Microsoft .NET Framework или Mono. Принцип работы такой же, как и у Jython."
   ]
  },
  {
   "cell_type": "markdown",
   "metadata": {},
   "source": [
    "![xkcd_python](data:image/png;base64,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)"
   ]
  },
  {
   "cell_type": "markdown",
   "metadata": {},
   "source": [
    "<b>PyPy</b><br>\n",
    "PyPy — это интерпретатор Python, написанный на Python (если быть точнее, то на RPython).\n",
    "\n",
    "Особенностью PyPy является использование трассирующего JIT-компилятора (just-in-time), который на лету транслирует некоторые элементы в машинный код. Благодаря этому, при выполнении некоторых операций PyPy обгоняет CPython в несколько раз. Но плата за такую производительность — более высокое потребление памяти."
   ]
  },
  {
   "cell_type": "markdown",
   "metadata": {
    "id": "kMWpD17flzrm"
   },
   "source": [
    "<b>Stackless</b> - также написанная на Си реализация Python. Это не полноценная реализация, а патчи к CPython. Предоставляет возможности многопоточного программирования и большую глубину рекурсии."
   ]
  },
  {
   "cell_type": "markdown",
   "metadata": {},
   "source": [
    "Некоторые другие реализации Python: Cython, IPython, Psyco, Stackless Python, MicroPython и т. д."
   ]
  },
  {
   "cell_type": "markdown",
   "metadata": {},
   "source": [
    "## Среда исполнения"
   ]
  },
  {
   "cell_type": "markdown",
   "metadata": {
    "id": "f0zh4Werlzrm"
   },
   "source": [
    "Все кросс-платформенные языки программирования построены по одной модели:\n",
    "Исходный код(является переносимым между платформами);\n",
    "Среда исполнения, она же - Runtime Environment(не является переносимой и специфична для каждой конкретной платформы).\n",
    "Например, в среду исполнения Java дополнительно входит компилятор, так как исходный код необходимо скомпилировать в байт-код для виртуальной Java-машины. В среду исполнения Python входит только интерпретатор, который одновременно является и компилятором, однако компилирует исходный код Python непосредственно в машинный код целевой платформы.\n",
    "\n",
    "Когда вы пишете программу на языке Python, интерпретатор читает вашу программу и выполняет содержащиеся в ней инструкции. В действительности, интерпретатор - это слой программной логики между вашим программным кодом и аппаратурой вашего компьютера."
   ]
  },
  {
   "cell_type": "markdown",
   "metadata": {
    "id": "ULQVHiAUlzrn"
   },
   "source": [
    "![xkcd_python](https://thumb.tildacdn.com/tild6637-6430-4535-b733-663562373532/-/format/webp/Smartiqa_Python_inte.png)"
   ]
  },
  {
   "cell_type": "markdown",
   "metadata": {
    "id": "p51CaB1Xlzrn"
   },
   "source": [
    "Соответственно, прежде чем начать использовать Python, необходимо настроить его среду исполнения. Здесь возможны варианты:\n",
    "1. Воспользоваться онлайн интерпретатором.\n",
    "2. Установить интерпретатор Python у себя на машине. Вызывать его из консоли.\n",
    "3. Установить интерпретатор Python у себя на машине. \n",
    "4. Установить интегрированную среду разработки (IDE). Например, PyCharm. Писать и запускать скрипты внутри IDE."
   ]
  },
  {
   "cell_type": "markdown",
   "metadata": {
    "id": "3hUXfML6lzrp"
   },
   "source": [
    "### Среда разработки языка программирования  Python"
   ]
  },
  {
   "cell_type": "markdown",
   "metadata": {
    "id": "NnzTNjoylzrp"
   },
   "source": [
    "Онлайн-интерпретаторы:  http://ideone.com/, http://codepad.org/  и др.<br>\n",
    "IDLE<br>\n",
    "\thttps://docs.python.org/3/library/idle.html Простейшая интегрированная среда разработки. <br>\n",
    "    Поставляется вместе с Python.<br>\n",
    "PyCharm<br>\n",
    "\thttps://www.jetbrains.com/pycharm/download<br>\n",
    "Wing 101<br>\n",
    "\thttps://wingware.com/downloads/wing-101<br>\n",
    "Anaconda <br>\n",
    "\thttps://www.continuum.io/downloads Python + IDE Spyder с набором библиотек (numpy, scipy, ...) для научных вычислений <br>"
   ]
  },
  {
   "cell_type": "markdown",
   "metadata": {},
   "source": [
    "<a id='p11'></a>\n",
    "## Область применения"
   ]
  },
  {
   "cell_type": "markdown",
   "metadata": {},
   "source": [
    "Системные утилиты (инструменты системного администратора, программы командной строки).\n",
    "  - Веб-разработка.\n",
    "  - Графические пользовательские интерфейсы (Tkinter, gtk, Qt).\n",
    "  - Интернет-скрипты.\n",
    "  - Встроенные скрипты.\n",
    "  - Доступ к базе данных и программирование.\n",
    "  - Программирование игр.\n",
    "  - Быстрое прототипирование и разработка.\n",
    "  - Распределенное программирование."
   ]
  },
  {
   "cell_type": "markdown",
   "metadata": {},
   "source": [
    "<a id='p16'></a>\n",
    "## Функциональные возможности"
   ]
  },
  {
   "cell_type": "markdown",
   "metadata": {},
   "source": [
    "- Динамическая типизация  сам следит за типами объектов\n",
    "- Автоматическое управление памятью автоматически распределяет память под объекты и освобождает ее (\"сборка мусора\")\n",
    "- Модульное программирование позволяет разбить систему на составляющие, применять ООП \n",
    "- Встроенные типы объектов предоставляет наиболее типичные структуры данных, такие как списки, словари и строки\n",
    "- Встроенные инструменты мощные и стандартные средства, включая такие операции, как конкатенация (объединение коллекций), получение срезов (извлечение части коллекции), сортировка, отображение и др.\n",
    "- Библиотеки утилит большая коллекция библиотечных инструментов\n",
    "- Утилиты сторонних разработчиков разработчики могут создавать свои предварительно скомпилированные инструменты поддержки задач, решить которые внутренними средствами невозможно"
   ]
  },
  {
   "cell_type": "markdown",
   "metadata": {
    "id": "x3pg-GS9lzrp"
   },
   "source": [
    "# Выводы"
   ]
  },
  {
   "cell_type": "markdown",
   "metadata": {
    "id": "Zxn75AXSlzrp"
   },
   "source": [
    "Начнём с того, что Python – это \n",
    "многоцелевой язык. Его можно одинаково хорошо \n",
    "использовать для разработки любых программ и \n",
    "их тестирования. Так, например, компания Google \n",
    "широко использует язык Python для своей \n",
    "поисковой системы. Большая часть популярного \n",
    "видеохостинга YouTube была написана на \n",
    "языке Python. Также язык Python применяется в \n",
    "анимационной графике, научных вычислениях и \n",
    "тестировании аппаратного обеспечения.\n",
    "\n",
    "Таким образом, Python подходит для решения\n",
    "львиной доли повседневных задач, будь то\n",
    "резервное копирование, чтение электронной\n",
    "почты, либо же какая-нибудь игрушка. Язык\n",
    "программирования Python практически ничем\n",
    "не ограничен, поэтому также может\n",
    "использоваться в крупных проектах. К\n",
    "примеру, Python интенсивно применяется IT\u0002гигантами, такими как, например, Google и\n",
    "Yandex. "
   ]
  },
  {
   "cell_type": "markdown",
   "metadata": {
    "id": "ADxradOulzrg"
   },
   "source": [
    "<a id='d'></a>\n",
    "# Дополнительный материал"
   ]
  },
  {
   "cell_type": "markdown",
   "metadata": {
    "id": "oA7Xs85Olzrg"
   },
   "source": [
    "https://pythontutor.ru/"
   ]
  },
  {
   "cell_type": "markdown",
   "metadata": {
    "id": "rAhBg75Slzrg"
   },
   "source": [
    "https://stepik.org/course/575/promo"
   ]
  },
  {
   "cell_type": "markdown",
   "metadata": {
    "id": "DObuKXELlzrg"
   },
   "source": [
    "https://www.programiz.com/"
   ]
  },
  {
   "cell_type": "markdown",
   "metadata": {
    "id": "Gq0-t8Q2lzrh"
   },
   "source": [
    "https://www.youtube.com/watch?v=iEmv_nIvFp4"
   ]
  },
  {
   "cell_type": "markdown",
   "metadata": {
    "id": "ajOfy_bElzrh"
   },
   "source": [
    "https://youtu.be/2-EBSIRs0H4"
   ]
  },
  {
   "cell_type": "markdown",
   "metadata": {
    "id": "j1Bvj5N_lzrh"
   },
   "source": [
    "https://informatics.msk.ru/mod/statements/view.php?id=276#1"
   ]
  },
  {
   "cell_type": "markdown",
   "metadata": {},
   "source": [
    "netacad.com"
   ]
  },
  {
   "cell_type": "markdown",
   "metadata": {
    "id": "-Wc0_soolzry"
   },
   "source": [
    "# Управление памятью и сборщик мусора"
   ]
  },
  {
   "cell_type": "markdown",
   "metadata": {
    "id": "u17d2VbVlzry"
   },
   "source": [
    "Сборка мусора - технология, позволяющая, с одной стороны, упростить программирование, избавив программиста от необходимости вручную удалять объекты, созданные в динамической памяти, с другой - устранить ошибки, вызванные неправильным ручным управлением памятью.<br> Алгоритм, используемый сборщиком мусора называется подсчетом ссылок. Python хранит журнал ссылок на каждый объект и автоматически уничтожает объект, как только на него больше нет ссылок. "
   ]
  },
  {
   "cell_type": "markdown",
   "metadata": {
    "id": "o5ZcFN4Ilzry"
   },
   "source": [
    "![xkcd_python](https://www.yuripetrov.ru/edu/python/_images/03_01_02.gif)"
   ]
  }
 ],
 "metadata": {
  "colab": {
   "name": "Первая лекция Python.ipynb",
   "provenance": []
  },
  "kernelspec": {
   "display_name": "Python 3",
   "language": "python",
   "name": "python3"
  },
  "language_info": {
   "codemirror_mode": {
    "name": "ipython",
    "version": 3
   },
   "file_extension": ".py",
   "mimetype": "text/x-python",
   "name": "python",
   "nbconvert_exporter": "python",
   "pygments_lexer": "ipython3",
   "version": "3.8.3"
  }
 },
 "nbformat": 4,
 "nbformat_minor": 1
}
