{
 "cells": [
  {
   "cell_type": "markdown",
   "metadata": {},
   "source": [
    "# Вложенные циклы"
   ]
  },
  {
   "cell_type": "code",
   "execution_count": 2,
   "metadata": {},
   "outputs": [
    {
     "name": "stdout",
     "output_type": "stream",
     "text": [
      "i = 0 j =  0\n",
      "i = 0 j =  1\n",
      "i = 0 j =  2\n",
      "i = 0 j =  3\n",
      "i = 1 j =  0\n",
      "i = 1 j =  1\n",
      "i = 1 j =  2\n",
      "i = 1 j =  3\n",
      "i = 2 j =  0\n",
      "i = 2 j =  1\n",
      "i = 2 j =  2\n",
      "i = 2 j =  3\n"
     ]
    }
   ],
   "source": [
    "for i in range(3):\n",
    "    for j in range(4):\n",
    "        print ('i =',i,'j = ',  j )\n"
   ]
  },
  {
   "cell_type": "markdown",
   "metadata": {},
   "source": [
    "#### Выведите на экран таблицу умножения чисел от 1 до 9."
   ]
  },
  {
   "cell_type": "code",
   "execution_count": 3,
   "metadata": {},
   "outputs": [
    {
     "name": "stdout",
     "output_type": "stream",
     "text": [
      "0*0=0\n",
      "0*1=0\n",
      "0*2=0\n",
      "0*3=0\n",
      "0*4=0\n",
      "0*5=0\n",
      "0*6=0\n",
      "0*7=0\n",
      "0*8=0\n",
      "0*9=0\n",
      "1*0=0\n",
      "1*1=1\n",
      "1*2=2\n",
      "1*3=3\n",
      "1*4=4\n",
      "1*5=5\n",
      "1*6=6\n",
      "1*7=7\n",
      "1*8=8\n",
      "1*9=9\n",
      "2*0=0\n",
      "2*1=2\n",
      "2*2=4\n",
      "2*3=6\n",
      "2*4=8\n",
      "2*5=10\n",
      "2*6=12\n",
      "2*7=14\n",
      "2*8=16\n",
      "2*9=18\n",
      "3*0=0\n",
      "3*1=3\n",
      "3*2=6\n",
      "3*3=9\n",
      "3*4=12\n",
      "3*5=15\n",
      "3*6=18\n",
      "3*7=21\n",
      "3*8=24\n",
      "3*9=27\n",
      "4*0=0\n",
      "4*1=4\n",
      "4*2=8\n",
      "4*3=12\n",
      "4*4=16\n",
      "4*5=20\n",
      "4*6=24\n",
      "4*7=28\n",
      "4*8=32\n",
      "4*9=36\n",
      "5*0=0\n",
      "5*1=5\n",
      "5*2=10\n",
      "5*3=15\n",
      "5*4=20\n",
      "5*5=25\n",
      "5*6=30\n",
      "5*7=35\n",
      "5*8=40\n",
      "5*9=45\n",
      "6*0=0\n",
      "6*1=6\n",
      "6*2=12\n",
      "6*3=18\n",
      "6*4=24\n",
      "6*5=30\n",
      "6*6=36\n",
      "6*7=42\n",
      "6*8=48\n",
      "6*9=54\n",
      "7*0=0\n",
      "7*1=7\n",
      "7*2=14\n",
      "7*3=21\n",
      "7*4=28\n",
      "7*5=35\n",
      "7*6=42\n",
      "7*7=49\n",
      "7*8=56\n",
      "7*9=63\n",
      "8*0=0\n",
      "8*1=8\n",
      "8*2=16\n",
      "8*3=24\n",
      "8*4=32\n",
      "8*5=40\n",
      "8*6=48\n",
      "8*7=56\n",
      "8*8=64\n",
      "8*9=72\n",
      "9*0=0\n",
      "9*1=9\n",
      "9*2=18\n",
      "9*3=27\n",
      "9*4=36\n",
      "9*5=45\n",
      "9*6=54\n",
      "9*7=63\n",
      "9*8=72\n",
      "9*9=81\n"
     ]
    }
   ],
   "source": [
    "for i in range(10):\n",
    "    for j in range(10):\n",
    "        print(f'{i}*{j}={i*j}')\n"
   ]
  },
  {
   "cell_type": "code",
   "execution_count": 5,
   "metadata": {},
   "outputs": [
    {
     "name": "stdout",
     "output_type": "stream",
     "text": [
      "1   2   3   4   5   6   7   8   9   \n",
      "2   4   6   8   10   12   14   16   18   \n",
      "3   6   9   12   15   18   21   24   27   \n",
      "4   8   12   16   20   24   28   32   36   \n",
      "5   10   15   20   25   30   35   40   45   \n",
      "6   12   18   24   30   36   42   48   54   \n",
      "7   14   21   28   35   42   49   56   63   \n",
      "8   16   24   32   40   48   56   64   72   \n",
      "9   18   27   36   45   54   63   72   81   \n"
     ]
    }
   ],
   "source": [
    "for i in range(1, 10):\n",
    "    for j in range(1, 10):\n",
    "        print(i*j, end = '   ')\n",
    "    print()"
   ]
  },
  {
   "cell_type": "markdown",
   "metadata": {},
   "source": [
    "#### Выведите на экран таблицу сложения чисел от 1 до 9, т.е. каждый элемент таблицы это значение суммы индекса строки и столбца."
   ]
  },
  {
   "cell_type": "code",
   "execution_count": 6,
   "metadata": {},
   "outputs": [
    {
     "name": "stdout",
     "output_type": "stream",
     "text": [
      "2   3   4   5   6   7   8   9   10   \n",
      "3   4   5   6   7   8   9   10   11   \n",
      "4   5   6   7   8   9   10   11   12   \n",
      "5   6   7   8   9   10   11   12   13   \n",
      "6   7   8   9   10   11   12   13   14   \n",
      "7   8   9   10   11   12   13   14   15   \n",
      "8   9   10   11   12   13   14   15   16   \n",
      "9   10   11   12   13   14   15   16   17   \n",
      "10   11   12   13   14   15   16   17   18   \n"
     ]
    }
   ],
   "source": [
    "for i in range(1, 10):\n",
    "    for j in range(1, 10):\n",
    "        print(i+j, end = '   ')\n",
    "    print()"
   ]
  },
  {
   "cell_type": "markdown",
   "metadata": {},
   "source": [
    "#### Выведите на экран таблицу степеней числа a в степени b, где a и b - числа от 1 до 5, т.е. каждый элемент таблицы это значение индекса строки, возведенное в степень равное индексу столбца"
   ]
  },
  {
   "cell_type": "code",
   "execution_count": 7,
   "metadata": {},
   "outputs": [
    {
     "name": "stdout",
     "output_type": "stream",
     "text": [
      "1   1   1   1   1   \n",
      "2   4   8   16   32   \n",
      "3   9   27   81   243   \n",
      "4   16   64   256   1024   \n",
      "5   25   125   625   3125   \n"
     ]
    }
   ],
   "source": [
    "for i in range(1, 6):\n",
    "    for j in range(1, 6):\n",
    "        print(i**j, end = '   ')\n",
    "    print()"
   ]
  },
  {
   "cell_type": "code",
   "execution_count": 9,
   "metadata": {},
   "outputs": [
    {
     "name": "stdout",
     "output_type": "stream",
     "text": [
      "1   1   1   1   1   \n",
      "2   4   8   16   32   \n",
      "3   9   27   81   243   \n",
      "4   16   64   256   1024   \n",
      "5   25   125   625   3125   \n"
     ]
    }
   ],
   "source": [
    "for i in range(1, 6):\n",
    "    for j in range(1, 6):\n",
    "        print(pow(i, j), end = '   ')\n",
    "    print()"
   ]
  },
  {
   "cell_type": "markdown",
   "metadata": {},
   "source": [
    "#### Выведите на экран таблицу деления числа a на число b, где a и b - числа от 1 до 5, т.е. каждый элемент таблицы это значение частного от деления индекса строки на индекс столбца с точностью 2 знака после запятой. Для форматирования вывода дробного числа используйте функцию round(x, 2) Эта функция принимает на вход число x и количество знаков после запятой, которые нужно оставить при выводе. В данном случае это 2."
   ]
  },
  {
   "cell_type": "code",
   "execution_count": 11,
   "metadata": {},
   "outputs": [
    {
     "name": "stdout",
     "output_type": "stream",
     "text": [
      "1.0   0.5   0.33   0.25   0.2   \n",
      "2.0   1.0   0.67   0.5   0.4   \n",
      "3.0   1.5   1.0   0.75   0.6   \n",
      "4.0   2.0   1.33   1.0   0.8   \n",
      "5.0   2.5   1.67   1.25   1.0   \n"
     ]
    }
   ],
   "source": [
    "for i in range(1, 6):\n",
    "    for j in range(1, 6):\n",
    "        print(round(i/j,2), end = '   ')\n",
    "    print()"
   ]
  },
  {
   "cell_type": "code",
   "execution_count": null,
   "metadata": {},
   "outputs": [],
   "source": [
    "Программа получает на вход натуральное число N (1 ≤ N ≤100). Выведите на экран таблицу размером NxN, элементы каждой строки равны индексу строки\n",
    "\n",
    "Для примера:\n",
    "\n",
    "Ввод\tРезультат\n",
    "4\n",
    "4\n",
    "0 0 0 0\n",
    "1 1 1 1\n",
    "2 2 2 2\n",
    "3 3 3 3"
   ]
  },
  {
   "cell_type": "code",
   "execution_count": null,
   "metadata": {},
   "outputs": [],
   "source": []
  },
  {
   "cell_type": "markdown",
   "metadata": {},
   "source": [
    "Программа получает на вход натуральное число N (1 ≤ N ≤100). Выведите на экран таблицу размером NxN, заполненную по следующему правилу: строка с индексом 0 и N-1 заполнена 1, все остальные строки 0.\n",
    "\n",
    "Пример\n",
    "Входные значения \n",
    "4 \n",
    "\n",
    "Выходные данные\n",
    "\n",
    "`1 1 1 1 \n",
    "0 0 0 0\n",
    "0 0 0 0\n",
    "1 1 1 1`"
   ]
  },
  {
   "cell_type": "code",
   "execution_count": null,
   "metadata": {},
   "outputs": [],
   "source": []
  },
  {
   "cell_type": "markdown",
   "metadata": {},
   "source": [
    "Программа получает на вход натуральное число N (1 ≤ N ≤100). Выведите на экран таблицу размером NxN, элементы каждой строки равны индексу строки"
   ]
  },
  {
   "cell_type": "code",
   "execution_count": 3,
   "metadata": {},
   "outputs": [
    {
     "name": "stdout",
     "output_type": "stream",
     "text": [
      "4\n",
      "0 0 0 0 \n",
      "1 1 1 1 \n",
      "2 2 2 2 \n",
      "3 3 3 3 \n"
     ]
    }
   ],
   "source": [
    "n = int(input())\n",
    "for i in range(n):\n",
    "    for j in range(n):\n",
    "        print(i, end = ' ')\n",
    "    print()"
   ]
  },
  {
   "cell_type": "code",
   "execution_count": 4,
   "metadata": {},
   "outputs": [
    {
     "name": "stdout",
     "output_type": "stream",
     "text": [
      "5\n",
      "0 1 2 3 4 \n",
      "0 1 2 3 4 \n",
      "0 1 2 3 4 \n",
      "0 1 2 3 4 \n",
      "0 1 2 3 4 \n"
     ]
    }
   ],
   "source": [
    "n = int(input())\n",
    "for i in range(n):\n",
    "    for j in range(n):\n",
    "        print(j, end = ' ')\n",
    "    print()"
   ]
  },
  {
   "cell_type": "code",
   "execution_count": 4,
   "metadata": {},
   "outputs": [
    {
     "name": "stdout",
     "output_type": "stream",
     "text": [
      "4\n",
      "1 1 1 1 \n",
      "0 0 0 0 \n",
      "0 0 0 0 \n",
      "1 1 1 1 \n"
     ]
    }
   ],
   "source": [
    "n= int(input())\n",
    "for i in range(n):\n",
    "    for j in range(n):\n",
    "        if i ==0 or i ==n-1:\n",
    "            print(1, end = ' ')\n",
    "        else:\n",
    "            print(0, end=' ')\n",
    "    print()\n"
   ]
  },
  {
   "cell_type": "markdown",
   "metadata": {},
   "source": [
    "№10. Программа получает на вход натуральное число N (1 ≤ N ≤100). Выведите на экран таблицу размером NxN, заполненную по следующему правилу: ко краям таблицы стоят 1, а в середине 0.\n",
    "\n",
    "Пример\n",
    "\n",
    "Входные значения\n",
    "\n",
    "4 \n",
    "\n",
    " Выходные значения\n",
    " \n",
    " `1 1 1 1 \n",
    " 1 0 0 1 \n",
    " 1 0 0 1 \n",
    " 1 1 1 1`"
   ]
  },
  {
   "cell_type": "code",
   "execution_count": 5,
   "metadata": {},
   "outputs": [
    {
     "name": "stdout",
     "output_type": "stream",
     "text": [
      "4\n",
      "1 1 1 1 \n",
      "1 0 0 1 \n",
      "1 0 0 1 \n",
      "1 1 1 1 \n"
     ]
    }
   ],
   "source": [
    "n= int(input())\n",
    "for i in range(n):\n",
    "    for j in range(n):\n",
    "        if i ==0 or i ==n-1 or j==0 or j==n-1 :\n",
    "            print(1, end = ' ')\n",
    "        else:\n",
    "            print(0, end=' ')\n",
    "    print()"
   ]
  },
  {
   "cell_type": "code",
   "execution_count": null,
   "metadata": {},
   "outputs": [],
   "source": [
    "Программа получает на вход натуральное число N (1 ≤ N ≤100). Выведите на экран таблицу размером NxN, по углам которой стоят 1, все остальные элементы 0.\n",
    "\n",
    "Пример\n",
    "\n",
    "Входные значения \n",
    "4 \n",
    "Выходные значения\n",
    "\n",
    "1 0 0 1 \n",
    "\n",
    "0 0 0 0 \n",
    "\n",
    "0 0 0 0 \n",
    "\n",
    "1 0 0 1"
   ]
  },
  {
   "cell_type": "code",
   "execution_count": null,
   "metadata": {},
   "outputs": [],
   "source": [
    "n= int(input())\n",
    "for i in range(n):\n",
    "    for j in range(n):\n",
    "        if (i ==0 and j==0)  or (i==0 and j==n-1) or (i ==n-1 and j==0)  or (i==n-1 and j==n-1) :\n",
    "            print(1, end = ' ')\n",
    "        else:\n",
    "            print(0, end=' ')\n",
    "    print()"
   ]
  },
  {
   "cell_type": "code",
   "execution_count": null,
   "metadata": {},
   "outputs": [],
   "source": [
    "Программа получает на вход натуральное число N (2 ≤ N ≤100, N - четное). Выведите на экран таблицу размером NxN, верхняя половина которой заполнена 1, а нижняя 0.\n",
    "\n",
    "Пример\n",
    "\n",
    "Входные значения \n",
    "\n",
    "4 \n",
    "Выходные значения\n",
    "\n",
    "1 1 1 1\n",
    "\n",
    "1 1 1 1 \n",
    "\n",
    "0 0 0 0 \n",
    "\n",
    "0 0 0 0"
   ]
  },
  {
   "cell_type": "code",
   "execution_count": 1,
   "metadata": {},
   "outputs": [
    {
     "name": "stdout",
     "output_type": "stream",
     "text": [
      "6\n",
      "1 1 1 1 1 1 \n",
      "1 1 1 1 1 1 \n",
      "1 1 1 1 1 1 \n",
      "0 0 0 0 0 0 \n",
      "0 0 0 0 0 0 \n",
      "0 0 0 0 0 0 \n"
     ]
    }
   ],
   "source": [
    "n= int(input())\n",
    "for i in range(n):\n",
    "    for j in range(n):\n",
    "        if (i < n//2 ):\n",
    "            print(1, end = ' ')\n",
    "        else:\n",
    "            print(0, end=' ')\n",
    "    print()"
   ]
  },
  {
   "cell_type": "markdown",
   "metadata": {},
   "source": [
    "Программа получает на вход натуральное число N (2 ≤ N ≤100, N - четное). Выведите на экран таблицу размером NxN, верхняя четверть заполнена 1, а все остальные элементы 0.\n",
    "\n",
    "Пример\n",
    "\n",
    "Входные значения\n",
    "\n",
    "4  \n",
    "Выходные значения\n",
    "1 1 0 0 \n",
    "\n",
    "1 1 0 0 \n",
    "\n",
    "0 0 0 0 \n",
    "\n",
    "0 0 0 0"
   ]
  },
  {
   "cell_type": "code",
   "execution_count": 12,
   "metadata": {},
   "outputs": [
    {
     "name": "stdout",
     "output_type": "stream",
     "text": [
      "6\n",
      "1 1 1 0 0 0 \n",
      "1 1 1 0 0 0 \n",
      "1 1 1 0 0 0 \n",
      "0 0 0 0 0 0 \n",
      "0 0 0 0 0 0 \n",
      "0 0 0 0 0 0 \n"
     ]
    }
   ],
   "source": [
    "n= int(input())\n",
    "for i in range(n):\n",
    "    for j in range(n):\n",
    "        if (j < n//2) and (i < n//2):\n",
    "            print(1, end = ' ')\n",
    "        else:\n",
    "            print(0, end=' ')\n",
    "    print()"
   ]
  },
  {
   "cell_type": "markdown",
   "metadata": {},
   "source": [
    "Программа получает на вход натуральное число N (3 ≤ N ≤100, N - нечетное). Выведите на экран таблицу размером NxN, средний столбец и средняя строка которой заполнены единицами, все остальные элементы нули.\n",
    "\n",
    "Пример\n",
    "\n",
    "Входные значения \n",
    "\n",
    "5 \n",
    "Выходные значения\n",
    "0 0 1 0 0 \n",
    "\n",
    "0 0 1 0 0 \n",
    "\n",
    "1 1 1 1 1\n",
    "\n",
    "0 0 1 0 0 \n",
    "\n",
    "0 0 1 0 0"
   ]
  },
  {
   "cell_type": "code",
   "execution_count": 15,
   "metadata": {},
   "outputs": [
    {
     "name": "stdout",
     "output_type": "stream",
     "text": [
      "5\n",
      "0 0 0 0 0 \n",
      "0 0 0 0 0 \n",
      "0 0 1 0 0 \n",
      "0 0 0 0 0 \n",
      "0 0 0 0 0 \n"
     ]
    }
   ],
   "source": [
    "n= int(input())\n",
    "for i in range(n):\n",
    "    for j in range(n):\n",
    "        if (j == n//2) or (i == n//2):\n",
    "            print(1, end = ' ')\n",
    "        else:\n",
    "            print(0, end=' ')\n",
    "    print()"
   ]
  },
  {
   "cell_type": "code",
   "execution_count": null,
   "metadata": {},
   "outputs": [],
   "source": [
    "Программа получает на вход натуральное число N (1 ≤ N ≤100). Выведите на экран таблицу размером NxN, в которой на главной диагонали стоят 1, а все остальные места заполнен 0.\n",
    "\n",
    "Пример\n",
    "\n",
    "Входные значения \n",
    "\n",
    "4 \n",
    "Выходные значения\n",
    "\n",
    "1 0 0 0 \n",
    "\n",
    "0 1 0 0 \n",
    "\n",
    "0 0 1 0 \n",
    "\n",
    "0 0 0 1"
   ]
  },
  {
   "cell_type": "code",
   "execution_count": 16,
   "metadata": {},
   "outputs": [
    {
     "name": "stdout",
     "output_type": "stream",
     "text": [
      "6\n",
      "1 0 0 0 0 0 \n",
      "0 1 0 0 0 0 \n",
      "0 0 1 0 0 0 \n",
      "0 0 0 1 0 0 \n",
      "0 0 0 0 1 0 \n",
      "0 0 0 0 0 1 \n"
     ]
    }
   ],
   "source": [
    "n= int(input())\n",
    "for i in range(n):\n",
    "    for j in range(n):\n",
    "        if (i == j):\n",
    "            print(1, end = ' ')\n",
    "        else:\n",
    "            print(0, end=' ')\n",
    "    print()"
   ]
  },
  {
   "cell_type": "code",
   "execution_count": null,
   "metadata": {},
   "outputs": [],
   "source": [
    "Программа получает на вход натуральное число N (1 ≤ N ≤100). Выведите на экран таблицу размером NxN, в которой на главной диагонали и ниже стоят 1, а все остальные места заполнен 0.\n",
    "\n",
    "Пример\n",
    "\n",
    "Входные значения \n",
    "\n",
    "4 \n",
    "\n",
    "Выходные значения\n",
    "\n",
    "1 0 0 0\n",
    "\n",
    "1 1 0 0 \n",
    "\n",
    "1 1 1 0 \n",
    "\n",
    "1 1 1 1"
   ]
  },
  {
   "cell_type": "code",
   "execution_count": 17,
   "metadata": {},
   "outputs": [
    {
     "name": "stdout",
     "output_type": "stream",
     "text": [
      "4\n",
      "1 0 0 0 \n",
      "1 1 0 0 \n",
      "1 1 1 0 \n",
      "1 1 1 1 \n"
     ]
    }
   ],
   "source": [
    "n= int(input())\n",
    "for i in range(n):\n",
    "    for j in range(n):\n",
    "        if (i >= j):\n",
    "            print(1, end = ' ')\n",
    "        else:\n",
    "            print(0, end=' ')\n",
    "    print()"
   ]
  },
  {
   "cell_type": "code",
   "execution_count": null,
   "metadata": {},
   "outputs": [],
   "source": [
    "Программа получает на вход натуральное число N (2 ≤ N ≤100, N - четное). Выведите на экран таблицу размером NxN, нижний угол первой четверти которой заполнен единицами, а все остальные элементы нулями.\n",
    "\n",
    "Пример\n",
    "\n",
    "Входные значения \n",
    "\n",
    "6 \n",
    "\n",
    "Выходные значения\n",
    "1 0 0 0 0 0 \n",
    "\n",
    "1 1 0 0 0 0 \n",
    "\n",
    "1 1 1 0 0 0 \n",
    "\n",
    "0 0 0 0 0 0 \n",
    "\n",
    "0 0 0 0 0 0 \n",
    "\n",
    "0 0 0 0 0 0"
   ]
  },
  {
   "cell_type": "code",
   "execution_count": null,
   "metadata": {},
   "outputs": [],
   "source": [
    "n= int(input())\n",
    "for i in range(n):\n",
    "    for j in range(n):\n",
    "        if (i >= j) and (i < n//2):\n",
    "            print(1, end = ' ')\n",
    "        else:\n",
    "            print(0, end=' ')\n",
    "    print()"
   ]
  },
  {
   "cell_type": "code",
   "execution_count": null,
   "metadata": {},
   "outputs": [],
   "source": []
  }
 ],
 "metadata": {
  "kernelspec": {
   "display_name": "Python 3",
   "language": "python",
   "name": "python3"
  },
  "language_info": {
   "codemirror_mode": {
    "name": "ipython",
    "version": 3
   },
   "file_extension": ".py",
   "mimetype": "text/x-python",
   "name": "python",
   "nbconvert_exporter": "python",
   "pygments_lexer": "ipython3",
   "version": "3.8.3"
  }
 },
 "nbformat": 4,
 "nbformat_minor": 4
}
