{
 "cells": [
  {
   "cell_type": "markdown",
   "metadata": {},
   "source": [
    "**Сумма цифр числа**"
   ]
  },
  {
   "cell_type": "code",
   "execution_count": 1,
   "metadata": {},
   "outputs": [
    {
     "name": "stdout",
     "output_type": "stream",
     "text": [
      "123\n",
      "6\n"
     ]
    }
   ],
   "source": [
    "n = int(input())\n",
    "s = 0\n",
    "while  n != 0:\n",
    "    s += n % 10\n",
    "    n = n // 10\n",
    "print(s)"
   ]
  },
  {
   "cell_type": "code",
   "execution_count": 1,
   "metadata": {},
   "outputs": [
    {
     "name": "stdout",
     "output_type": "stream",
     "text": [
      "456\n",
      "15\n"
     ]
    }
   ],
   "source": [
    "def summa(n):\n",
    "    s = 0\n",
    "    while  n !=0:\n",
    "        s+=n%10\n",
    "        n = n//10\n",
    "    print(s)\n",
    "\n",
    "n = int(input())\n",
    "summa(n)\n"
   ]
  },
  {
   "cell_type": "markdown",
   "metadata": {},
   "source": [
    "`def sin(x):\n",
    "\n",
    "    sin (45)   "
   ]
  },
  {
   "cell_type": "code",
   "execution_count": 3,
   "metadata": {},
   "outputs": [
    {
     "name": "stdout",
     "output_type": "stream",
     "text": [
      "5\n",
      "5\n",
      "89\n",
      "17\n"
     ]
    }
   ],
   "source": [
    "def summa(n):\n",
    "    \"\"\" Эта функция которая возвращает \n",
    "    сумму цифр введенного числа\n",
    "    \"\"\"\n",
    "    s = 0\n",
    "    while  n !=0:\n",
    "        s+=n%10\n",
    "        n = n//10\n",
    "    print(s)\n",
    "\n",
    "n = int(input())\n",
    "summa(n)\n",
    "k = int(input())\n",
    "#print(summa(k))   \n",
    "summa(k)"
   ]
  },
  {
   "cell_type": "code",
   "execution_count": 2,
   "metadata": {},
   "outputs": [
    {
     "name": "stdout",
     "output_type": "stream",
     "text": [
      "55\n",
      "10\n",
      "78\n",
      "15\n"
     ]
    }
   ],
   "source": [
    "def summa(n):\n",
    "    \"\"\" Эта функция которая возвращает сумму цифр введенного числа\n",
    "    \n",
    "    \"\"\"\n",
    "    s = 0\n",
    "    while  n !=0:\n",
    "        s+=n%10\n",
    "        n = n//10\n",
    "    return s\n",
    "\n",
    "n = int(input())\n",
    "y = summa(n)\n",
    "print(y)\n",
    "k = int(input())\n",
    "print(summa(k))   "
   ]
  },
  {
   "cell_type": "markdown",
   "metadata": {},
   "source": [
    "**На вход программе подается 2 натуральных числа. Определите у какого числа сумма цифр больше. В ответе выведите 1, если сумма цифр 1 числа больше, 2, если второго, 0 если сума цифр одинаковая**\n"
   ]
  },
  {
   "cell_type": "code",
   "execution_count": 1,
   "metadata": {},
   "outputs": [
    {
     "name": "stdout",
     "output_type": "stream",
     "text": [
      "12\n",
      "5\n",
      "2\n"
     ]
    }
   ],
   "source": [
    "a =int(input())\n",
    "b =int(input())\n",
    "\n",
    "sa=0\n",
    "while a!=0:\n",
    "    sa += a % 10 # последняя цифра\n",
    "    a = a // 10 # сократить число\n",
    "    \n",
    "sb=0\n",
    "while b!=0:\n",
    "    sb += b % 10\n",
    "    b = b // 10\n",
    "    \n",
    "if sa > sb:\n",
    "    print(1)\n",
    "elif sa < sb:\n",
    "    print(2)\n",
    "else:\n",
    "    print(0)"
   ]
  },
  {
   "cell_type": "code",
   "execution_count": 1,
   "metadata": {},
   "outputs": [
    {
     "name": "stdout",
     "output_type": "stream",
     "text": [
      "Введите первое число525\n",
      "Введите второе число74\n",
      "1\n"
     ]
    }
   ],
   "source": [
    "def summa_ch(num): \n",
    "    \"\"\"это функция сумма цифр числа\n",
    "    s num локальные переменные\"\"\"\n",
    "    s=0\n",
    "    while num!=0:\n",
    "        s+= num % 10\n",
    "        num = num // 10\n",
    "    return s\n",
    "\n",
    "n =int(input(\"Введите первое число\"))\n",
    "m =int(input(\"Введите второе число\"))\n",
    "a=summa_ch(n)\n",
    "b=summa_ch(m)\n",
    "if a>b:\n",
    "    print(1)\n",
    "elif a<b:\n",
    "    print(2)\n",
    "else:\n",
    "    print(0)"
   ]
  },
  {
   "cell_type": "code",
   "execution_count": 4,
   "metadata": {},
   "outputs": [
    {
     "data": {
      "text/plain": [
       "'Return the number of items in a container.'"
      ]
     },
     "execution_count": 4,
     "metadata": {},
     "output_type": "execute_result"
    }
   ],
   "source": [
    "len.__doc__"
   ]
  },
  {
   "cell_type": "code",
   "execution_count": 5,
   "metadata": {},
   "outputs": [
    {
     "data": {
      "text/plain": [
       "'Round a number to a given precision in decimal digits.\\n\\nThe return value is an integer if ndigits is omitted or None.  Otherwise\\nthe return value has the same type as the number.  ndigits may be negative.'"
      ]
     },
     "execution_count": 5,
     "metadata": {},
     "output_type": "execute_result"
    }
   ],
   "source": [
    "round.__doc__"
   ]
  },
  {
   "cell_type": "code",
   "execution_count": 2,
   "metadata": {},
   "outputs": [
    {
     "data": {
      "text/plain": [
       "'это функция сумма цифр числа\\n    s num локальные переменные'"
      ]
     },
     "execution_count": 2,
     "metadata": {},
     "output_type": "execute_result"
    }
   ],
   "source": [
    "summa_ch.__doc__"
   ]
  },
  {
   "cell_type": "code",
   "execution_count": 3,
   "metadata": {},
   "outputs": [
    {
     "name": "stdout",
     "output_type": "stream",
     "text": [
      "Help on function summa_ch in module __main__:\n",
      "\n",
      "summa_ch(num)\n",
      "    это функция сумма цифр числа\n",
      "    s num локальные переменные\n",
      "\n"
     ]
    }
   ],
   "source": [
    "help(summa_ch)"
   ]
  },
  {
   "cell_type": "code",
   "execution_count": null,
   "metadata": {},
   "outputs": [],
   "source": [
    "def ИМЯ(parameters):\n",
    "\n",
    "\n",
    "\t\"\"\"docstring\"\"\"\n",
    "        \n",
    "\tтело функции"
   ]
  },
  {
   "cell_type": "code",
   "execution_count": null,
   "metadata": {},
   "outputs": [],
   "source": [
    "def function_name(parameters):\n",
    "\t\"\"\"docstring\"\"\"\n",
    "\tтело функции\n",
    "    s = 8 + s\n",
    "    return s # необъязательно"
   ]
  },
  {
   "cell_type": "markdown",
   "metadata": {},
   "source": [
    "По входному имени печатает Hello, 'введенное имя'"
   ]
  },
  {
   "cell_type": "code",
   "execution_count": 3,
   "metadata": {},
   "outputs": [
    {
     "name": "stdout",
     "output_type": "stream",
     "text": [
      "Hello, Mark\n",
      "Hello, Hellen\n"
     ]
    }
   ],
   "source": [
    "def hello(name):\n",
    "    print(\"Hello, \"+ name)\n",
    "    \n",
    "hello('Mark')\n",
    "hello('Hellen')"
   ]
  },
  {
   "cell_type": "code",
   "execution_count": 8,
   "metadata": {},
   "outputs": [
    {
     "name": "stdout",
     "output_type": "stream",
     "text": [
      "74555\n",
      "5\n"
     ]
    }
   ],
   "source": [
    "n = int(input())\n",
    "kol = 0\n",
    "while n !=0:\n",
    "    kol = kol +1\n",
    "    n = n //10\n",
    "print(kol)"
   ]
  },
  {
   "cell_type": "code",
   "execution_count": null,
   "metadata": {},
   "outputs": [],
   "source": [
    "def kol (n)\n",
    "    kol = 0\n",
    "    while n !=0:\n",
    "        kol = kol +1\n",
    "        n = n //10\n",
    "    return kol\n",
    "\n",
    "n = int(input())\n",
    "print(kol(n))"
   ]
  },
  {
   "cell_type": "code",
   "execution_count": 5,
   "metadata": {},
   "outputs": [
    {
     "name": "stdout",
     "output_type": "stream",
     "text": [
      "0\n",
      "1\n"
     ]
    }
   ],
   "source": [
    "n = int(input())\n",
    "\n",
    "def kolvo(n):\n",
    "    return len(str(n))\n",
    "\n",
    "print(kolvo(n))\n",
    "\n",
    "    "
   ]
  },
  {
   "cell_type": "code",
   "execution_count": 4,
   "metadata": {},
   "outputs": [
    {
     "name": "stdout",
     "output_type": "stream",
     "text": [
      "None\n"
     ]
    }
   ],
   "source": [
    "print(kolvo.__doc__)"
   ]
  },
  {
   "cell_type": "code",
   "execution_count": 13,
   "metadata": {},
   "outputs": [
    {
     "name": "stdout",
     "output_type": "stream",
     "text": [
      "[3, 4]\n"
     ]
    }
   ],
   "source": [
    "def kol(n):\n",
    "    t = []\n",
    "    for i in range(len(n)):\n",
    "        t. append(sum(n[i]))\n",
    "    return t\n",
    "    \n",
    "    \n",
    "n = [[1,2], [1,3]]\n",
    "print(kol(n))"
   ]
  },
  {
   "cell_type": "markdown",
   "metadata": {},
   "source": [
    "Выше показано определение функции, состоящее из следующих компонентов.\n",
    "\n",
    "1. Ключевое слово def, обозначающее начало заголовка функции.\n",
    "2. Имя функции для уникальной идентификации функции. Именование функций следует тем же правилам написания идентификаторов в Python .\n",
    "3. Параметры (аргументы), через которые мы передаем значения в функцию. Они являются необязательными.\n",
    "4. Двоеточие (:) для обозначения конца заголовка функции.\n",
    "5. Необязательная строка документации (docstring) для описания того, что делает функция.\n",
    "6. Один или несколько допустимых операторов Python, составляющих тело функции. Операторы должны иметь одинаковый уровень отступа (обычно 4 пробела).\n",
    "7. Необязательный return оператор для возврата значения из функции."
   ]
  },
  {
   "cell_type": "code",
   "execution_count": null,
   "metadata": {},
   "outputs": [],
   "source": [
    "from jjj.py import ff\n",
    "\n",
    "\n",
    "print(ff(2,3))"
   ]
  },
  {
   "cell_type": "code",
   "execution_count": null,
   "metadata": {},
   "outputs": [],
   "source": []
  },
  {
   "cell_type": "code",
   "execution_count": 11,
   "metadata": {},
   "outputs": [
    {
     "name": "stdout",
     "output_type": "stream",
     "text": [
      "8\n"
     ]
    }
   ],
   "source": [
    "\n",
    "def ff(x,y=0): # функция\n",
    "    '''Функция возведения х в степень у''' # документация\n",
    "    return x**y # возвращается значение\n",
    "\n",
    "print(ff(2, 3))\n",
    "  "
   ]
  },
  {
   "cell_type": "code",
   "execution_count": 12,
   "metadata": {},
   "outputs": [
    {
     "name": "stdout",
     "output_type": "stream",
     "text": [
      "1\n"
     ]
    }
   ],
   "source": [
    "print(ff(3))"
   ]
  },
  {
   "cell_type": "code",
   "execution_count": 5,
   "metadata": {},
   "outputs": [
    {
     "name": "stdout",
     "output_type": "stream",
     "text": [
      "8\n"
     ]
    }
   ],
   "source": [
    "def f(x,y): # функция\n",
    "    '''Функция возведения х в степень у''' # документация\n",
    "    return x**y # возвращается значение\n",
    "\n",
    "print(f(y=3, x=2))\n",
    "    "
   ]
  },
  {
   "cell_type": "code",
   "execution_count": 8,
   "metadata": {},
   "outputs": [
    {
     "name": "stdout",
     "output_type": "stream",
     "text": [
      "8\n"
     ]
    }
   ],
   "source": [
    "def f(x,y): # функция\n",
    "    '''Процедура возведения х в степень у''' # документация\n",
    "    print(x**y) # печать результата\n",
    "\n",
    "f(2,3)\n",
    "    "
   ]
  },
  {
   "cell_type": "code",
   "execution_count": 15,
   "metadata": {},
   "outputs": [
    {
     "name": "stdout",
     "output_type": "stream",
     "text": [
      "8\n",
      "None\n"
     ]
    }
   ],
   "source": [
    "def f(x,y): # функция\n",
    "    '''Процедура возведения х в степень у''' # документация\n",
    "    print(x**y) # печать результата\n",
    "\n",
    "print(f(2,3))"
   ]
  },
  {
   "cell_type": "code",
   "execution_count": 9,
   "metadata": {},
   "outputs": [
    {
     "name": "stdout",
     "output_type": "stream",
     "text": [
      "Процедура возведения х в степень у\n"
     ]
    }
   ],
   "source": [
    "print(f.__doc__)"
   ]
  },
  {
   "cell_type": "code",
   "execution_count": 10,
   "metadata": {},
   "outputs": [
    {
     "name": "stdout",
     "output_type": "stream",
     "text": [
      "Help on function f in module __main__:\n",
      "\n",
      "f(x, y)\n",
      "    Процедура возведения х в степень у\n",
      "\n"
     ]
    }
   ],
   "source": [
    "help(f)"
   ]
  },
  {
   "cell_type": "code",
   "execution_count": null,
   "metadata": {},
   "outputs": [],
   "source": [
    "def sch(num): \n",
    "    \"\"\"это функция смму\"\"\"\n",
    "    s=0\n",
    "    while num!=0:\n",
    "        s+= num % 10\n",
    "        num = num // 10\n",
    "    return s\n",
    "\n",
    "print(sch.__doc__)"
   ]
  },
  {
   "cell_type": "markdown",
   "metadata": {},
   "source": [
    "Напишите функцию модуль числа"
   ]
  },
  {
   "cell_type": "code",
   "execution_count": 10,
   "metadata": {},
   "outputs": [
    {
     "name": "stdout",
     "output_type": "stream",
     "text": [
      "2\n",
      "4\n"
     ]
    }
   ],
   "source": [
    "def absolute_value(num):\n",
    "    \"\"\"This function returns the absolute\n",
    "    value of the entered number\"\"\"\n",
    "\n",
    "    if num < 0:\n",
    "        num = -num\n",
    "    return num\n",
    "\n",
    "\n",
    "print(absolute_value(2))\n",
    "\n",
    "print(absolute_value(-4))"
   ]
  },
  {
   "cell_type": "code",
   "execution_count": 11,
   "metadata": {},
   "outputs": [
    {
     "name": "stdout",
     "output_type": "stream",
     "text": [
      "156\n",
      "12\n"
     ]
    }
   ],
   "source": [
    "num = int(input())\n",
    "s=0\n",
    "while num!=0:\n",
    "    s+= num % 10\n",
    "    num = num // 10\n",
    "print(s)"
   ]
  },
  {
   "cell_type": "code",
   "execution_count": 13,
   "metadata": {},
   "outputs": [
    {
     "name": "stdout",
     "output_type": "stream",
     "text": [
      "Введите первое число56\n",
      "сумма цифр числа 56 = 11\n",
      "Введите второе число89\n",
      "сумма цифр числа 89 = 17\n"
     ]
    }
   ],
   "source": [
    "def sch(num): \n",
    "    \"\"\"это функция сумма цифр числа\"\"\"\n",
    "    s=0\n",
    "    while num!=0:\n",
    "        s+= num % 10\n",
    "        num = num // 10\n",
    "    return s\n",
    "\n",
    "n =int(input(\"Введите первое число\"))\n",
    "z=sch(n)\n",
    "print(\"сумма цифр числа\",n, \"=\", z)\n",
    "m =int(input(\"Введите второе число\"))\n",
    "print(\"сумма цифр числа\",m, \"=\",sch(m))"
   ]
  },
  {
   "cell_type": "code",
   "execution_count": null,
   "metadata": {},
   "outputs": [],
   "source": [
    "def power(num,st): \n",
    "    return num**st\n",
    "\n",
    "num =int(input())  \n",
    "st =int(input())\n",
    "print(power(num,st))"
   ]
  },
  {
   "cell_type": "code",
   "execution_count": null,
   "metadata": {},
   "outputs": [],
   "source": [
    "import math\n",
    "def distance(x1, y1, x2, y2):\n",
    "    return math.sqrt((x1-x2)**2+(y1-y2)**2)\n",
    "\n",
    "a1,b1,a2,b2=float(input()), float(input()),float(input()), float(input())\n",
    "print(distance(a1, b1, a2, b2))"
   ]
  },
  {
   "cell_type": "code",
   "execution_count": null,
   "metadata": {},
   "outputs": [],
   "source": [
    "def minimum(a, b):\n",
    "    \"\"\" минимум \"\"\"\n",
    "    if a < b:\n",
    "        return  a\n",
    "    else:\n",
    "        return  b\n",
    "\n",
    "\n",
    "a1, b1, a2, b2 = map (int, input().split())\n",
    "print(minimum(minimum(a1, b1), minimum(a2, b2)))"
   ]
  },
  {
   "cell_type": "code",
   "execution_count": 13,
   "metadata": {},
   "outputs": [
    {
     "name": "stdout",
     "output_type": "stream",
     "text": [
      "5 8 7 9\n",
      "(5, 8, 7, 9)\n",
      "None\n"
     ]
    }
   ],
   "source": [
    "def minimum(*a):\n",
    "    \"\"\" минимум \"\"\"\n",
    "    print(a)\n",
    "\n",
    "\n",
    "a1, b1, a2, b2 = map (int, input().split())\n",
    "print(minimum(a1, b1,a2, b2))"
   ]
  },
  {
   "cell_type": "code",
   "execution_count": null,
   "metadata": {},
   "outputs": [],
   "source": [
    "def xor(a,b):\n",
    "    if a==b:\n",
    "        return 0\n",
    "    else:\n",
    "        return 1\n",
    "        \n",
    "x,y = map(int, input().split())\n",
    "print(xor(x,y))"
   ]
  },
  {
   "cell_type": "code",
   "execution_count": null,
   "metadata": {},
   "outputs": [],
   "source": [
    "https://docs.python.org/3/library/index.html\n",
    "https://www.netacad.com/  \n",
    "https://www.netacad.com/courses/programming"
   ]
  },
  {
   "cell_type": "code",
   "execution_count": null,
   "metadata": {},
   "outputs": [],
   "source": [
    "ДЗ\n",
    "https://informatics.msk.ru/mod/statements/view.php?id=26735&chapterid=113654#1"
   ]
  },
  {
   "cell_type": "code",
   "execution_count": 13,
   "metadata": {},
   "outputs": [
    {
     "name": "stdout",
     "output_type": "stream",
     "text": [
      "2\n"
     ]
    }
   ],
   "source": [
    "def minimum(a = 0, b = 100):\n",
    "    \"\"\" минимум \"\"\"\n",
    "    if a < b:\n",
    "        return  a\n",
    "    else:\n",
    "        return  b\n",
    "\n",
    "\n",
    "print(minimum(2, 89))"
   ]
  },
  {
   "cell_type": "code",
   "execution_count": 1,
   "metadata": {},
   "outputs": [
    {
     "name": "stdout",
     "output_type": "stream",
     "text": [
      "Hello Monica, Good morning!\n"
     ]
    }
   ],
   "source": [
    "def greet(name, msg):\n",
    "    \"\"\"This function greets to\n",
    "    the person with the provided message\"\"\"\n",
    "    print(\"Hello\", name + ', ' + msg)\n",
    "\n",
    "greet(\"Monica\", \"Good morning!\")"
   ]
  },
  {
   "cell_type": "code",
   "execution_count": 2,
   "metadata": {},
   "outputs": [
    {
     "name": "stdout",
     "output_type": "stream",
     "text": [
      "Hello Monica, Good bay!\n"
     ]
    }
   ],
   "source": [
    "def greet(name, msg):\n",
    "    \"\"\"This function greets to\n",
    "    the person with the provided message\"\"\"\n",
    "    print(\"Hello\", name + ', ' + msg)\n",
    "\n",
    "greet(\"Monica\", \"Good bay!\")"
   ]
  },
  {
   "cell_type": "code",
   "execution_count": 3,
   "metadata": {},
   "outputs": [
    {
     "name": "stdout",
     "output_type": "stream",
     "text": [
      "Hello Monica, Good bay!\n"
     ]
    }
   ],
   "source": [
    "def greet(name, msg = \"Good morning!\"):\n",
    "    \"\"\"This function greets to\n",
    "    the person with the provided message\"\"\"\n",
    "    print(\"Hello\", name + ', ' + msg)\n",
    "\n",
    "greet(\"Monica\", \"Good bay!\")"
   ]
  },
  {
   "cell_type": "code",
   "execution_count": 4,
   "metadata": {},
   "outputs": [
    {
     "name": "stdout",
     "output_type": "stream",
     "text": [
      "Hello Monica, Good morning!\n"
     ]
    }
   ],
   "source": [
    "def greet(name, msg = \"Good morning!\"):\n",
    "    \"\"\"This function greets to\n",
    "    the person with the provided message\"\"\"\n",
    "    print(\"Hello\", name + ', ' + msg)\n",
    "\n",
    "greet(\"Monica\")"
   ]
  },
  {
   "cell_type": "code",
   "execution_count": 5,
   "metadata": {},
   "outputs": [
    {
     "name": "stdout",
     "output_type": "stream",
     "text": [
      "Hello Monica, Good bay\n"
     ]
    }
   ],
   "source": [
    "def greet(name, msg = \"Good morning!\"):\n",
    "    \"\"\"This function greets to\n",
    "    the person with the provided message\"\"\"\n",
    "    print(\"Hello\", name + ', ' + msg)\n",
    "\n",
    "greet(msg = \"Good bay\", name = \"Monica\")"
   ]
  },
  {
   "cell_type": "code",
   "execution_count": 6,
   "metadata": {},
   "outputs": [
    {
     "name": "stdout",
     "output_type": "stream",
     "text": [
      "Hello Monica\n"
     ]
    }
   ],
   "source": [
    "def greet(*names):\n",
    "    \"\"\"This function greets all\n",
    "    the person in the names tuple.\"\"\"\n",
    "\n",
    "    # names is a tuple with arguments\n",
    "    for name in names:\n",
    "        print(\"Hello\", name)\n",
    "\n",
    "\n",
    "greet(\"Monica\")"
   ]
  },
  {
   "cell_type": "code",
   "execution_count": 7,
   "metadata": {},
   "outputs": [
    {
     "name": "stdout",
     "output_type": "stream",
     "text": [
      "Hello Monica\n",
      "Hello Luke\n",
      "Hello Steve\n",
      "Hello John\n"
     ]
    }
   ],
   "source": [
    "def greet(*names):\n",
    "    \"\"\"This function greets all\n",
    "    the person in the names tuple.\"\"\"\n",
    "\n",
    "    # names is a tuple with arguments\n",
    "    for name in names:\n",
    "        print(\"Hello\", name)\n",
    "\n",
    "\n",
    "greet(\"Monica\", \"Luke\", \"Steve\", \"John\")"
   ]
  },
  {
   "cell_type": "code",
   "execution_count": 15,
   "metadata": {},
   "outputs": [
    {
     "name": "stdout",
     "output_type": "stream",
     "text": [
      "Hello a\n",
      "Hello v\n",
      "Hello s\n",
      "Hello k\n"
     ]
    }
   ],
   "source": [
    "def greet(**names):\n",
    "    \"\"\"This function greets all\n",
    "    the person in the names tuple.\"\"\"\n",
    "\n",
    "    # names is a tuple with arguments\n",
    "    for name in names:\n",
    "        print(\"Hello\", name)\n",
    "\n",
    "\n",
    "greet(a = \"Monica\", v =\"Luke\", s =\"Steve\", k =\"John\")"
   ]
  },
  {
   "cell_type": "code",
   "execution_count": null,
   "metadata": {},
   "outputs": [],
   "source": [
    "def mi(*a):\n",
    "    m = a[0]\n",
    "    for i in a:\n",
    "        if i< m:\n",
    "            m = i\n",
    "    return i\n",
    "\n",
    "\n",
    "print(mi(1,8,4,3,9,0))"
   ]
  }
 ],
 "metadata": {
  "kernelspec": {
   "display_name": "Python 3",
   "language": "python",
   "name": "python3"
  },
  "language_info": {
   "codemirror_mode": {
    "name": "ipython",
    "version": 3
   },
   "file_extension": ".py",
   "mimetype": "text/x-python",
   "name": "python",
   "nbconvert_exporter": "python",
   "pygments_lexer": "ipython3",
   "version": "3.8.3"
  }
 },
 "nbformat": 4,
 "nbformat_minor": 4
}
